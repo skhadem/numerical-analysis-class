{
  "nbformat": 4,
  "nbformat_minor": 0,
  "metadata": {
    "colab": {
      "name": "Ch6_MatrixMultiplication.ipynb",
      "provenance": [],
      "collapsed_sections": [],
      "authorship_tag": "ABX9TyPz/uuhXm5KHBCMX9nSpn6o",
      "include_colab_link": true
    },
    "kernelspec": {
      "name": "python3",
      "display_name": "Python 3"
    }
  },
  "cells": [
    {
      "cell_type": "markdown",
      "metadata": {
        "id": "view-in-github",
        "colab_type": "text"
      },
      "source": [
        "<a href=\"https://colab.research.google.com/github/stephenbeckr/numerical-analysis-class/blob/master/Demos/Ch6_MatrixMultiplication.ipynb\" target=\"_parent\"><img src=\"https://colab.research.google.com/assets/colab-badge.svg\" alt=\"Open In Colab\"/></a>"
      ]
    },
    {
      "cell_type": "markdown",
      "metadata": {
        "id": "svpUM6IqyFCU"
      },
      "source": [
        "# Matrix Multiplication\n",
        "\n",
        "1. Writing our own code and comparing to `numpy`\n",
        "2. Level-3 BLAS vs repeated level-2 BLAS calls\n",
        "3. Blocking/caching\n",
        "\n",
        "There are interesting further resources on this MIT 18.335 numerical analysis class website, taught by Steven Johnson (developer of [FFTW](https://en.wikipedia.org/wiki/FFTW))\n",
        "- [Main class website and syllabus](https://github.com/mitmath/18335#lecture-11-feb-26)\n",
        "- [PDF on speed of matrix multiplies](https://github.com/mitmath/18335/blob/master/notes/matmuls.pdf)\n",
        "- [Interactive Jupyter notebook, in Julia, doing matrix multiplies](https://github.com/mitmath/18335/blob/master/notes/Memory-and-Matrices.ipynb)\n",
        "\n",
        "We'll talk about a few things like\n",
        "- [BLAS](https://en.wikipedia.org/wiki/Basic_Linear_Algebra_Subprograms), such as Intel's [MKL](https://en.wikipedia.org/wiki/Math_Kernel_Library). BLAS is used by Matlab, Mathematica, Python (Numpy), R and Julia\n",
        "- [LAPACK](https://en.wikipedia.org/wiki/LAPACK), used by Matlab, Python (Scipy), and Julia\n",
        "   - There are newer linear algebra libraries that are useful in some contexts, such as [EIGEN](http://eigen.tuxfamily.org/index.php?title=FAQ) for C++, [libFLAME](https://www.cs.utexas.edu/~flame/web/libFLAME.html), [CUDA libraries](https://docs.nvidia.com/cuda-libraries/index.html) for the GPU including [MAGMA](https://developer.nvidia.com/magma) and others listed at the [CUDA-X \"Parter Libraries](https://developer.nvidia.com/gpu-accelerated-libraries) (scroll down)\n",
        "- Python can be accelerated a few ways, including:\n",
        "  1. [PyPy](https://en.wikipedia.org/wiki/PyPy) which has a [just-in-time-compiler](https://en.wikipedia.org/wiki/Just-in-time_compilation)\n",
        "  2. [Cython](https://en.wikipedia.org/wiki/Cython)\n",
        "  3. [Numba](https://numba.pydata.org/)"
      ]
    },
    {
      "cell_type": "code",
      "metadata": {
        "id": "3d3eHRYGyBX9"
      },
      "source": [
        "import numpy as np\n",
        "from numpy.random import default_rng\n",
        "rng = default_rng()\n",
        "from timeit import timeit, time\n",
        "import matplotlib.pyplot as plt\n",
        "\n",
        "# Helper routine to print out matrices nicely\n",
        "def matprint(mat, fmt=\"g\",roundToDecimal=3):\n",
        "  # from https://gist.github.com/braingineer/d801735dac07ff3ac4d746e1f218ab75\n",
        "  # Modified to round\n",
        "  if roundToDecimal is not None:\n",
        "    mat = np.round(mat,decimals=roundToDecimal)\n",
        "  col_maxes = [max([len((\"{:\"+fmt+\"}\").format(x)) for x in col]) for col in mat.T]\n",
        "  for x in mat:\n",
        "    for i, y in enumerate(x):\n",
        "      print((\"{:\"+str(col_maxes[i])+fmt+\"}\").format(y), end=\"  \")\n",
        "    print(\"\")"
      ],
      "execution_count": null,
      "outputs": []
    },
    {
      "cell_type": "markdown",
      "metadata": {
        "id": "iDU17kScElbF"
      },
      "source": [
        "Check which [BLAS](https://en.wikipedia.org/wiki/Basic_Linear_Algebra_Subprograms) numpy is using"
      ]
    },
    {
      "cell_type": "code",
      "metadata": {
        "colab": {
          "base_uri": "https://localhost:8080/"
        },
        "id": "16VvnxpIEpJ6",
        "outputId": "f56204d7-63e9-4e47-96b1-a4acf405efbd"
      },
      "source": [
        "np.show_config()"
      ],
      "execution_count": null,
      "outputs": [
        {
          "output_type": "stream",
          "text": [
            "blas_mkl_info:\n",
            "  NOT AVAILABLE\n",
            "blis_info:\n",
            "  NOT AVAILABLE\n",
            "openblas_info:\n",
            "    libraries = ['openblas', 'openblas']\n",
            "    library_dirs = ['/usr/local/lib']\n",
            "    language = c\n",
            "    define_macros = [('HAVE_CBLAS', None)]\n",
            "blas_opt_info:\n",
            "    libraries = ['openblas', 'openblas']\n",
            "    library_dirs = ['/usr/local/lib']\n",
            "    language = c\n",
            "    define_macros = [('HAVE_CBLAS', None)]\n",
            "lapack_mkl_info:\n",
            "  NOT AVAILABLE\n",
            "openblas_lapack_info:\n",
            "    libraries = ['openblas', 'openblas']\n",
            "    library_dirs = ['/usr/local/lib']\n",
            "    language = c\n",
            "    define_macros = [('HAVE_CBLAS', None)]\n",
            "lapack_opt_info:\n",
            "    libraries = ['openblas', 'openblas']\n",
            "    library_dirs = ['/usr/local/lib']\n",
            "    language = c\n",
            "    define_macros = [('HAVE_CBLAS', None)]\n"
          ],
          "name": "stdout"
        }
      ]
    },
    {
      "cell_type": "markdown",
      "metadata": {
        "id": "cM9BD3kIE3-N"
      },
      "source": [
        "Check how many [cores](https://en.wikipedia.org/wiki/Multi-core_processor) are available to us, and how many we are using.  Most BLAS is multithreaded and will take advantage of extra cores (we use \"[multithreading](https://en.wikipedia.org/wiki/Multithreading_(computer_architecture))\" to talk about [parallelism](https://en.wikipedia.org/wiki/Parallel_computing) on a single CPU usually with a [shared memory](https://en.wikipedia.org/wiki/Shared_memory), in contrast to other types of parallel computing that run on several differenct computers, e.g., on a [cluster](https://en.wikipedia.org/wiki/Computer_cluster))\n",
        "\n",
        "On colab, we only have 2 cores (perhaps 1 real core, using [hyperthreading](https://en.wikipedia.org/wiki/Hyper-threading) to appear as 2 cores?) because Google is giving the computation away for free, so they don't give us too much.  On your own computer, expect to see a number like 4, 8, 16 or 32 (for a desktop).\n",
        "\n",
        "So if we really wanted to, we could tell `numpy` to only use 1 core, to make it a more fair comparison with our own Python implementations which will not be multithreaded"
      ]
    },
    {
      "cell_type": "code",
      "metadata": {
        "colab": {
          "base_uri": "https://localhost:8080/"
        },
        "id": "vLFUDj3A2tpZ",
        "outputId": "85b9d7e7-40fd-43b0-fb24-a8d5979ccd3d"
      },
      "source": [
        "# Simplified from https://stackoverflow.com/a/29582987\n",
        "import ctypes\n",
        "import contextlib\n",
        "def set_num_threads(n):\n",
        "    \"\"\"Set the current number of threads used by the OpenBLAS server.\"\"\"\n",
        "    openblas_lib.openblas_set_num_threads(int(n))\n",
        "def get_num_threads():\n",
        "    \"\"\"Get the current number of threads used by the OpenBLAS server.\"\"\"\n",
        "    return openblas_lib.openblas_get_num_threads()\n",
        "@contextlib.contextmanager\n",
        "def num_threads(n):\n",
        "  \"\"\"Temporarily changes the number of OpenBLAS threads.\n",
        "  Use like\n",
        "  with num_threads(1):\n",
        "    np.dot(x, y)\n",
        "  \"\"\"\n",
        "  set_num_threads(n)\n",
        "\n",
        "openblas_lib = ctypes.cdll.LoadLibrary('libopenblas.so.0')\n",
        "print(\"We have\",openblas_lib.openblas_get_num_procs(),\"cores available\")"
      ],
      "execution_count": null,
      "outputs": [
        {
          "output_type": "stream",
          "text": [
            "We have 2 cores available\n"
          ],
          "name": "stdout"
        }
      ]
    },
    {
      "cell_type": "markdown",
      "metadata": {
        "id": "ont7iOF4tzK_"
      },
      "source": [
        "## Writing our own matrix multiply\n",
        "**Never** do this.  It's super slow, as we'll see why\n",
        "\n",
        "This [MIT 18.335 Memory-and-Matrices](https://github.com/mitmath/18335/blob/master/notes/Memory-and-Matrices.ipynb) jupyter notebook (using Julia, not Python) gives a good discussion of some issues (caching and [cache-oblivious algorithms](https://en.wikipedia.org/wiki/Cache-oblivious_algorithm), multithreading, [vector instructions](https://en.wikipedia.org/wiki/Vector_processor) like [AVX](https://en.wikipedia.org/wiki/Advanced_Vector_Extensions), [unrolling](https://en.wikipedia.org/wiki/Loop_unrolling), etc.)\n",
        "\n",
        "Note: if you had some code that you couldn't call from a library and had to write your own version, and speed was really important, there are several options you can try, including:\n",
        "1. Try [PyPy](https://en.wikipedia.org/wiki/PyPy) which has a [just-in-time-compiler](https://en.wikipedia.org/wiki/Just-in-time_compilation)\n",
        "2. Try [Cython](https://en.wikipedia.org/wiki/Cython)\n",
        "3. Try [Numba](https://numba.pydata.org/)\n",
        "4. [Call C or C++ from within Python](https://docs.python.org/3/extending/extending.html).  In Matlab, you do this with a [mex](https://www.mathworks.com/help/matlab/call-mex-file-functions.html) file"
      ]
    },
    {
      "cell_type": "code",
      "metadata": {
        "id": "wFT4snbRLVVX"
      },
      "source": [
        "def matrix_multiply(A,B,algorithm=1):\n",
        "  m,q = A.shape\n",
        "  p,n = B.shape\n",
        "  if q != p:\n",
        "    raise ValueError('the matrices must have matching inner dimension')\n",
        "  C = np.zeros((m,n))\n",
        "  if algorithm == 1:\n",
        "    for i in range(m):\n",
        "      a = A[i,:] # We can try to give suggestions to make it faster, but unlikely to change much if done in pure Python\n",
        "      for j in range(n):\n",
        "        for k in range(q):\n",
        "          #C[i,j] += A[i,k]*B[k,j]\n",
        "          C[i,j] += a[k]*B[k,j]\n",
        "  elif algorithm == 2:\n",
        "    for j in range(n):\n",
        "      for i in range(m):\n",
        "        for k in range(q):\n",
        "          C[i,j] += A[i,k]*B[k,j]\n",
        "  elif algorithm == 3:\n",
        "    for i in range(m):\n",
        "      for k in range(q):\n",
        "        for j in range(n):\n",
        "          C[i,j] += A[i,k]*B[k,j]\n",
        "  # There are other ways to do it too...\n",
        "  return C\n",
        "\n",
        "def my_dot_product(a,b):\n",
        "  c = 0.\n",
        "  for i in range(len(a)):\n",
        "    c += a[i]*b[i]\n",
        "  return c"
      ],
      "execution_count": null,
      "outputs": []
    },
    {
      "cell_type": "markdown",
      "metadata": {
        "id": "s4WkCUgtuSkx"
      },
      "source": [
        "#### See if we get the right answer\n",
        "Start with a small problem"
      ]
    },
    {
      "cell_type": "code",
      "metadata": {
        "colab": {
          "base_uri": "https://localhost:8080/"
        },
        "id": "kcsNPRx23a74",
        "outputId": "06882871-0e46-4884-ae25-c5b80f575c2b"
      },
      "source": [
        "seed = 12345\n",
        "rng = default_rng(seed) # reproducible\n",
        "# rng = default_rng() # gives us new random numbers ever time\n",
        "n = 4\n",
        "A = rng.standard_normal((n,n))\n",
        "B = rng.standard_normal((n,n))\n",
        "matprint(A)"
      ],
      "execution_count": null,
      "outputs": [
        {
          "output_type": "stream",
          "text": [
            "-1.424   1.264  -0.871  -0.259  \n",
            "-0.075  -0.741  -1.368   0.649  \n",
            " 0.361  -1.953   2.347   0.968  \n",
            "-0.759   0.902  -0.467  -0.061  \n"
          ],
          "name": "stdout"
        }
      ]
    },
    {
      "cell_type": "code",
      "metadata": {
        "colab": {
          "base_uri": "https://localhost:8080/"
        },
        "id": "5FtCqi_IMc5C",
        "outputId": "c1f13a98-c39a-4eab-f9a4-7dacab162803"
      },
      "source": [
        "C = matrix_multiply(A,B,algorithm=1)\n",
        "print(\"Our answer is:\")\n",
        "matprint(C)\n",
        "print(\"And true answer is:\")\n",
        "matprint(A@B)\n",
        "print(f\"i.e., norm(error) is {np.linalg.norm(C-A@B):.3e}\")"
      ],
      "execution_count": null,
      "outputs": [
        {
          "output_type": "stream",
          "text": [
            "Our answer is:\n",
            " 0.239  0.341   1.289  -4.185  \n",
            " 0.296  1.401    1.63   1.745  \n",
            "-0.998  3.722  -3.956   4.283  \n",
            " 0.563  0.315   0.958  -2.538  \n",
            "And true answer is:\n",
            " 0.239  0.341   1.289  -4.185  \n",
            " 0.296  1.401    1.63   1.745  \n",
            "-0.998  3.722  -3.956   4.283  \n",
            " 0.563  0.315   0.958  -2.538  \n",
            "i.e., norm(error) is 2.618e-16\n"
          ],
          "name": "stdout"
        }
      ]
    },
    {
      "cell_type": "markdown",
      "metadata": {
        "id": "vrzL7dNduYJ7"
      },
      "source": [
        "#### Now try some timing\n"
      ]
    },
    {
      "cell_type": "code",
      "metadata": {
        "colab": {
          "base_uri": "https://localhost:8080/"
        },
        "id": "zMtQLvYwOGM2",
        "outputId": "ae687608-fadc-4067-c854-cc4e70a32aee"
      },
      "source": [
        "n = 350\n",
        "A = rng.standard_normal((n,n))\n",
        "B = rng.standard_normal((n,n))\n",
        "\n",
        "start_time = time.time()\n",
        "%time C = matrix_multiply(A,B,algorithm=1)\n",
        "myTime = time.time() - start_time\n",
        "\n",
        "%time C = matrix_multiply(A,B,algorithm=2)\n",
        "# %time C = matrix_multiply(A,B,algorithm=3)\n",
        "\n",
        "start_time = time.time()\n",
        "%time C = A@B\n",
        "numpyTime = time.time() - start_time\n",
        "\n",
        "print(f'My code took {myTime:.4f} sec, numpy took {numpyTime:.4f} sec, so it was {myTime/numpyTime:.1f} faster')"
      ],
      "execution_count": null,
      "outputs": [
        {
          "output_type": "stream",
          "text": [
            "CPU times: user 31.4 s, sys: 8.9 ms, total: 31.4 s\n",
            "Wall time: 31.5 s\n",
            "CPU times: user 32.9 s, sys: 2.13 ms, total: 32.9 s\n",
            "Wall time: 33 s\n",
            "CPU times: user 6.54 ms, sys: 995 µs, total: 7.54 ms\n",
            "Wall time: 3.83 ms\n",
            "My code took 31.4832 sec, numpy took 0.0050 sec, so it was 6350.1 faster\n"
          ],
          "name": "stdout"
        }
      ]
    },
    {
      "cell_type": "markdown",
      "metadata": {
        "id": "EfwLRVN0uctl"
      },
      "source": [
        "Let's also see how slow our dot product is"
      ]
    },
    {
      "cell_type": "code",
      "metadata": {
        "colab": {
          "base_uri": "https://localhost:8080/"
        },
        "id": "PMjDLQHPQOWY",
        "outputId": "f8456386-9b6e-4414-c91a-64ba1da82519"
      },
      "source": [
        "# For level-1 operations, there's less of a performance loss\n",
        "a = A.ravel()  # doesn't create new data (unlike flatten)\n",
        "b = B.ravel()\n",
        "start_time = time.time()\n",
        "%time c1 = my_dot_product(a,b)\n",
        "myTime = time.time() - start_time\n",
        "start_time = time.time()\n",
        "%time c2 = np.dot(a,b)\n",
        "numpyTime = time.time() - start_time  \n",
        "print(\"Discrepancy is\", c1-c2 )\n",
        "print(f'My code took {myTime:.4f} sec, numpy took {numpyTime:.4f} sec, so it was {myTime/numpyTime:.1f} faster')"
      ],
      "execution_count": null,
      "outputs": [
        {
          "output_type": "stream",
          "text": [
            "CPU times: user 66.5 ms, sys: 1 µs, total: 66.5 ms\n",
            "Wall time: 69.2 ms\n",
            "CPU times: user 366 µs, sys: 95 µs, total: 461 µs\n",
            "Wall time: 279 µs\n",
            "Discrepancy is -2.1600499167107046e-12\n",
            "My code took 0.0702 sec, numpy took 0.0018 sec, so it was 39.8 faster\n"
          ],
          "name": "stdout"
        }
      ]
    },
    {
      "cell_type": "markdown",
      "metadata": {
        "id": "3cCRwt73uhok"
      },
      "source": [
        "The performance loss for our dot product (Level-1 BLAS) wasn't as bad (only 15x to 30x slower) compared to for a matrix multiply (Level-3 BLAS) (2,000x to 3,000x slower)"
      ]
    },
    {
      "cell_type": "markdown",
      "metadata": {
        "id": "QCuQip1MusG2"
      },
      "source": [
        "### .. but of course a Python multiply is slow\n",
        "Everyone knows Python and Matlab (and interpreted languages) are not fast with `for` loops.\n",
        "\n",
        "Let's make it more fair: let's do an implementation in C, and try a larger matrix"
      ]
    },
    {
      "cell_type": "code",
      "metadata": {
        "colab": {
          "base_uri": "https://localhost:8080/"
        },
        "id": "vgNEy4KcnEb0",
        "outputId": "4e7cd007-2875-421d-e3b8-fd2d359055a9"
      },
      "source": [
        "n = 1000\n",
        "A = rng.standard_normal((n,n))\n",
        "B = rng.standard_normal((n,n))\n",
        "\n",
        "%time C = A@B\n",
        "# Note: we have 2 threads, so wall time is about 1/2 of total time\n",
        "# (the first line reports the sum of times in all processors)"
      ],
      "execution_count": null,
      "outputs": [
        {
          "output_type": "stream",
          "text": [
            "CPU times: user 122 ms, sys: 1.95 ms, total: 124 ms\n",
            "Wall time: 63.6 ms\n"
          ],
          "name": "stdout"
        }
      ]
    },
    {
      "cell_type": "markdown",
      "metadata": {
        "id": "wxYUAkIQu4ss"
      },
      "source": [
        "Our C implementation (note: we hardcode the size at $n=1000$ for simplicity)"
      ]
    },
    {
      "cell_type": "code",
      "metadata": {
        "id": "8IhcqkFVoRGV"
      },
      "source": [
        "C_program = \"\"\"\n",
        "#include <stdlib.h>\n",
        "#include <stdio.h>\n",
        "#include <time.h>\n",
        "int main() {\n",
        "    int M, N, P, i, j, k;\n",
        "    double *A, *B, *C;\n",
        "    double c;\n",
        "    clock_t t;\n",
        "    N   = 1000;\n",
        "    M   = N;\n",
        "    P   = N;\n",
        "    A   = (double *)calloc(M*P,sizeof(double));\n",
        "    B   = (double *)calloc(P*N,sizeof(double));\n",
        "    C   = (double *)calloc(M*N,sizeof(double));\n",
        "    /* initialize A and B */\n",
        "    for (i=0;i<M;i++)\n",
        "        for (j=0;j<P;j++)\n",
        "            A[i+j*M] = i + j*M;\n",
        "    for (i=0;i<P;i++)\n",
        "        for (j=0;j<N;j++)\n",
        "            B[i+j*P] = i + j*P;\n",
        "    /* the multiply */\n",
        "    t = clock();\n",
        "    for (i=0;i<M;i++){\n",
        "        for (j=0;j<N;j++){\n",
        "            c = 0.0;\n",
        "            for (k=0; k<P; k++)\n",
        "                c += A[i+k*M] * B[k+j*P];\n",
        "            C[i+j*M] = c;\n",
        "        }\n",
        "    }\n",
        "    t = clock() - t;\n",
        "    printf(\"Time take is %.5f seconds\\\\n\", ((double)t)/CLOCKS_PER_SEC );\n",
        "    /* If we don't do something with C, then eager compiler will decide we\n",
        "     * don't even need to calculate it, and code won't do anything! */\n",
        "    printf(\"First entry in C is %.2f\\\\n\", C[0] );\n",
        "    return 0;\n",
        "}\n",
        "\"\"\""
      ],
      "execution_count": null,
      "outputs": []
    },
    {
      "cell_type": "markdown",
      "metadata": {
        "id": "Dt76znXnvA5F"
      },
      "source": [
        "Save this to a file:"
      ]
    },
    {
      "cell_type": "code",
      "metadata": {
        "colab": {
          "base_uri": "https://localhost:8080/"
        },
        "id": "irvWmu_MppY0",
        "outputId": "6db8d1ef-789f-48fb-f264-336f0b58a7b1"
      },
      "source": [
        "%store C_program > matMult.c\n",
        "#  run !cat matMult.c   to see if it worked"
      ],
      "execution_count": null,
      "outputs": [
        {
          "output_type": "stream",
          "text": [
            "Writing 'C_program' (str) to file 'matMult.c'.\n"
          ],
          "name": "stdout"
        }
      ]
    },
    {
      "cell_type": "markdown",
      "metadata": {
        "id": "B76LxwqtvCPg"
      },
      "source": [
        "Compile the code using the `gcc` compiler, which is available on the colab virtual computer"
      ]
    },
    {
      "cell_type": "code",
      "metadata": {
        "id": "ftXhh51LptT0"
      },
      "source": [
        "!gcc -O3 matMult.c -o matMult.out"
      ],
      "execution_count": null,
      "outputs": []
    },
    {
      "cell_type": "markdown",
      "metadata": {
        "id": "3aM8QDEbvIWo"
      },
      "source": [
        "Run the code (note: in the C code, we are using the somewhat crude `clock` function, but we have to do something since we don't want to include the time for making the matrices)"
      ]
    },
    {
      "cell_type": "code",
      "metadata": {
        "colab": {
          "base_uri": "https://localhost:8080/"
        },
        "id": "EpvrL3c-qyrb",
        "outputId": "eda397e4-22bf-48e2-c560-764ff6531108"
      },
      "source": [
        "!./matMult.out"
      ],
      "execution_count": null,
      "outputs": [
        {
          "output_type": "stream",
          "text": [
            "Time take is 2.70696 seconds\n",
            "First entry in C is 332833500000.00\n"
          ],
          "name": "stdout"
        }
      ]
    },
    {
      "cell_type": "markdown",
      "metadata": {
        "id": "fyoJRqlevUb_"
      },
      "source": [
        "## Level-3 vs Level-2 BLAS"
      ]
    },
    {
      "cell_type": "markdown",
      "metadata": {
        "id": "1MiLgL5WI8kq"
      },
      "source": [
        "We'll multiply two 2000 x 2000 matrices, first as just a single level-3 BLAS call:"
      ]
    },
    {
      "cell_type": "code",
      "metadata": {
        "colab": {
          "base_uri": "https://localhost:8080/"
        },
        "id": "qpzXnpGxrivY",
        "outputId": "fa6db364-b73b-454e-b02a-30dc365b9e41"
      },
      "source": [
        "n = 1000\n",
        "A = rng.standard_normal((n,n))\n",
        "B = rng.standard_normal((n,n))\n",
        "\n",
        "start_time = time.time()\n",
        "%time C = A@B\n",
        "numpy_time = time.time() - start_time"
      ],
      "execution_count": null,
      "outputs": [
        {
          "output_type": "stream",
          "text": [
            "CPU times: user 124 ms, sys: 1.83 ms, total: 126 ms\n",
            "Wall time: 64.7 ms\n"
          ],
          "name": "stdout"
        }
      ]
    },
    {
      "cell_type": "markdown",
      "metadata": {
        "id": "DIYEvLdBJE2G"
      },
      "source": [
        "We can also view it as loops:\n",
        "$$A=\\begin{bmatrix}-\\,a_1^T\\,-\\\\-\\,a_2^T\\,-\\\\-\\,a_3^T\\,-\\end{bmatrix},\\quad\n",
        "B=\\begin{bmatrix}|&|&|\\\\b_1&b_2&b_3\\\\|&|&|\\end{bmatrix}\n",
        "$$\n",
        "so \n",
        "$$AB = \\begin{bmatrix}|&|&|\\\\Ab_1&Ab_2&Ab_3\\\\|&|&|\\end{bmatrix}\n",
        "$$\n",
        "and\n",
        "$$AB=\\begin{bmatrix}-\\,a_1^TB\\,-\\\\-\\,a_2^TB\\,-\\\\-\\,a_3^TB\\,-\\end{bmatrix}$$"
      ]
    },
    {
      "cell_type": "code",
      "metadata": {
        "colab": {
          "base_uri": "https://localhost:8080/"
        },
        "id": "drwMHca5vek-",
        "outputId": "a7297b20-8f45-4a8d-e76a-7c6024c71960"
      },
      "source": [
        "CC = np.zeros((n,n))\n",
        "# Loop over columns of the output C\n",
        "start_time = time.time()\n",
        "for i in range(n):\n",
        "  CC[:,i] = A@B[:,i]\n",
        "my_time1 = time.time() - start_time\n",
        "np.linalg.norm(C-CC) # make sure we get the right answer\n",
        "\n",
        "CC = np.zeros((n,n))\n",
        "# Loop over rows of the output C\n",
        "# (should be a bit faster since numpy uses row-major order)\n",
        "start_time = time.time()\n",
        "for i in range(n):\n",
        "  CC[i,:] = A[i,:]@B\n",
        "my_time2 = time.time() - start_time\n",
        "\n",
        "# np.linalg.norm(C-CC) # make sure we get the right answer\n",
        "print(f\"Looping over columns, code took {my_time1:.3f} sec, so {my_time1/numpy_time:.1f} x slower\")\n",
        "print(f\"Looping over rows,    code took {my_time2:.3f} sec, so {my_time2/numpy_time:.1f} x slower\")"
      ],
      "execution_count": null,
      "outputs": [
        {
          "output_type": "stream",
          "text": [
            "Looping over columns, code took 0.431 sec, so 6.5 x slower\n",
            "Looping over rows,    code took 0.355 sec, so 5.4 x slower\n"
          ],
          "name": "stdout"
        }
      ]
    },
    {
      "cell_type": "markdown",
      "metadata": {
        "id": "JCoBzdVZx01v"
      },
      "source": [
        "## Speed vs size and caching\n",
        "We can check that we see $O(n^3)$ speed complexity\n",
        "\n",
        "However, the curve may not be that smooth due to caching issues, e.g., some sizes fit nicely into cache, others don't and so require more ache calls.  BLAS tries to be careful about this so we won't see such a difference.  Our own code isn't so careful so we might see a big difference, but... our code is so slow that it takes a long time and we can't test a wide variety of input sizes"
      ]
    },
    {
      "cell_type": "code",
      "metadata": {
        "id": "xO_KlmBdv02R"
      },
      "source": [
        "reps = 5\n",
        "nList = range(30,400)\n",
        "timeList = []\n",
        "for n in nList:\n",
        "  A = rng.standard_normal((n,n))\n",
        "  B = rng.standard_normal((n,n))\n",
        "  start_time = time.time()\n",
        "  for r in range(reps):\n",
        "    C = A@B\n",
        "  myTime = time.time() - start_time\n",
        "  timeList.append( myTime/reps )"
      ],
      "execution_count": null,
      "outputs": []
    },
    {
      "cell_type": "code",
      "metadata": {
        "colab": {
          "base_uri": "https://localhost:8080/",
          "height": 899
        },
        "id": "ShPOYDdQ3nys",
        "outputId": "a98db377-8cc3-4968-ad7a-90128f68b47c"
      },
      "source": [
        "plt.figure(figsize=(9,7))\n",
        "plt.plot( nList, timeList )\n",
        "plt.xlabel('Size n')\n",
        "plt.ylabel('Time (seconds)')\n",
        "plt.title('Numpy matrix-matrix multiply time')\n",
        "plt.show()\n",
        "\n",
        "timeList = np.asarray(timeList)\n",
        "nList = np.asarray(nList)\n",
        "plt.figure(figsize=(9,7))\n",
        "plt.plot( nList, timeList/(1e-10*nList**3) )\n",
        "plt.xlabel('Size n')\n",
        "plt.ylabel('Relative Time')\n",
        "plt.title('Numpy matrix-matrix multiply time, divided by O(n^3)')\n",
        "plt.show()"
      ],
      "execution_count": null,
      "outputs": [
        {
          "output_type": "display_data",
          "data": {
            "image/png": "[encoded data removed]",
            "text/plain": [
              "<Figure size 648x504 with 1 Axes>"
            ]
          },
          "metadata": {
            "tags": [],
            "needs_background": "light"
          }
        },
        {
          "output_type": "display_data",
          "data": {
            "image/png": "[encoded data removed]",
            "text/plain": [
              "<Figure size 648x504 with 1 Axes>"
            ]
          },
          "metadata": {
            "tags": [],
            "needs_background": "light"
          }
        }
      ]
    },
    {
      "cell_type": "markdown",
      "metadata": {
        "id": "RI7kIWDGWwMb"
      },
      "source": [
        "Same thing but larger $n$"
      ]
    },
    {
      "cell_type": "code",
      "metadata": {
        "id": "FBcVING-3mvw"
      },
      "source": [
        "reps = 2 # average things out (reduce to 1 if impatient)\n",
        "nList = np.logspace(1,3.6,12)\n",
        "timeList = []\n",
        "for n in nList:\n",
        "  n = int(n)\n",
        "  A = rng.standard_normal((n,n))\n",
        "  B = rng.standard_normal((n,n))\n",
        "  start_time = time.time()\n",
        "  for r in range(reps):\n",
        "    C = A@B # using numpy/BLAS\n",
        "  myTime = time.time() - start_time\n",
        "  timeList.append( myTime/reps )"
      ],
      "execution_count": null,
      "outputs": []
    },
    {
      "cell_type": "code",
      "metadata": {
        "colab": {
          "base_uri": "https://localhost:8080/",
          "height": 891
        },
        "id": "B8m_u9q6yO1j",
        "outputId": "194f9121-3f50-4470-8837-a4db8af7f232"
      },
      "source": [
        "plt.figure(figsize=(9,7))\n",
        "plt.loglog( nList,timeList, 'o-' )\n",
        "plt.loglog( nList, 1e-10*np.array(nList)**3)\n",
        "plt.xlabel('Size n')\n",
        "plt.ylabel('Time (seconds)')\n",
        "plt.grid()\n",
        "plt.show()\n",
        "\n",
        "timeList = np.asarray(timeList)\n",
        "nList = np.asarray(nList)\n",
        "plt.figure(figsize=(9,7))\n",
        "plt.semilogx( nList, timeList/(1e-10*nList**3),'o-' )\n",
        "plt.xlabel('Size n')\n",
        "plt.ylabel('Relative Time')\n",
        "plt.title('Numpy matrix-matrix multiply time, divided by O(n^3)')\n",
        "plt.xlim(left=200)\n",
        "plt.ylim(top=1.5,bottom=.5)\n",
        "plt.show()"
      ],
      "execution_count": null,
      "outputs": [
        {
          "output_type": "display_data",
          "data": {
            "image/png": "[encoded data removed]",
            "text/plain": [
              "<Figure size 648x504 with 1 Axes>"
            ]
          },
          "metadata": {
            "tags": [],
            "needs_background": "light"
          }
        },
        {
          "output_type": "display_data",
          "data": {
            "image/png": "[encoded data removed]",
            "text/plain": [
              "<Figure size 648x504 with 1 Axes>"
            ]
          },
          "metadata": {
            "tags": [],
            "needs_background": "light"
          }
        }
      ]
    },
    {
      "cell_type": "markdown",
      "metadata": {
        "id": "XzZCQlHQK7Z2"
      },
      "source": [
        "And try with our own implementation. Effect should be greater, but our code is so slow that we can't do this for many different values"
      ]
    },
    {
      "cell_type": "code",
      "metadata": {
        "colab": {
          "base_uri": "https://localhost:8080/",
          "height": 442
        },
        "id": "eFlc1Rls24tE",
        "outputId": "3a718b18-bf7c-4864-e73e-fecae77f4d69"
      },
      "source": [
        "reps = 1\n",
        "nList = range(10,150, 1)\n",
        "timeList = []\n",
        "for n in nList:\n",
        "  A = rng.standard_normal((n,n))\n",
        "  B = rng.standard_normal((n,n))\n",
        "  start_time = time.time()\n",
        "  for r in range(reps):\n",
        "    C = matrix_multiply(A,B)\n",
        "    #C = A@B\n",
        "  myTime = time.time() - start_time\n",
        "  timeList.append( myTime/reps )\n",
        "\n",
        "plt.figure(figsize=(9,7))\n",
        "plt.plot( nList, timeList )\n",
        "plt.xlabel('Size n')\n",
        "plt.ylabel('Time (seconds)')\n",
        "plt.show()"
      ],
      "execution_count": null,
      "outputs": [
        {
          "output_type": "display_data",
          "data": {
            "image/png": "[encoded data removed]",
            "text/plain": [
              "<Figure size 648x504 with 1 Axes>"
            ]
          },
          "metadata": {
            "tags": [],
            "needs_background": "light"
          }
        }
      ]
    },
    {
      "cell_type": "code",
      "metadata": {
        "colab": {
          "base_uri": "https://localhost:8080/",
          "height": 462
        },
        "id": "4bCtWBTeLG9h",
        "outputId": "677fbd98-7e53-4342-d7fc-c17e65a6c096"
      },
      "source": [
        "plt.figure(figsize=(9,7))\n",
        "plt.loglog( nList, timeList,label='Our matrix multiply' )\n",
        "plt.loglog( nList, 7e-7*np.array(nList)**3,label=\"$O(n^3)$\")\n",
        "plt.xlabel('Size n')\n",
        "plt.ylabel('Time (seconds)')\n",
        "plt.title('Our python implementation')\n",
        "plt.legend()\n",
        "plt.show()"
      ],
      "execution_count": null,
      "outputs": [
        {
          "output_type": "display_data",
          "data": {
            "image/png": "[encoded data removed]",
            "text/plain": [
              "<Figure size 648x504 with 1 Axes>"
            ]
          },
          "metadata": {
            "tags": [],
            "needs_background": "light"
          }
        }
      ]
    },
    {
      "cell_type": "code",
      "metadata": {
        "id": "SxbwzIJMVUlP"
      },
      "source": [
        ""
      ],
      "execution_count": null,
      "outputs": []
    }
  ]
}