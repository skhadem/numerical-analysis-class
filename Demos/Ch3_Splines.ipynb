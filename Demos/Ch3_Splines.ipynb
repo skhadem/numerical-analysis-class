{
  "nbformat": 4,
  "nbformat_minor": 0,
  "metadata": {
    "colab": {
      "name": "Ch3_Splines.ipynb",
      "provenance": [],
      "authorship_tag": "ABX9TyPDqKflQx3syjLtpEdu4nbL",
      "include_colab_link": true
    },
    "kernelspec": {
      "name": "python3",
      "display_name": "Python 3"
    }
  },
  "cells": [
    {
      "cell_type": "markdown",
      "metadata": {
        "id": "view-in-github",
        "colab_type": "text"
      },
      "source": [
        "<a href=\"https://colab.research.google.com/github/stephenbeckr/numerical-analysis-class/blob/master/Demos/Ch3_Splines.ipynb\" target=\"_parent\"><img src=\"https://colab.research.google.com/assets/colab-badge.svg\" alt=\"Open In Colab\"/></a>"
      ]
    },
    {
      "cell_type": "markdown",
      "metadata": {
        "id": "VWUE4txbM8ro"
      },
      "source": [
        "# Cubic Splines\n",
        "\n",
        "This lab is designed to help you program your own cubic splines.\n",
        "\n",
        "We'll first focus on **natural boundary conditions** meaning that $s''$ is 0 at the endpoints (where $s$ is the spline)\n",
        "\n",
        "Let's also first focus on **equispaced nodes**\n",
        "\n",
        "- Task 1: create nodes, and function values on these nodes.  Some suggestions are below, but you can change these"
      ]
    },
    {
      "cell_type": "code",
      "metadata": {
        "id": "B0YYZuwEM6dS",
        "outputId": "9865f6bd-0635-4ee9-f292-86855d1affc6",
        "colab": {
          "base_uri": "https://localhost:8080/",
          "height": 282
        }
      },
      "source": [
        "import numpy as np\n",
        "import matplotlib.pyplot as plt\n",
        "\n",
        "n     = 10\n",
        "a,b = 1,2\n",
        "nodes = np.linspace(a,b,num=n+1) # for interpolation\n",
        "h = nodes[1]-nodes[0]\n",
        "print(\"We have {:} nodes, with a spacing of {:.2f} between them\".format(len(nodes), h ) )\n",
        "\n",
        "f   = lambda x : np.sin(20*x)\n",
        "y   = f(nodes)\n",
        "\n",
        "xGrid = np.linspace(a,b,100)  # for plotting\n",
        "plt.plot( xGrid, f(xGrid), label=\"True function\");\n",
        "plt.plot( nodes, y, 'o', label=\"Data\");"
      ],
      "execution_count": 17,
      "outputs": [
        {
          "output_type": "stream",
          "text": [
            "We have 11 nodes, with a spacing of 0.10 between them\n"
          ],
          "name": "stdout"
        },
        {
          "output_type": "display_data",
          "data": {
            "image/png": "[encoded data removed]",
            "text/plain": [
              "<Figure size 432x288 with 1 Axes>"
            ]
          },
          "metadata": {
            "tags": [],
            "needs_background": "light"
          }
        }
      ]
    },
    {
      "cell_type": "markdown",
      "metadata": {
        "id": "r2G1qYiwOyao"
      },
      "source": [
        "## Build the matrix equation\n",
        "- Task 2: Following the notes, setup the matrix equation.  For now, don't worry about exploiting the triadiagonal structure\n",
        "  - You don't have to do this, but you could build it using a sparse matrix format.  Scipy has [`scipy.sparse.spdiags`](https://docs.scipy.org/doc/scipy/reference/generated/scipy.sparse.spdiags.html) which makes this easy (in Matlab, it is just `spdiags`)"
      ]
    },
    {
      "cell_type": "code",
      "metadata": {
        "id": "om8M2C0oPAvv"
      },
      "source": [
        ""
      ],
      "execution_count": null,
      "outputs": []
    },
    {
      "cell_type": "markdown",
      "metadata": {
        "id": "alJ6YvZJPCXx"
      },
      "source": [
        "## Solve the matrix equation\n",
        "- Task 3: Solve the matrix equation, using `np.linalg.solve`. This gives is the \"c\" coefficients for each polynomial piece\n",
        "  - If you did want to solve this more efficiently, taking advantage of the tridiagonal structure, you could program the [Thomas algorithm](https://en.wikipedia.org/wiki/Tridiagonal_matrix_algorithm) yourself, or call [scipy.linalg.solve_banded](https://docs.scipy.org/doc/scipy/reference/generated/scipy.linalg.solve_banded.html); however, if you use this banded solver, you may need to first convert the matrix to be the right data type.\n",
        "\n"
      ]
    },
    {
      "cell_type": "code",
      "metadata": {
        "id": "1lVIWaqqPVn0"
      },
      "source": [
        ""
      ],
      "execution_count": null,
      "outputs": []
    },
    {
      "cell_type": "markdown",
      "metadata": {
        "id": "wR8DbCeSPYED"
      },
      "source": [
        "## Fill in the rest of the coefficients\n",
        "- Task 4: from knowledge of \"c\", fill in values for \"a\", \"b\" and \"c\" coefficients"
      ]
    },
    {
      "cell_type": "code",
      "metadata": {
        "id": "cyW0V75HPhl0"
      },
      "source": [
        ""
      ],
      "execution_count": null,
      "outputs": []
    },
    {
      "cell_type": "markdown",
      "metadata": {
        "id": "UA6q7drUPiG6"
      },
      "source": [
        "## Finish\n",
        "- Task 5: with the coefficients, make a function that will evaluate the spline.\n",
        "  - There are several ways you can do this; the big issue is you need to figure out which interval the point falls into. One way to do this is [`np.searchsorted`](https://numpy.org/doc/stable/reference/generated/numpy.searchsorted.html)\n",
        "- Task 6: plot the spline"
      ]
    },
    {
      "cell_type": "code",
      "metadata": {
        "id": "Xh4EU9mHPnxy"
      },
      "source": [
        ""
      ],
      "execution_count": null,
      "outputs": []
    }
  ]
}