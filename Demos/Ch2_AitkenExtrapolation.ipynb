{
  "nbformat": 4,
  "nbformat_minor": 0,
  "metadata": {
    "colab": {
      "name": "Ch2_AitkenExtrapolation.ipynb",
      "provenance": [],
      "collapsed_sections": [],
      "authorship_tag": "ABX9TyOMamTDUHa1PbgZ+wNAY6sz",
      "include_colab_link": true
    },
    "kernelspec": {
      "name": "python3",
      "display_name": "Python 3"
    }
  },
  "cells": [
    {
      "cell_type": "markdown",
      "metadata": {
        "id": "view-in-github",
        "colab_type": "text"
      },
      "source": [
        "<a href=\"https://colab.research.google.com/github/stephenbeckr/numerical-analysis-class/blob/master/Demos/Ch2_AitkenExtrapolation.ipynb\" target=\"_parent\"><img src=\"https://colab.research.google.com/assets/colab-badge.svg\" alt=\"Open In Colab\"/></a>"
      ]
    },
    {
      "cell_type": "markdown",
      "metadata": {
        "id": "hJypO_Th1vhE",
        "colab_type": "text"
      },
      "source": [
        "# Aitken Extrapolation\n",
        "\n",
        "## Task 1: recreate Table 2.10 in the book\n",
        "In the table, we have $x_n = \\cos(\\frac{1}{n})$ which converges to $\\cos(0)=1$ since $\\cos$ is continuous.  Use Aitken Extrapolation to accelerate this sequence $(x_n)$."
      ]
    },
    {
      "cell_type": "code",
      "metadata": {
        "id": "iVP4M9zD1uu2",
        "colab_type": "code",
        "colab": {
          "base_uri": "https://localhost:8080/",
          "height": 255
        },
        "outputId": "86f40b13-7a62-43d8-a774-c2f9670ecdc0"
      },
      "source": [
        "# Recreate Table 2.10 in the book\n",
        "\n",
        "import numpy as np\n",
        "from numpy import diff as D   # this is the Delta in the book, aka \"forward difference\"\n",
        "\n",
        "N = 7  # total number of terms\n",
        "p = np.cos( 1/np.r_[1:N+1] ) # Example in book (Table 2.10)\n",
        "print(\"The sequence p_n is:\")\n",
        "for pn in p:\n",
        "  print(\"{:.5f}\".format(pn))\n",
        "\n",
        "print(\"The sequence \\hat{p}_n is:\")  \n",
        "# Define phat (for p^hat, not as in \"that is a phat song!\")\n",
        "phat = p[:-2]  - (D(p)[:-1])**2 / D(D(p))\n",
        "for pn in phat:\n",
        "  print(\"{:.5f}\".format(pn))"
      ],
      "execution_count": 2,
      "outputs": [
        {
          "output_type": "stream",
          "text": [
            "The sequence p_n is:\n",
            "0.54030\n",
            "0.87758\n",
            "0.94496\n",
            "0.96891\n",
            "0.98007\n",
            "0.98614\n",
            "0.98981\n",
            "The sequence \\hat{p}_n is:\n",
            "0.96178\n",
            "0.98213\n",
            "0.98979\n",
            "0.99342\n",
            "0.99541\n"
          ],
          "name": "stdout"
        }
      ]
    },
    {
      "cell_type": "markdown",
      "metadata": {
        "id": "Ph5St6e4ZdaJ",
        "colab_type": "text"
      },
      "source": [
        "## Task 2: accelerate a root-finding problem\n",
        "You could do Steffensen's variant, but we didn't discuss that, so I suggest you just to Aitken extrapolation\n",
        "\n",
        "Let's solve $x = g(x)$ where\n",
        "$$g(x) = .7\\cos(x)$$\n",
        "insdie the interval $[0,1]$.  We know that $g$ is a contraction since\n",
        "$$|g'(x)| = |-.7\\sin(x)| \\le .7 < 1$$"
      ]
    },
    {
      "cell_type": "code",
      "metadata": {
        "id": "kmtLgucYZtxr",
        "colab_type": "code",
        "colab": {
          "base_uri": "https://localhost:8080/",
          "height": 34
        },
        "outputId": "9c12c0be-a79c-425c-a4c2-4b4ebfce83f5"
      },
      "source": [
        "# Try a root-finding problem, x = .7*cos(x)\n",
        "from scipy.optimize import root_scalar\n",
        "g = lambda x : .7*np.cos(x)\n",
        "\n",
        "output = root_scalar(lambda x : g(x) - x ,bracket=[0,1])\n",
        "trueRoot = output.root\n",
        "print(\"The root is\",trueRoot)"
      ],
      "execution_count": 3,
      "outputs": [
        {
          "output_type": "stream",
          "text": [
            "The root is 0.5839889663069239\n"
          ],
          "name": "stdout"
        }
      ]
    },
    {
      "cell_type": "code",
      "metadata": {
        "id": "9ttZiJ9-3hMq",
        "colab_type": "code",
        "colab": {
          "base_uri": "https://localhost:8080/",
          "height": 357
        },
        "outputId": "dee977d5-db2d-4d76-b24a-46038074523c"
      },
      "source": [
        "# Accelerate the iteration\n",
        "\n",
        "# Try fixed-point iteration, starting at 0\n",
        "x = 0\n",
        "N   = 20\n",
        "p   = np.zeros(N)\n",
        "phat= np.zeros(N-2)\n",
        "# There are many ways to program this, depending on how/if you want to save\n",
        "#   all the iterates.\n",
        "for i in range(N):\n",
        "  x = g(x)\n",
        "  p[i] = x\n",
        "  if i > 1:\n",
        "    d1_a = p[i-1]-p[i-2]\n",
        "    d1_b = p[i]-p[i-1]\n",
        "    phat[i-2] = p[i-2] - (d1_a**2)/( d1_b - d1_a)\n",
        "    print(\"p_{:<2d} is {:.5f} and error is {:.3e}; hat(p)_{:<2d} is {:.5f} and error is {:.3e}\".format( i, x,abs(x-trueRoot),i-2,phat[i-2],abs(phat[i-2]-trueRoot) ) )\n",
        "  else:\n",
        "    print(\"p_{:<2d} is {:.5f} and error is {:.3e}\".format( i, x,abs(x-trueRoot) ) )"
      ],
      "execution_count": 4,
      "outputs": [
        {
          "output_type": "stream",
          "text": [
            "p_0  is 0.70000 and error is 1.160e-01\n",
            "p_1  is 0.53539 and error is 4.860e-02\n",
            "p_2  is 0.60205 and error is 1.806e-02; hat(p)_0  is 0.58284 and error is 1.153e-03\n",
            "p_3  is 0.57692 and error is 7.065e-03; hat(p)_1  is 0.58380 and error is 1.874e-04\n",
            "p_4  is 0.58670 and error is 2.712e-03; hat(p)_2  is 0.58396 and error is 2.675e-05\n",
            "p_5  is 0.58294 and error is 1.049e-03; hat(p)_3  is 0.58398 and error is 4.045e-06\n",
            "p_6  is 0.58439 and error is 4.045e-04; hat(p)_4  is 0.58399 and error is 5.989e-07\n",
            "p_7  is 0.58383 and error is 1.562e-04; hat(p)_5  is 0.58399 and error is 8.941e-08\n",
            "p_8  is 0.58405 and error is 6.027e-05; hat(p)_6  is 0.58399 and error is 1.331e-08\n",
            "p_9  is 0.58397 and error is 2.326e-05; hat(p)_7  is 0.58399 and error is 1.983e-09\n",
            "p_10 is 0.58400 and error is 8.977e-06; hat(p)_8  is 0.58399 and error is 2.953e-10\n",
            "p_11 is 0.58399 and error is 3.465e-06; hat(p)_9  is 0.58399 and error is 4.397e-11\n",
            "p_12 is 0.58399 and error is 1.337e-06; hat(p)_10 is 0.58399 and error is 6.531e-12\n",
            "p_13 is 0.58399 and error is 5.161e-07; hat(p)_11 is 0.58399 and error is 9.545e-13\n",
            "p_14 is 0.58399 and error is 1.992e-07; hat(p)_12 is 0.58399 and error is 1.238e-13\n",
            "p_15 is 0.58399 and error is 7.688e-08; hat(p)_13 is 0.58399 and error is 1.110e-16\n",
            "p_16 is 0.58399 and error is 2.967e-08; hat(p)_14 is 0.58399 and error is 1.832e-14\n",
            "p_17 is 0.58399 and error is 1.145e-08; hat(p)_15 is 0.58399 and error is 2.109e-14\n",
            "p_18 is 0.58399 and error is 4.420e-09; hat(p)_16 is 0.58399 and error is 2.154e-14\n",
            "p_19 is 0.58399 and error is 1.706e-09; hat(p)_17 is 0.58399 and error is 2.154e-14\n"
          ],
          "name": "stdout"
        }
      ]
    },
    {
      "cell_type": "code",
      "metadata": {
        "id": "092oDnRY4aIo",
        "colab_type": "code",
        "colab": {
          "base_uri": "https://localhost:8080/",
          "height": 170
        },
        "outputId": "0e5a85b2-a6de-4a3b-fd6f-e10ac057dd8d"
      },
      "source": [
        "# Same thing, but using a different version of the code\n",
        "#   (designed to be simpler, since it doesn't save the entire history)\n",
        "x   = 0  # our starting guess\n",
        "for i in range(10): # i = 0, 1, 2, ..., 9 -- don't forget that Python is 0 based\n",
        "  if i >= 1:\n",
        "    xVeryOld = xOld\n",
        "  xOld = x\n",
        "  x    = g(x)  # Fixed point iteration update\n",
        "  if i >= 1:\n",
        "      DeltaOld = Delta\n",
        "  Delta = x - xOld\n",
        "  if i >= 1:\n",
        "    xhat = xVeryOld - DeltaOld**2/( Delta - DeltaOld)\n",
        "    print(xVeryOld,xhat)"
      ],
      "execution_count": 5,
      "outputs": [
        {
          "output_type": "stream",
          "text": [
            "0 0.5667292007496922\n",
            "0.7 0.5828355747666369\n",
            "0.5353895310991419 0.5838016125355683\n",
            "0.6020489755511681 0.5839622114962584\n",
            "0.5769238612151603 0.583984921687019\n",
            "0.5867011411648845 0.5839883673835934\n",
            "0.5829400576356008 0.5839888768922955\n",
            "0.5843934705791918 0.5839889529996376\n",
            "0.5838328003801305 0.5839889643240639\n"
          ],
          "name": "stdout"
        }
      ]
    }
  ]
}