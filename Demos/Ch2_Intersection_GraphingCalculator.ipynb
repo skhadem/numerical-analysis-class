{
  "nbformat": 4,
  "nbformat_minor": 0,
  "metadata": {
    "colab": {
      "name": "Ch2_Intersection_GraphingCalculator.ipynb",
      "provenance": [],
      "authorship_tag": "ABX9TyM185uZXoFFsp8L92js+mLD",
      "include_colab_link": true
    },
    "kernelspec": {
      "name": "python3",
      "display_name": "Python 3"
    }
  },
  "cells": [
    {
      "cell_type": "markdown",
      "metadata": {
        "id": "view-in-github",
        "colab_type": "text"
      },
      "source": [
        "<a href=\"https://colab.research.google.com/github/stephenbeckr/numerical-analysis-class/blob/master/Demos/Ch2_Intersection_GraphingCalculator.ipynb\" target=\"_parent\"><img src=\"https://colab.research.google.com/assets/colab-badge.svg\" alt=\"Open In Colab\"/></a>"
      ]
    },
    {
      "cell_type": "markdown",
      "metadata": {
        "id": "Ga_57SMeQM9_"
      },
      "source": [
        "# Finding the intersection of two functions\n",
        "\n",
        "This is the **master** branch version. We suggest you first try the [**student**](https://github.com/stephenbeckr/numerical-analysis-class/blob/student/Demos/Ch2_Intersection_GraphingCalculator.ipynb) branch version, which has open-ended questions.\n",
        "\n",
        "By the way, if the \"Open in Colab\" link doesn't work, try right-clicking the link and choose \"open in new tab\".\n",
        "\n",
        "\n",
        "### Finding intersections of two functions\n",
        "This is something you might have done in high school on a graphing calculator (the particular functions we're using are inspired by this [post about using the TI-84+](https://www.dummies.com/education/graphing-calculators/how-to-find-points-of-intersection-on-the-ti-84-plus/)).\n",
        "\n",
        "![TI-84 image](https://github.com/stephenbeckr/numerical-analysis-class/raw/master/Demos/img/398635.image0.jpg)\n",
        "\n",
        "Let's find the intersection of\n",
        "$$ f(x) = .2(x-2)x(x+4)  \\quad\\text{and}\\quad g(x) = .5 x $$\n",
        "\n",
        "First, let's plot the functions:\n",
        "(for plotting, here's a list of [style sheets](https://matplotlib.org/3.3.1/gallery/style_sheets/style_sheets_reference.html) to use with `plt.style.use`, and [general matplotlib cheatsheets](https://github.com/matplotlib/cheatsheets); if you want to make the axes through the origin, like in the TI-84 picture, this [stackoverflow post](https://stackoverflow.com/a/25689340) gives several methods)"
      ]
    },
    {
      "cell_type": "code",
      "metadata": {
        "id": "yPMbjKK5Q5ZS"
      },
      "source": [
        "import numpy as np\n",
        "\n",
        "\n",
        "# basic plots\n",
        "%matplotlib inline  \n",
        "\n",
        "# allows interative plots, so you can zoom in!\n",
        "# However, can be a bit buggy\n",
        "#%matplotlib notebook\n",
        "\n",
        "#%matplotlib ipympl # see https://medium.com/@1522933668924/using-matplotlib-in-jupyter-notebooks-comparing-methods-and-some-tips-python-c38e85b40ba1\n",
        "\n",
        "import matplotlib.pyplot as plt\n",
        "\n",
        "\n",
        "plt.style.use('seaborn-notebook') # just a personal preference for the style\n",
        "\n",
        "# == First, define the function f\n",
        "f = lambda x : .2*(x-2)*x*(x+4)\n",
        "\n",
        "\n",
        "# == Now, define g\n",
        "g = lambda x : .5*x\n",
        "\n",
        "\n",
        "# == Now, plot\n",
        "\n",
        "x   = np.linspace(-10,10,100)"
      ],
      "execution_count": null,
      "outputs": []
    },
    {
      "cell_type": "code",
      "metadata": {
        "id": "QQeXrJ1MR3Vh",
        "outputId": "94bbe948-7ab0-466b-c8c0-1183340d5401",
        "colab": {
          "base_uri": "https://localhost:8080/",
          "height": 340
        }
      },
      "source": [
        "fig, ax = plt.subplots()\n",
        "ax.plot( x, f(x) )\n",
        "ax.plot( x, g(x) )\n",
        "ax.set_ylim(-10,10)\n",
        "plt.xticks(range(-10,11,5))\n",
        "plt.yticks(range(-10,11,5))\n",
        "\n",
        "# Adjust it to look a bit more like the TI-84 image\n",
        "# Alternatively, see https://matplotlib.org/api/pyplot_api.html#matplotlib.pyplot.axvline\n",
        "ax.spines['left'].set_position('zero')\n",
        "ax.spines['right'].set_color('none')\n",
        "ax.spines['bottom'].set_position('zero')\n",
        "ax.spines['top'].set_color('none')\n",
        "ax.minorticks_on()\n",
        "fig.show() # Optional in jupyter"
      ],
      "execution_count": null,
      "outputs": [
        {
          "output_type": "display_data",
          "data": {
            "image/png": "[encoded data removed]",
            "text/plain": [
              "<Figure size 576x396 with 1 Axes>"
            ]
          },
          "metadata": {
            "tags": [],
            "needs_background": "light"
          }
        }
      ]
    },
    {
      "cell_type": "markdown",
      "metadata": {
        "id": "bIC7CByUY-K-"
      },
      "source": [
        "## Now, let's find all the roots (it seems we have three of them, looking at the plots).\n",
        "\n",
        "Use the builtin root finder from `scipy` (see [`scipy.optimize` documentation](https://docs.scipy.org/doc/scipy/reference/optimize.html#root-finding)) called `root_scalar`\n",
        "\n",
        "You can either specify the method you want, or it will pick a default method for you, based on what you supply, e.g.,\n",
        "- if you supply an **interval** containing the root, using `bracket = [a,b]`, then it will use one of Brent's methods; you can also request using the bisection method\n",
        "- if you supply an **initial guess** using `x0 = 1.2` (for example), then it will try something like Newton's method. However, you need to give it a bit more information:\n",
        "  - to actually use **Newton's method** you have to specify a function that computes the derivative, using `fprime = [insert name-of-derivative-function]`\n",
        "  - you can use the **secant method** which doesn't need the derivative, but then you have to specify a second initial point via `x1 = 1.3` (for example)"
      ]
    },
    {
      "cell_type": "code",
      "metadata": {
        "id": "JRMHCXVCZLLj",
        "outputId": "45eba78e-49db-4a1c-f6e3-ea02664e1fda",
        "colab": {
          "base_uri": "https://localhost:8080/",
          "height": 136
        }
      },
      "source": [
        "from scipy.optimize import root_scalar\n",
        "\n",
        "output = root_scalar( lambda x : f(x) - g(x), x0 = -4, x1 = -4.1)\n",
        "r1     = output.root\n",
        "print('Found first root at x={} and y={}\\n'.format(r1,f(r1)) ) # see https://pyformat.info/ for print statement formatting\n",
        "output"
      ],
      "execution_count": null,
      "outputs": [
        {
          "output_type": "stream",
          "text": [
            "Found first root at x=-4.3911649915626345 and y=-2.19558249578132\n",
            "\n"
          ],
          "name": "stdout"
        },
        {
          "output_type": "execute_result",
          "data": {
            "text/plain": [
              "      converged: True\n",
              "           flag: 'converged'\n",
              " function_calls: 7\n",
              "     iterations: 6\n",
              "           root: -4.3911649915626345"
            ]
          },
          "metadata": {
            "tags": []
          },
          "execution_count": 44
        }
      ]
    },
    {
      "cell_type": "code",
      "metadata": {
        "id": "cBM97qsEZthu",
        "outputId": "52849c3e-a256-42a1-c5ca-cf51d145b71b",
        "colab": {
          "base_uri": "https://localhost:8080/",
          "height": 136
        }
      },
      "source": [
        "output = root_scalar( lambda x : f(x) - g(x), x0 = 0, x1 = .1)\n",
        "r2     = output.root\n",
        "print('Found second root at x={} and y={}\\n'.format(r2,f(r2)) ) # see https://pyformat.info/ for print statement formatting\n",
        "output"
      ],
      "execution_count": null,
      "outputs": [
        {
          "output_type": "stream",
          "text": [
            "Found second root at x=0.0 and y=-0.0\n",
            "\n"
          ],
          "name": "stdout"
        },
        {
          "output_type": "execute_result",
          "data": {
            "text/plain": [
              "      converged: True\n",
              "           flag: 'converged'\n",
              " function_calls: 3\n",
              "     iterations: 2\n",
              "           root: 0.0"
            ]
          },
          "metadata": {
            "tags": []
          },
          "execution_count": 46
        }
      ]
    },
    {
      "cell_type": "code",
      "metadata": {
        "id": "_JqRvGSUanQN",
        "outputId": "29ff6ba0-fe0d-4905-e4ba-d67616dd96f7",
        "colab": {
          "base_uri": "https://localhost:8080/",
          "height": 136
        }
      },
      "source": [
        "output = root_scalar( lambda x : f(x) - g(x), x0 = 2.1, x1 = 2.2)\n",
        "r3     = output.root\n",
        "print('Found third root at x={} and y={}\\n'.format(r3,f(r3)) ) # see https://pyformat.info/ for print statement formatting\n",
        "output"
      ],
      "execution_count": null,
      "outputs": [
        {
          "output_type": "stream",
          "text": [
            "Found third root at x=2.3911649915626345 and y=1.1955824957813186\n",
            "\n"
          ],
          "name": "stdout"
        },
        {
          "output_type": "execute_result",
          "data": {
            "text/plain": [
              "      converged: True\n",
              "           flag: 'converged'\n",
              " function_calls: 7\n",
              "     iterations: 6\n",
              "           root: 2.3911649915626345"
            ]
          },
          "metadata": {
            "tags": []
          },
          "execution_count": 48
        }
      ]
    },
    {
      "cell_type": "code",
      "metadata": {
        "id": "j2k60TFxavqL",
        "outputId": "9811294a-6906-4074-a851-46d32388c72f",
        "colab": {
          "base_uri": "https://localhost:8080/",
          "height": 340
        }
      },
      "source": [
        "ax.plot( r1, f(r1), 'o',MarkerSize=12 )\n",
        "ax.plot( r2, f(r2), 'o',MarkerSize=12 )\n",
        "ax.plot( r3, f(r3), 'o',MarkerSize=12 )\n",
        "fig"
      ],
      "execution_count": null,
      "outputs": [
        {
          "output_type": "execute_result",
          "data": {
            "image/png": "[encoded data removed]",
            "text/plain": [
              "<Figure size 576x396 with 1 Axes>"
            ]
          },
          "metadata": {
            "tags": []
          },
          "execution_count": 57
        }
      ]
    },
    {
      "cell_type": "markdown",
      "metadata": {
        "id": "PY-Su9gibyDN"
      },
      "source": [
        "### Compare accuracy with `roots`\n",
        "\n",
        "Be careful: despite a similar sounding name, [`numpy.roots`](https://numpy.org/doc/stable/reference/generated/numpy.roots.html) is **only for polynomials**.\n",
        "\n",
        "With a bit of pen-and-paper manipulation, you can cast the above intersection problem as one of finding the roots of a polynomial.  Do this, and then find the roots via `numpy.roots`.\n",
        "\n",
        "- How can you evaluate the accuracy of your answer?\n",
        "- Which method (`scipy.optimize.root_scalar` vs `numpy.roots`) is more accurate?\n"
      ]
    },
    {
      "cell_type": "code",
      "metadata": {
        "id": "YOgSCGXUcOBu",
        "outputId": "89316bfe-5276-4f76-a21e-ec7ed8cc1eaf",
        "colab": {
          "base_uri": "https://localhost:8080/",
          "height": 34
        }
      },
      "source": [
        "# Make the polynomial we want to find roots of (i.e., find the coefficients)\n",
        "\n",
        "coeff = np.poly( (2,0,-4) )  # coefficients of (x-2)*x*(x+4)\n",
        "# and don't forget to multiply by 0.2\n",
        "coeff = 0.2*coeff\n",
        "# and subtract the g(x) function, so -.5*x.  This is the 2nd-to-last coefficient\n",
        "coeff[-2] -=.5\n",
        "coeff"
      ],
      "execution_count": null,
      "outputs": [
        {
          "output_type": "execute_result",
          "data": {
            "text/plain": [
              "array([ 0.2,  0.4, -2.1,  0. ])"
            ]
          },
          "metadata": {
            "tags": []
          },
          "execution_count": 62
        }
      ]
    },
    {
      "cell_type": "code",
      "metadata": {
        "id": "qmHYVWpicfIg",
        "outputId": "1b950887-2876-4428-9367-4a66c5ecc30b",
        "colab": {
          "base_uri": "https://localhost:8080/",
          "height": 34
        }
      },
      "source": [
        "r_numpy = np.roots( coeff )\n",
        "r_numpy"
      ],
      "execution_count": null,
      "outputs": [
        {
          "output_type": "execute_result",
          "data": {
            "text/plain": [
              "array([-4.39116499,  2.39116499,  0.        ])"
            ]
          },
          "metadata": {
            "tags": []
          },
          "execution_count": 65
        }
      ]
    },
    {
      "cell_type": "code",
      "metadata": {
        "id": "lQmuBk68c4Vo",
        "outputId": "b37b53d5-8fc6-4662-9ca8-7858fb13c569",
        "colab": {
          "base_uri": "https://localhost:8080/",
          "height": 68
        }
      },
      "source": [
        "r_scipy = np.array( (r1,r3,r2 ))  # changed ordering to match np.roots output\n",
        "\n",
        "residual = lambda x : abs( f(x) - g(x) )\n",
        "for r_n, r_s in zip(r_numpy,r_scipy):\n",
        "    print(\"At root {:5.2f}, the residual using np.roots is {:.2e}, and using root_scalar is {:.2e}\".format( r_n, residual(r_n), residual(r_s)) )"
      ],
      "execution_count": null,
      "outputs": [
        {
          "output_type": "stream",
          "text": [
            "At root -4.39, the residual using np.roots is 2.66e-15, and using root_scalar is 2.66e-15\n",
            "At root  2.39, the residual using np.roots is 2.22e-16, and using root_scalar is 1.33e-15\n",
            "At root  0.00, the residual using np.roots is 0.00e+00, and using root_scalar is 0.00e+00\n"
          ],
          "name": "stdout"
        }
      ]
    },
    {
      "cell_type": "markdown",
      "metadata": {
        "id": "HjVJhrwyevAs"
      },
      "source": [
        "Conclusion: in this example, both root finding libraries work just fine"
      ]
    },
    {
      "cell_type": "markdown",
      "metadata": {
        "id": "_IJ-sRYF0kcG"
      },
      "source": [
        "## Let's repeat, for a different function\n",
        "\n",
        "Again, let's pick a polynomial since we can find the true roots by hand\n",
        "\n",
        "Let's do $$ f(x) = (x-1) \\cdot (x-(1+10^{-8}))^2. $$\n",
        "\n",
        "Do we expect any conditioning issues?\n",
        "\n",
        "Yes!  This is almost a double-root at $x=1$, so very shallow slope.  If we perturb $f$ upward a bit, it won't have any roots at all!"
      ]
    },
    {
      "cell_type": "markdown",
      "metadata": {
        "id": "Gb62ZbyU21mp"
      },
      "source": [
        "### Try to find the roots using the polynomial root-finding routines (`np.roots`)"
      ]
    },
    {
      "cell_type": "code",
      "metadata": {
        "id": "WImaJVkc0tak",
        "outputId": "19ba7d1a-3933-4804-98c2-95af9a4d270d",
        "colab": {
          "base_uri": "https://localhost:8080/",
          "height": 34
        }
      },
      "source": [
        "\n",
        "trueRoots = (1,1+1e-8)\n",
        "coeff = np.poly( trueRoots  )\n",
        "f     = lambda x : np.polyval( coeff, x )\n",
        "\n",
        "r_numpy = np.roots( coeff )\n",
        "r_numpy"
      ],
      "execution_count": null,
      "outputs": [
        {
          "output_type": "execute_result",
          "data": {
            "text/plain": [
              "array([1.+1.49011612e-08j, 1.-1.49011612e-08j])"
            ]
          },
          "metadata": {
            "tags": []
          },
          "execution_count": 85
        }
      ]
    },
    {
      "cell_type": "markdown",
      "metadata": {
        "id": "H0HcAMBg26-g"
      },
      "source": [
        "How did it go?\n",
        "\n",
        "We got imaginary numbers! This means there were no real roots. But there are! It's just a hard problem, and very ill-conditioned.\n",
        "\n",
        "The plot of the function will help us"
      ]
    },
    {
      "cell_type": "code",
      "metadata": {
        "id": "pDQFPFZI1_nZ",
        "outputId": "ea1bf0a2-6d99-4f06-fa85-f75bc11d93ba",
        "colab": {
          "base_uri": "https://localhost:8080/",
          "height": 704
        }
      },
      "source": [
        "fig, ax = plt.subplots(1,2);\n",
        "x = np.linspace(0,2,100)\n",
        "ax[0].plot( x, f(x) );\n",
        "\n",
        "# Zoom in a bit\n",
        "x = np.linspace(1-1e-8,1+5e-8,100);\n",
        "ax[1].plot( x, f(x) );\n",
        "ax[1].spines['bottom'].set_position('zero')\n",
        "ax[1].spines['top'].set_color('none')\n",
        "ax[1].spines['right'].set_color('none')\n",
        "f( x[9] )\n",
        "\n",
        "# from sympy import init_printing\n",
        "# init_printing()\n",
        "# list(zip( range(20), f( x[:20] ).tolist() ))\n",
        "\n",
        "for xx, fx in zip( x[:20], f( x[:20] ) ):\n",
        "  print(\"At x = 1 + {:5.2e}, f(x) is {:5.2e}\".format(xx-1,fx) )"
      ],
      "execution_count": null,
      "outputs": [
        {
          "output_type": "stream",
          "text": [
            "At x = 1 + -1.00e-08, f(x) is 2.22e-16\n",
            "At x = 1 + -9.39e-09, f(x) is 2.22e-16\n",
            "At x = 1 + -8.79e-09, f(x) is 2.22e-16\n",
            "At x = 1 + -8.18e-09, f(x) is 0.00e+00\n",
            "At x = 1 + -7.58e-09, f(x) is 2.22e-16\n",
            "At x = 1 + -6.97e-09, f(x) is 2.22e-16\n",
            "At x = 1 + -6.36e-09, f(x) is 2.22e-16\n",
            "At x = 1 + -5.76e-09, f(x) is 2.22e-16\n",
            "At x = 1 + -5.15e-09, f(x) is 0.00e+00\n",
            "At x = 1 + -4.55e-09, f(x) is 0.00e+00\n",
            "At x = 1 + -3.94e-09, f(x) is 0.00e+00\n",
            "At x = 1 + -3.33e-09, f(x) is 0.00e+00\n",
            "At x = 1 + -2.73e-09, f(x) is 2.22e-16\n",
            "At x = 1 + -2.12e-09, f(x) is 2.22e-16\n",
            "At x = 1 + -1.52e-09, f(x) is 0.00e+00\n",
            "At x = 1 + -9.09e-10, f(x) is 0.00e+00\n",
            "At x = 1 + -3.03e-10, f(x) is 0.00e+00\n",
            "At x = 1 + 3.03e-10, f(x) is 0.00e+00\n",
            "At x = 1 + 9.09e-10, f(x) is 0.00e+00\n",
            "At x = 1 + 1.52e-09, f(x) is 0.00e+00\n"
          ],
          "name": "stdout"
        },
        {
          "output_type": "display_data",
          "data": {
            "image/png": "[encoded data removed]",
            "text/plain": [
              "<Figure size 576x396 with 2 Axes>"
            ]
          },
          "metadata": {
            "tags": [],
            "needs_background": "light"
          }
        }
      ]
    },
    {
      "cell_type": "markdown",
      "metadata": {
        "id": "2_vYP1ar6k3t"
      },
      "source": [
        "The table of values shows us the problem!  Within our limited precision, **many** values of x give us a root, since the nearest floating point number is $0$"
      ]
    },
    {
      "cell_type": "markdown",
      "metadata": {
        "id": "msh09Cj_7BfO"
      },
      "source": [
        "## Let's try finding the roots via a generic rootfinding method (i.e., ignoring the fact that we have a polynomial)\n",
        "\n",
        "Call [`root_scalar`](https://docs.scipy.org/doc/scipy/reference/generated/scipy.optimize.root_scalar.html#scipy.optimize.root_scalar). "
      ]
    },
    {
      "cell_type": "code",
      "metadata": {
        "id": "8mMMTCSV08_n",
        "outputId": "0c32a92b-979f-4e31-c59c-6b6a618b2955",
        "colab": {
          "base_uri": "https://localhost:8080/",
          "height": 102
        }
      },
      "source": [
        "coeff_deriv = np.polyder( coeff )\n",
        "deriv   = lambda x : np.polyval( coeff_deriv, x )\n",
        "root_scalar( f, x0 = 1.1, fprime = deriv )"
      ],
      "execution_count": null,
      "outputs": [
        {
          "output_type": "execute_result",
          "data": {
            "text/plain": [
              "      converged: True\n",
              "           flag: 'converged'\n",
              " function_calls: 46\n",
              "     iterations: 23\n",
              "           root: 1.0000000162008909"
            ]
          },
          "metadata": {
            "tags": []
          },
          "execution_count": 82
        }
      ]
    },
    {
      "cell_type": "markdown",
      "metadata": {
        "id": "8TNFkGcU8bg0"
      },
      "source": [
        "Let's repeat, but with a different evaluation of $f$ (taking advantage that we already know it in factored form)"
      ]
    },
    {
      "cell_type": "code",
      "metadata": {
        "id": "O7clsoPC1hFV",
        "outputId": "dc33c3c7-7086-4e41-c951-5c6a3a389507",
        "colab": {
          "base_uri": "https://localhost:8080/",
          "height": 102
        }
      },
      "source": [
        "f       = lambda x : (x-trueRoots[0])*(x-trueRoots[1]) # different\n",
        "coeff_deriv = np.polyder( coeff )\n",
        "deriv   = lambda x : np.polyval( coeff_deriv, x )\n",
        "out = root_scalar( f, x0 = 1.1, fprime = deriv )\n",
        "out"
      ],
      "execution_count": null,
      "outputs": [
        {
          "output_type": "execute_result",
          "data": {
            "text/plain": [
              "      converged: True\n",
              "           flag: 'converged'\n",
              " function_calls: 46\n",
              "     iterations: 23\n",
              "           root: 1.0000000176119155"
            ]
          },
          "metadata": {
            "tags": []
          },
          "execution_count": 125
        }
      ]
    },
    {
      "cell_type": "code",
      "metadata": {
        "id": "XCW7G-vL8iUH",
        "outputId": "c1c257a4-7497-4f3e-af4b-703d0ce191bc",
        "colab": {
          "base_uri": "https://localhost:8080/",
          "height": 38
        }
      },
      "source": [
        "# What is the relative error?\n",
        "abs( out.root - trueRoots[1] )/abs(trueRoots[1])"
      ],
      "execution_count": null,
      "outputs": [
        {
          "output_type": "execute_result",
          "data": {
            "image/png": "[encoded data removed]",
            "text/latex": "$$7.611915466207943e-09$$",
            "text/plain": [
              "7.611915466207943e-09"
            ]
          },
          "metadata": {
            "tags": []
          },
          "execution_count": 127
        }
      ]
    },
    {
      "cell_type": "code",
      "metadata": {
        "id": "mrrKxtEn13Nl"
      },
      "source": [
        "# We have about 8 digits of accuracy, roughly"
      ],
      "execution_count": null,
      "outputs": []
    }
  ]
}