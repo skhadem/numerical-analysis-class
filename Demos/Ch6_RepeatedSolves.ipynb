{
  "nbformat": 4,
  "nbformat_minor": 0,
  "metadata": {
    "colab": {
      "name": "Ch6_RepeatedSolves.ipynb",
      "provenance": [],
      "authorship_tag": "ABX9TyOq5raZt7E43QFfQfCsfITi",
      "include_colab_link": true
    },
    "kernelspec": {
      "name": "python3",
      "display_name": "Python 3"
    }
  },
  "cells": [
    {
      "cell_type": "markdown",
      "metadata": {
        "id": "view-in-github",
        "colab_type": "text"
      },
      "source": [
        "<a href=\"https://colab.research.google.com/github/stephenbeckr/numerical-analysis-class/blob/master/Demos/Ch6_RepeatedSolves.ipynb\" target=\"_parent\"><img src=\"https://colab.research.google.com/assets/colab-badge.svg\" alt=\"Open In Colab\"/></a>"
      ]
    },
    {
      "cell_type": "markdown",
      "metadata": {
        "id": "SaxjS8OT35y-"
      },
      "source": [
        "# Why learn about LU? Why not just use `solve` (scipy) or backslash (Matlab)?\n",
        "\n",
        "It's often quite handy. For example, if you have the same matrix $A$ but many different right-hand-sides $b$, then you only need to find the LU decomposition of $A$ once (this is the expensive, $O(n^3)$ part), and then for each right-hand-side, just do backsubstitution (relatively cheap, at $O(n^2)$).\n",
        "\n",
        "For Matlab, the equivalent of `scipy.linalg.solve` is \n",
        "backslash `\\`, aka [`mldivide`](https://www.mathworks.com/help/matlab/ref/mldivide.html).  See more at the [Matlab systems-of-equations](https://www.mathworks.com/help/matlab/math/systems-of-linear-equations.html) documentation which also shows you how to use the new [`decomposition`](https://www.mathworks.com/help/matlab/ref/decomposition.html) function ).  You can either ask for a LU factorization explicitly and save it, or as for a vague \"decomposition\" and Matlab will guess a factorization (LU, Cholesky, etc) and then save it, and then you can use this with the backslash `\\` seemlessly.  Neat!\n",
        "\n",
        "*To be more accurate, the true equivalent of `scipy.linalg.solve` is Matlab's [`linsolve`](https://www.mathworks.com/help/matlab/ref/linsolve.html).  It's like backslash but it doesn't guess the structure of the matrix for you, rather you have to tell it. So that can be more annoying, but it can also save computational time (if you know it's a symmetric matrix, no need for Matlab to numerically check if it is, etc.)\n",
        "\n",
        "\n",
        "### Below is a timing example about the benefits of precomputing an LU factorization"
      ]
    },
    {
      "cell_type": "code",
      "metadata": {
        "id": "Pf5KwgOnwW-4"
      },
      "source": [
        "import numpy as np\n",
        "from numpy.random import default_rng\n",
        "rng = default_rng(123)\n",
        "from timeit import timeit, time\n",
        "\n",
        "from scipy.linalg import solve, lu_factor, lu_solve"
      ],
      "execution_count": 13,
      "outputs": []
    },
    {
      "cell_type": "code",
      "metadata": {
        "id": "RwrvJRjl3-Ye"
      },
      "source": [
        "n = int(3e3)\n",
        "A = rng.standard_normal((n,n))\n",
        "nTrials = 10"
      ],
      "execution_count": 9,
      "outputs": []
    },
    {
      "cell_type": "markdown",
      "metadata": {
        "id": "u1hWsEHW6V98"
      },
      "source": [
        "For each new right-hand-side, just call `solve`. This is wasteful, since $A$ isn't changing"
      ]
    },
    {
      "cell_type": "code",
      "metadata": {
        "colab": {
          "base_uri": "https://localhost:8080/"
        },
        "id": "j6ycJbbw45_J",
        "outputId": "9eb61580-aa73-414e-fbc3-cac5015f223e"
      },
      "source": [
        "%%time\n",
        "for rep in range(nTrials):\n",
        "  b = rng.standard_normal(n)\n",
        "  x = solve(A,b)"
      ],
      "execution_count": 11,
      "outputs": [
        {
          "output_type": "stream",
          "text": [
            "CPU times: user 12.8 s, sys: 1.42 s, total: 14.2 s\n",
            "Wall time: 7.26 s\n"
          ],
          "name": "stdout"
        }
      ]
    },
    {
      "cell_type": "markdown",
      "metadata": {
        "id": "XPTZSsoz6blN"
      },
      "source": [
        "This time, let's precompute the LU factorization of $A$ and re-use it. Much faster!"
      ]
    },
    {
      "cell_type": "code",
      "metadata": {
        "colab": {
          "base_uri": "https://localhost:8080/"
        },
        "id": "PshLcqA946si",
        "outputId": "1a1b35ce-d240-4980-9dfb-758812bafd6e"
      },
      "source": [
        "%%time\n",
        "LU, piv = lu_factor(A)\n",
        "for rep in range(nTrials):\n",
        "  b = rng.standard_normal(n)\n",
        "  x = lu_solve((LU,piv),b)"
      ],
      "execution_count": 15,
      "outputs": [
        {
          "output_type": "stream",
          "text": [
            "CPU times: user 1.22 s, sys: 80.9 ms, total: 1.3 s\n",
            "Wall time: 682 ms\n"
          ],
          "name": "stdout"
        }
      ]
    }
  ]
}