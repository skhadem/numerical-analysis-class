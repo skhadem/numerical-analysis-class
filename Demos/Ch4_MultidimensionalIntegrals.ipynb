{
  "nbformat": 4,
  "nbformat_minor": 0,
  "metadata": {
    "colab": {
      "name": "Ch4_MultidimensionalIntegrals.ipynb",
      "provenance": [],
      "authorship_tag": "ABX9TyPHC6M9ZxqgULamy5XRsYh1",
      "include_colab_link": true
    },
    "kernelspec": {
      "name": "python3",
      "display_name": "Python 3"
    }
  },
  "cells": [
    {
      "cell_type": "markdown",
      "metadata": {
        "id": "view-in-github",
        "colab_type": "text"
      },
      "source": [
        "<a href=\"https://colab.research.google.com/github/stephenbeckr/numerical-analysis-class/blob/master/Demos/Ch4_MultidimensionalIntegrals.ipynb\" target=\"_parent\"><img src=\"https://colab.research.google.com/assets/colab-badge.svg\" alt=\"Open In Colab\"/></a>"
      ]
    },
    {
      "cell_type": "markdown",
      "metadata": {
        "id": "06-QMcbgPP91"
      },
      "source": [
        "# Integration in multiple dimensions\n",
        "Before, we talked about\n",
        "$$\\int_a^b f(x)\\,dx$$\n",
        "and now let's talk about\n",
        "$$\\int_a^b \\int_c^d f(x,y)\\,dy dx$$\n",
        "and even triple or higher-dimensional integrals.\n",
        "\n",
        "Our trick is to reduce this to 1D integrals:\n",
        "$$\\int_a^b \\underbrace{\\int_c^d f(x,y)\\,dy}_{g(x)} dx = \\int_a^b g(x)\\,dx$$\n",
        "where\n",
        "$$g(x) = \\int_c^d f(x,y)\\,dy.$$"
      ]
    },
    {
      "cell_type": "code",
      "metadata": {
        "id": "XnqqMgyRPwOO"
      },
      "source": [
        "import numpy as np\n",
        "from scipy.integrate import quadrature, quad, dblquad  # quadrature is Gassian quadrature\n",
        "import functools # used for decorators"
      ],
      "execution_count": 5,
      "outputs": []
    },
    {
      "cell_type": "markdown",
      "metadata": {
        "id": "ki4sGNYBRkdS"
      },
      "source": [
        "### Let's pick an integral\n",
        "From exercise set 4.8 problem 1a in Burden and Faires, find\n",
        "$$\\int_{2.1}^{2.5} \\int_{1.2}^{1.4} xy^2 \\, dydx$$\n",
        "which we can do in closed form\n",
        "$$\n",
        "\\ldots = \\int_{2.1}^{2.5} \\frac13xy^3\\big|_{1.2}^{1.4} dx\n",
        "= \\int_{2.1}^{2.5} \\frac13x(1.4^3-1.2^3) dx\n",
        "= \\frac13\\frac12(1.4^3-1.2^3)(2.5^2-2.1^2)\n",
        "$$\n",
        "\n",
        "Note that this is really a **separable** integral, meaning we can pull the $x$ out of the inner integrand, and then multiply two 1D integrals: $$f(x,y) = f(x)\\cdot f(y).$$  This is generally not possible."
      ]
    },
    {
      "cell_type": "code",
      "metadata": {
        "id": "U4tmGhLXSarr"
      },
      "source": [
        "# lambda functions are more complicated to vectorize\n",
        "# f = lambda x,y : x*y**2\n",
        "\n",
        "#@np.vectorize  # not needed\n",
        "def f(x,y):\n",
        "  return x*y**2\n",
        "\n",
        "a, b = 2.1, 2.5\n",
        "c, d = 1.2, 1.4\n",
        "I = (d**3-c**3)*(b**2-a**2)/6  # true value"
      ],
      "execution_count": 6,
      "outputs": []
    },
    {
      "cell_type": "markdown",
      "metadata": {
        "id": "yosWLZqJb3VM"
      },
      "source": [
        "Let's check that scipy's builtin 2D integrator, `dblquad`, works as intended"
      ]
    },
    {
      "cell_type": "code",
      "metadata": {
        "id": "uTMlWyqwb2cm",
        "outputId": "5a451561-4759-47b1-860f-222c3ce2de15",
        "colab": {
          "base_uri": "https://localhost:8080/",
          "height": 34
        }
      },
      "source": [
        "# Let's try getting it via scipy.  Be careful!  The input f must be:\n",
        "# \"A Python function or method of at least two variables: y must be the first argument and x the second argument.\"\n",
        "def swap_decorator(f):\n",
        "  @functools.wraps(f)\n",
        "  def decorated(x,y):\n",
        "    return f(y,x)\n",
        "  return decorated\n",
        "\n",
        "Q,errEst = dblquad( swap_decorator(f), a,b,c,d)\n",
        "print(f'True integral {I:.10f}, estimate {Q:.10f}, error {abs(I-Q):.3e}')"
      ],
      "execution_count": 7,
      "outputs": [
        {
          "output_type": "stream",
          "text": [
            "True integral 0.3115733333, estimate 0.3115733333, error 1.665e-16\n"
          ],
          "name": "stdout"
        }
      ]
    },
    {
      "cell_type": "markdown",
      "metadata": {
        "id": "X0YDfRNYb-EN"
      },
      "source": [
        "### Our procedure is going to rely on a 1D integrator\n",
        "Call this the \"base\" quadrature rule. We can use whichever one we like. We may want to adjust the tolerance settings so that it runs faster (but is less accurate), as this will be important for very high dimensional integrals"
      ]
    },
    {
      "cell_type": "code",
      "metadata": {
        "id": "uBbq0V_nSl8A"
      },
      "source": [
        "def baseQuadratureRule(f,a,b):\n",
        "  \"\"\"1D integration of f(x) from a to b\"\"\"\n",
        "  # Either do this Gaussian quadrature rule...\n",
        "  #  (and set vec_func=False if we want to avoid np.vectorize)\n",
        "  # Q, errEstimate = quadrature(f,a,b,tol=1e-14,rtol=1e-14,maxiter=200,vec_func=False)\n",
        "\n",
        "  # or do this adaptive quadrature rule...\n",
        "  Q, errEstimate = quad(f,a,b,epsabs=1.5e-8,epsrel=1.5e-8,limit=50)\n",
        "  return Q"
      ],
      "execution_count": 8,
      "outputs": []
    },
    {
      "cell_type": "markdown",
      "metadata": {
        "id": "2BxXdfEyZPl4"
      },
      "source": [
        "Make sure the base quadrature rule works"
      ]
    },
    {
      "cell_type": "code",
      "metadata": {
        "id": "xxV4LdzeZSvJ",
        "outputId": "35006357-821b-454a-fe73-905fa39c4939",
        "colab": {
          "base_uri": "https://localhost:8080/",
          "height": 34
        }
      },
      "source": [
        "g = np.cos\n",
        "G = np.sin\n",
        "aa,bb = -1,2\n",
        "Q = baseQuadratureRule( g,aa,bb )\n",
        "print(f'Error of based quadrature rule is {abs(Q-G(bb)+G(aa)):.2e}')"
      ],
      "execution_count": 10,
      "outputs": [
        {
          "output_type": "stream",
          "text": [
            "Error of based quadrature rule is 2.22e-16\n"
          ],
          "name": "stdout"
        }
      ]
    },
    {
      "cell_type": "markdown",
      "metadata": {
        "id": "7NQRZpPsZrAm"
      },
      "source": [
        "## Define the 2D quadrature rule"
      ]
    },
    {
      "cell_type": "code",
      "metadata": {
        "id": "ZyoeljpQW8Sk"
      },
      "source": [
        "def my2D_quadrature(f,a,b,c,d, baseQuadRule ):\n",
        "  \"\"\"takes f(x,y) and integrates x from [a,b] and y from [c,d]\"\"\"\n",
        "  \n",
        "  @np.vectorize # not needed if using \"quad\", but needed for \"quadrature\" if vec_func=True (the default)\n",
        "  def g(x):\n",
        "    \"\"\" g(x) = \\int_c^d f(x,y) dy \"\"\"\n",
        "    #@np.vectorize # not needed\n",
        "    def f_as_fcn_of_y(y):\n",
        "      return f(x,y)\n",
        "\n",
        "    # the limits are c to d, but you can see that if we wanted\n",
        "    # them to be functions of x, it would be as simple\n",
        "    # as calling  baseQuadRule( f_as_fcn_of_y, c(x), d(x) )\n",
        "    Q = baseQuadRule( f_as_fcn_of_y, c, d )\n",
        "    return Q\n",
        "  \n",
        "  Q = baseQuadRule( g, a, b )\n",
        "  return Q"
      ],
      "execution_count": 11,
      "outputs": []
    },
    {
      "cell_type": "code",
      "metadata": {
        "id": "2u9wLYP9Xww9",
        "outputId": "b5fbd44c-51b6-4a6a-c7a4-2f23818b3576",
        "colab": {
          "base_uri": "https://localhost:8080/",
          "height": 34
        }
      },
      "source": [
        "Q = my2D_quadrature(f,a,b,c,d,baseQuadratureRule)\n",
        "\n",
        "print(f'True integral {I:.10f}, estimate {Q:.10f}, error {abs(I-Q):.3e}')"
      ],
      "execution_count": 13,
      "outputs": [
        {
          "output_type": "stream",
          "text": [
            "True integral 0.3115733333, estimate 0.3115733333, error 1.665e-16\n"
          ],
          "name": "stdout"
        }
      ]
    },
    {
      "cell_type": "markdown",
      "metadata": {
        "id": "jPjf0DyJcXD2"
      },
      "source": [
        "Hopefully you see that it is conceptually easy, though it may require advanced **programming** tricks to get it to work.\n",
        "\n",
        "Some of the base integrators will try to evaluate $f$ at a whole array of points all at once, expecting it to output an array (since this is usually much faster than a `for` loop).  If we have 2 inputs, this can cause a problem.  That's what some of the `np.vectorize` takes care of"
      ]
    },
    {
      "cell_type": "markdown",
      "metadata": {
        "id": "7oFIKnlk7Xm4"
      },
      "source": [
        "## Another way to do it\n",
        "We'll make two changes, one mathematical, the other programming:\n",
        "\n",
        "Before, we had \n",
        "$$\\int_a^b \\underbrace{\\int_c^d f(x,y)\\,dy}_{g(x)} dx = \\int_a^b g(x)\\,dx$$\n",
        "where\n",
        "$$g(x) = \\int_c^d f(x,y)\\,dy.$$\n",
        "\n",
        "Now, just flip the order\n",
        "$$\\int_c^d \\underbrace{\\int_a^b f(x,y)\\,dx}_{s(y)} dy = \\int_c^d s(y)\\,dy$$\n",
        "where\n",
        "$$s(y) = \\int_a^b f(x,y)\\,dx.$$\n",
        "That was the mathematical change.\n",
        "\n",
        "Now, a programming change. Intead of defining `f_as_fcn_of_y`, we can let the quadrature rule do that for us, using the special `args=(...)` format.\n",
        "\n",
        "This means that if we give the base quadrature rule a function $f(x,y)$ and tell it `args=(y0)`, then it will treat this as a 1D function $f(x,y_0)$ where $y_0$ is the `y0` value you gave to `args=...`.\n",
        "\n",
        "This is just an alternative way to what we did before -- either way is OK.\n",
        "\n",
        "If we do this new `args=(...)` style, then we need to update the `baseQuadratureRule` to allow these additional inputs to be given to it. A nice easy way to do this is with the `*args` and `**kwargs`` commands. See code below:"
      ]
    },
    {
      "cell_type": "code",
      "metadata": {
        "id": "Ay6H9OgN6290",
        "outputId": "d6581047-ab7f-465a-8423-eb8afe1adfc8",
        "colab": {
          "base_uri": "https://localhost:8080/",
          "height": 34
        }
      },
      "source": [
        "def baseQuadratureRule(f,a,b,*args,**kwargs):\n",
        "  \"\"\"1D integration of f(x) from a to b\"\"\"\n",
        "  # Either do this Gaussian quadrature rule...\n",
        "  #  (and set vec_func=False if we want to avoid np.vectorize)\n",
        "  # Q, errEstimate = quadrature(f,a,b,tol=1e-14,rtol=1e-14,maxiter=200,vec_func=False,*args,**kwargs)\n",
        "\n",
        "  # or do this adaptive quadrature rule...\n",
        "  Q, errEstimate = quad(f,a,b,epsabs=1.5e-8,epsrel=1.5e-8,limit=50,*args,**kwargs)\n",
        "  return Q\n",
        "\n",
        "def my2D_quadrature(f,a,b,c,d, baseQuadRule ):\n",
        "  \"\"\"takes f(x,y) and integrates x from [a,b] and y from [c,d]\"\"\"\n",
        "  \n",
        "  @np.vectorize # not needed if using \"quad\", but needed for \"quadrature\" if vec_func=True (the default)\n",
        "  def s(y):\n",
        "    \"\"\" g(y) = \\int_a^b f(x,y) dy \"\"\"\n",
        "    Q = baseQuadRule( f, a, b, args = (y) ) # using \"args\"\n",
        "    return Q\n",
        "  \n",
        "  Q = baseQuadRule( s, c, d )\n",
        "  return Q\n",
        "\n",
        "\n",
        "Q = my2D_quadrature(f,a,b,c,d,baseQuadratureRule)\n",
        "\n",
        "print(f'True integral {I:.10f}, estimate {Q:.10f}, error {abs(I-Q):.3e}')"
      ],
      "execution_count": 17,
      "outputs": [
        {
          "output_type": "stream",
          "text": [
            "True integral 0.3115733333, estimate 0.3115733333, error 1.665e-16\n"
          ],
          "name": "stdout"
        }
      ]
    },
    {
      "cell_type": "markdown",
      "metadata": {
        "id": "X5nGe2N685C-"
      },
      "source": [
        "Why did we change the roles of $x$ and $y$ compared to our first method? Because the `args=(...)` argument of the 1D quadrature rules puts these arguments at the *end* of the input list of the function.  So if we have $f(w,x,y,z)$ then if we did the quadrature rule with `args=(y0,z0)` then it would convert $f$ effectively into a 2D function with inputs $w,x$. \n",
        "\n",
        "If you wanted to do what we did before, and think of $g(x)$ instead of $s(y)$, which is especially useful if your bounds $c$ and $d$ are really functions of $x$, then we would want $f$ to take the inputs in **reverse** order; so in the 2D case, $f(y,x)$. This is probably why `dblquad` wants $f$ in this funny reversed order."
      ]
    }
  ]
}