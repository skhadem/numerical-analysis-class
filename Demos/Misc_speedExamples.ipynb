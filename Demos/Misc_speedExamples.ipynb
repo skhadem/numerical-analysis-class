{
  "nbformat": 4,
  "nbformat_minor": 0,
  "metadata": {
    "colab": {
      "name": "Misc_speedExamples.ipynb",
      "provenance": [],
      "authorship_tag": "ABX9TyMTEn3FGrfTFSPNEwycoCt7",
      "include_colab_link": true
    },
    "kernelspec": {
      "name": "python3",
      "display_name": "Python 3"
    }
  },
  "cells": [
    {
      "cell_type": "markdown",
      "metadata": {
        "id": "view-in-github",
        "colab_type": "text"
      },
      "source": [
        "<a href=\"https://colab.research.google.com/github/stephenbeckr/numerical-analysis-class/blob/master/Demos/Misc_speedExamples.ipynb\" target=\"_parent\"><img src=\"https://colab.research.google.com/assets/colab-badge.svg\" alt=\"Open In Colab\"/></a>"
      ]
    },
    {
      "cell_type": "markdown",
      "metadata": {
        "id": "d0QBwFdmJE5H"
      },
      "source": [
        "# Speed considerations in Python\n",
        "In Matlab, most students know the cardinal rule of \"avoid `for` loops. In Python, this is still true, but there are more alternatives, and if you use the wrong alternative, the code may still be slow. The basic Python constructions are good for maintaining and debugging code, but not necessarily for speed. The rule-of-thumb is that if there is a `numpy` version that does the same thing as the basic Python version, then the `numpy` version is faster.\n",
        "\n",
        "## An example (from HW 4): finding the maximum of an array"
      ]
    },
    {
      "cell_type": "code",
      "metadata": {
        "id": "2axuwTDUExqz"
      },
      "source": [
        "import numpy as np\n",
        "from numpy.linalg import norm\n",
        "from timeit import timeit\n",
        "\n",
        "\n",
        "n = int(1e7)\n",
        "x = np.random.randn(n)\n",
        "xList = x.tolist()"
      ],
      "execution_count": 16,
      "outputs": []
    },
    {
      "cell_type": "code",
      "metadata": {
        "id": "FECSubWGE6sD",
        "outputId": "e63f485e-e48f-45db-c0c1-34f57bfddef5",
        "colab": {
          "base_uri": "https://localhost:8080/",
          "height": 68
        }
      },
      "source": [
        "%time max(abs(x))"
      ],
      "execution_count": 17,
      "outputs": [
        {
          "output_type": "stream",
          "text": [
            "CPU times: user 969 ms, sys: 4.84 ms, total: 973 ms\n",
            "Wall time: 976 ms\n"
          ],
          "name": "stdout"
        },
        {
          "output_type": "execute_result",
          "data": {
            "text/plain": [
              "5.583159866604084"
            ]
          },
          "metadata": {
            "tags": []
          },
          "execution_count": 17
        }
      ]
    },
    {
      "cell_type": "code",
      "metadata": {
        "id": "CFzFCtejF0I0",
        "outputId": "b881eb4a-acb4-41e9-f880-c6a2a6e8051e",
        "colab": {
          "base_uri": "https://localhost:8080/",
          "height": 68
        }
      },
      "source": [
        "%time max(abs(xx) for xx in xList)"
      ],
      "execution_count": 18,
      "outputs": [
        {
          "output_type": "stream",
          "text": [
            "CPU times: user 806 ms, sys: 1.9 ms, total: 807 ms\n",
            "Wall time: 809 ms\n"
          ],
          "name": "stdout"
        },
        {
          "output_type": "execute_result",
          "data": {
            "text/plain": [
              "5.583159866604084"
            ]
          },
          "metadata": {
            "tags": []
          },
          "execution_count": 18
        }
      ]
    },
    {
      "cell_type": "code",
      "metadata": {
        "id": "wPTQsY0cGqUK",
        "outputId": "2d494e33-3c17-405a-dda0-306352e1f85f",
        "colab": {
          "base_uri": "https://localhost:8080/",
          "height": 68
        }
      },
      "source": [
        "%time np.max(np.abs(x))"
      ],
      "execution_count": 19,
      "outputs": [
        {
          "output_type": "stream",
          "text": [
            "CPU times: user 24.2 ms, sys: 2.01 ms, total: 26.2 ms\n",
            "Wall time: 29 ms\n"
          ],
          "name": "stdout"
        },
        {
          "output_type": "execute_result",
          "data": {
            "text/plain": [
              "5.583159866604084"
            ]
          },
          "metadata": {
            "tags": []
          },
          "execution_count": 19
        }
      ]
    },
    {
      "cell_type": "code",
      "metadata": {
        "id": "wSHm6_k8G3qq",
        "outputId": "00ff8ab0-c83c-4f06-a56e-81c550bfa6d4",
        "colab": {
          "base_uri": "https://localhost:8080/",
          "height": 68
        }
      },
      "source": [
        "%time norm(x,ord=np.inf)"
      ],
      "execution_count": 20,
      "outputs": [
        {
          "output_type": "stream",
          "text": [
            "CPU times: user 25.7 ms, sys: 0 ns, total: 25.7 ms\n",
            "Wall time: 30.1 ms\n"
          ],
          "name": "stdout"
        },
        {
          "output_type": "execute_result",
          "data": {
            "text/plain": [
              "5.583159866604084"
            ]
          },
          "metadata": {
            "tags": []
          },
          "execution_count": 20
        }
      ]
    },
    {
      "cell_type": "markdown",
      "metadata": {
        "id": "Hh5ok1b5I_3E"
      },
      "source": [
        "## Another example of timing (from HW 4 too)"
      ]
    },
    {
      "cell_type": "code",
      "metadata": {
        "id": "Ut_EdMqkHDHR"
      },
      "source": [
        "f = lambda x : np.sin(20*x)\n",
        "n=1e7;\n",
        "x = np.linspace(1,2,int(n))\n",
        "\n",
        "@np.vectorize # This tells Python to apply np.vectorize to the following function\n",
        "def g_slow(x):\n",
        "  if x < 1.3:\n",
        "    return f(x)\n",
        "  else:\n",
        "    return f(2.6-x)\n",
        "g1 = lambda x : (x<1.3)*f(x) + (x>=1.3)*f(2.6-x)\n",
        "g2 = lambda x : np.piecewise( x, x<1.3, [f, lambda x : f(2.6-x)] )"
      ],
      "execution_count": 5,
      "outputs": []
    },
    {
      "cell_type": "code",
      "metadata": {
        "id": "RijkN_xRJnFL",
        "outputId": "0a3c8f6f-ca05-48bf-c23f-46e68cd1d522",
        "colab": {
          "base_uri": "https://localhost:8080/",
          "height": 85
        }
      },
      "source": [
        "%time g_slow(x)"
      ],
      "execution_count": 6,
      "outputs": [
        {
          "output_type": "stream",
          "text": [
            "CPU times: user 11.8 s, sys: 537 ms, total: 12.3 s\n",
            "Wall time: 12.4 s\n"
          ],
          "name": "stdout"
        },
        {
          "output_type": "execute_result",
          "data": {
            "text/plain": [
              "array([ 0.91294525,  0.91294607,  0.91294688, ..., -0.53656954,\n",
              "       -0.53657123, -0.53657292])"
            ]
          },
          "metadata": {
            "tags": []
          },
          "execution_count": 6
        }
      ]
    },
    {
      "cell_type": "code",
      "metadata": {
        "id": "JcltQYjEJyEk",
        "outputId": "77630f48-4bdb-43ab-87ea-ef15459e20bc",
        "colab": {
          "base_uri": "https://localhost:8080/",
          "height": 85
        }
      },
      "source": [
        "%time g1(x)"
      ],
      "execution_count": 7,
      "outputs": [
        {
          "output_type": "stream",
          "text": [
            "CPU times: user 501 ms, sys: 51 ms, total: 552 ms\n",
            "Wall time: 557 ms\n"
          ],
          "name": "stdout"
        },
        {
          "output_type": "execute_result",
          "data": {
            "text/plain": [
              "array([ 0.91294525,  0.91294607,  0.91294688, ..., -0.53656954,\n",
              "       -0.53657123, -0.53657292])"
            ]
          },
          "metadata": {
            "tags": []
          },
          "execution_count": 7
        }
      ]
    },
    {
      "cell_type": "code",
      "metadata": {
        "id": "275Ck5lfJ1md",
        "outputId": "0cca55cc-0857-4ce0-e5c1-c74005fabee0",
        "colab": {
          "base_uri": "https://localhost:8080/",
          "height": 85
        }
      },
      "source": [
        "%time g2(x)"
      ],
      "execution_count": 8,
      "outputs": [
        {
          "output_type": "stream",
          "text": [
            "CPU times: user 3.75 s, sys: 36.1 ms, total: 3.79 s\n",
            "Wall time: 3.79 s\n"
          ],
          "name": "stdout"
        },
        {
          "output_type": "execute_result",
          "data": {
            "text/plain": [
              "array([ 0.91294525,  0.91294607,  0.91294688, ..., -0.53656954,\n",
              "       -0.53657123, -0.53657292])"
            ]
          },
          "metadata": {
            "tags": []
          },
          "execution_count": 8
        }
      ]
    },
    {
      "cell_type": "code",
      "metadata": {
        "id": "0LfdqV4RJ2be"
      },
      "source": [
        ""
      ],
      "execution_count": null,
      "outputs": []
    }
  ]
}