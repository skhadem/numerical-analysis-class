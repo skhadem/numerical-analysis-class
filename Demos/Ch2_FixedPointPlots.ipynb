{
  "nbformat": 4,
  "nbformat_minor": 0,
  "metadata": {
    "colab": {
      "name": "Ch2_FixedPointPlots.ipynb",
      "provenance": [],
      "authorship_tag": "ABX9TyNEfojo0RH/WQwhY9HmJUkN",
      "include_colab_link": true
    },
    "kernelspec": {
      "name": "python3",
      "display_name": "Python 3"
    }
  },
  "cells": [
    {
      "cell_type": "markdown",
      "metadata": {
        "id": "view-in-github",
        "colab_type": "text"
      },
      "source": [
        "<a href=\"https://colab.research.google.com/github/stephenbeckr/numerical-analysis-class/blob/master/Demos/Ch2_FixedPointPlots.ipynb\" target=\"_parent\"><img src=\"https://colab.research.google.com/assets/colab-badge.svg\" alt=\"Open In Colab\"/></a>"
      ]
    },
    {
      "cell_type": "markdown",
      "metadata": {
        "id": "8v-7YFdsl296",
        "colab_type": "text"
      },
      "source": [
        "# Fixed Point iteration (and cobweb plots)\n",
        "\n",
        "See [cobweb plot on wikipedia](https://en.wikipedia.org/wiki/Cobweb_plot), sometimes called a spider diagram\n",
        "\n",
        "You can plot these via Python, but to make them nice and interactive is a bit of work (`matplotlib.animation.FuncAnimation` can do it, but you have to be quite proficient with Python and matplotlib).\n",
        "\n",
        "For this demo, I recommend that you use [this geogebra online cobweb plot](https://www.geogebra.org/m/uvsfvNDt) which is quite simple and runs on most modern web browsers.\n",
        "\n",
        "We'll look at 5 different fixed-point reformulations of the same root-finding problem\n",
        "$$f(x) = x^3 + 4x^2 - 10, \\text{ find } f(x)=0$$\n",
        "\n",
        "where we now solve the fixed point equation $$g(x)=x$$ for:\n",
        "1. $$g_1(x) = x - x^3 - 4x^2+10$$\n",
        "2. $$g_2(x) = \\sqrt{\\frac{10}{x}-4x}$$\n",
        "3. $$g_3(x) = \\frac{1}{2}\\sqrt{10-x^3}$$\n",
        "4. $$g_4(x) = \\sqrt{\\frac{10}{4+x}}$$\n",
        "5. $$g_5(x) = x - \\frac{x^3+4x^2-10}{3x^2+8x}$$\n",
        "\n",
        "These are in the book in Table 2.2.\n",
        "\n",
        "The goal of this demo is:\n",
        "1. Learn how to use and interpret a cobweb plot\n",
        "2. Predict which of the fixed point formulations will converge (hint: plot their deriviative)\n",
        "3. Check your predictions with the cobweb plot"
      ]
    },
    {
      "cell_type": "code",
      "metadata": {
        "id": "qV4K6SHil1z6",
        "colab_type": "code",
        "colab": {
          "base_uri": "https://localhost:8080/",
          "height": 359
        },
        "outputId": "a5d2b017-ec1e-49e8-c9a1-8e09ebeded01"
      },
      "source": [
        "import math\n",
        "from sympy import init_printing\n",
        "init_printing()\n",
        "\n",
        "#from sympy import symbols\n",
        "from sympy import *\n",
        "from sympy.plotting import plot\n",
        "\n",
        "x = symbols('x')\n",
        "f, fprime = symbols('f fprime',cls=Function)\n",
        "\n",
        "f = x**3 + 4*x**2 - 10\n",
        "plot( f, (x,0,3), ylim = (-5,5) );"
      ],
      "execution_count": 44,
      "outputs": [
        {
          "output_type": "stream",
          "text": [
            "/usr/local/lib/python3.6/dist-packages/sympy/plotting/plot.py:890: MatplotlibDeprecationWarning: \n",
            "The set_smart_bounds function was deprecated in Matplotlib 3.2 and will be removed two minor releases later.\n",
            "  self.ax.spines['left'].set_smart_bounds(True)\n",
            "/usr/local/lib/python3.6/dist-packages/sympy/plotting/plot.py:891: MatplotlibDeprecationWarning: \n",
            "The set_smart_bounds function was deprecated in Matplotlib 3.2 and will be removed two minor releases later.\n",
            "  self.ax.spines['bottom'].set_smart_bounds(False)\n"
          ],
          "name": "stderr"
        },
        {
          "output_type": "display_data",
          "data": {
            "image/png": "[encoded data removed]",
            "text/plain": [
              "<Figure size 432x288 with 1 Axes>"
            ]
          },
          "metadata": {
            "tags": [],
            "needs_background": "light"
          }
        }
      ]
    },
    {
      "cell_type": "code",
      "metadata": {
        "id": "tAdCiDiYvryw",
        "colab_type": "code",
        "colab": {
          "base_uri": "https://localhost:8080/",
          "height": 102
        },
        "outputId": "98ba55d2-66ca-4f41-a457-8291b7d0d241"
      },
      "source": [
        "from scipy.optimize import root_scalar\n",
        "output = root_scalar( lambda x :x**3 + 4*x**2 - 10, x0 = 1.5, x1 = 1.4)\n",
        "output"
      ],
      "execution_count": 69,
      "outputs": [
        {
          "output_type": "execute_result",
          "data": {
            "text/plain": [
              "      converged: True\n",
              "           flag: 'converged'\n",
              " function_calls: 6\n",
              "     iterations: 5\n",
              "           root: 1.3652300134140967"
            ]
          },
          "metadata": {
            "tags": []
          },
          "execution_count": 69
        }
      ]
    },
    {
      "cell_type": "code",
      "metadata": {
        "id": "v1-hSsSfxbnK",
        "colab_type": "code",
        "colab": {
          "base_uri": "https://localhost:8080/",
          "height": 207
        },
        "outputId": "c46ccd29-0741-40dc-d943-05abbfd8ab68"
      },
      "source": [
        "# The fix point iteration is very simple.  Not having any error checking or convergence checks, \n",
        "# in order to focus on the algorihtm itself, the following is an implementation\n",
        "def fixedPointIter( f, x0, maxIter ):\n",
        "  p = x0 # if a numpy array, then do x0.copy()\n",
        "  for i in range(maxIter):\n",
        "    p = f(p)\n",
        "    print(\"Iter {:3d}, guess is {:12.9f}\".format(i,p))\n",
        "  return p\n",
        "\n",
        "p = fixedPointIter( lambda x : .5*math.sqrt(10-x**3), 1.5, 10 )\n",
        "p"
      ],
      "execution_count": 76,
      "outputs": [
        {
          "output_type": "stream",
          "text": [
            "Iter   0, guess is  1.286953768\n",
            "Iter   1, guess is  1.402540804\n",
            "Iter   2, guess is  1.345458374\n",
            "Iter   3, guess is  1.375170253\n",
            "Iter   4, guess is  1.360094193\n",
            "Iter   5, guess is  1.367846968\n",
            "Iter   6, guess is  1.363887004\n",
            "Iter   7, guess is  1.365916733\n",
            "Iter   8, guess is  1.364878217\n",
            "Iter   9, guess is  1.365410061\n"
          ],
          "name": "stdout"
        },
        {
          "output_type": "execute_result",
          "data": {
            "image/png": "[encoded data removed]",
            "text/latex": "$$1.365410061169957$$",
            "text/plain": [
              "1.365410061169957"
            ]
          },
          "metadata": {
            "tags": []
          },
          "execution_count": 76
        }
      ]
    },
    {
      "cell_type": "markdown",
      "metadata": {
        "id": "tTwgUFQas8JJ",
        "colab_type": "text"
      },
      "source": [
        "## Formulation 1\n",
        "$$g_1(x) = x - x^3 - 4x^2+10$$"
      ]
    },
    {
      "cell_type": "code",
      "metadata": {
        "id": "ALYGxunXoU6S",
        "colab_type": "code",
        "colab": {
          "base_uri": "https://localhost:8080/",
          "height": 38
        },
        "outputId": "bbfcf2bb-c04a-418f-de76-be44ba1ec9e9"
      },
      "source": [
        "g1 = x - x**3 - 4*x**2+10\n",
        "g1"
      ],
      "execution_count": 41,
      "outputs": [
        {
          "output_type": "execute_result",
          "data": {
            "image/png": "[encoded data removed]",
            "text/latex": "$$- x^{3} - 4 x^{2} + x + 10$$",
            "text/plain": [
              "   3      2         \n",
              "- x  - 4⋅x  + x + 10"
            ]
          },
          "metadata": {
            "tags": []
          },
          "execution_count": 41
        }
      ]
    },
    {
      "cell_type": "code",
      "metadata": {
        "id": "Cn_kgw7fs36x",
        "colab_type": "code",
        "colab": {
          "base_uri": "https://localhost:8080/",
          "height": 38
        },
        "outputId": "a0f865c7-8804-4c9a-a61d-e777005b09d3"
      },
      "source": [
        "g1Prime = diff(g1)\n",
        "g1Prime"
      ],
      "execution_count": 42,
      "outputs": [
        {
          "output_type": "execute_result",
          "data": {
            "image/png": "[encoded data removed]",
            "text/latex": "$$- 3 x^{2} - 8 x + 1$$",
            "text/plain": [
              "     2          \n",
              "- 3⋅x  - 8⋅x + 1"
            ]
          },
          "metadata": {
            "tags": []
          },
          "execution_count": 42
        }
      ]
    },
    {
      "cell_type": "code",
      "metadata": {
        "id": "jVqncRs5pdzb",
        "colab_type": "code",
        "colab": {
          "base_uri": "https://localhost:8080/",
          "height": 359
        },
        "outputId": "b882fe6c-52de-46fa-9780-3f345617d6df"
      },
      "source": [
        "plt1 = plot( g1, (x,0,3), ylim = (-5,5), show=False )\n",
        "plt2 = plot( g1Prime, (x,0,3), show=False , line_color='red')\n",
        "plt3 = plot( x, (x,0,3), show=False , line_color='green')\n",
        "plt1.append( plt2[0] )\n",
        "plt1.append( plt3[0] )\n",
        "#ax.axis('equal') # equal aspect ratio, so 45 degree line looks like 45 degrees\n",
        "plt1.show()"
      ],
      "execution_count": 40,
      "outputs": [
        {
          "output_type": "stream",
          "text": [
            "/usr/local/lib/python3.6/dist-packages/sympy/plotting/plot.py:890: MatplotlibDeprecationWarning: \n",
            "The set_smart_bounds function was deprecated in Matplotlib 3.2 and will be removed two minor releases later.\n",
            "  self.ax.spines['left'].set_smart_bounds(True)\n",
            "/usr/local/lib/python3.6/dist-packages/sympy/plotting/plot.py:891: MatplotlibDeprecationWarning: \n",
            "The set_smart_bounds function was deprecated in Matplotlib 3.2 and will be removed two minor releases later.\n",
            "  self.ax.spines['bottom'].set_smart_bounds(False)\n"
          ],
          "name": "stderr"
        },
        {
          "output_type": "display_data",
          "data": {
            "image/png": "[encoded data removed]",
            "text/plain": [
              "<Figure size 432x288 with 1 Axes>"
            ]
          },
          "metadata": {
            "tags": [],
            "needs_background": "light"
          }
        }
      ]
    },
    {
      "cell_type": "code",
      "metadata": {
        "id": "0Nkm2v8wqT74",
        "colab_type": "code",
        "colab": {}
      },
      "source": [
        ""
      ],
      "execution_count": null,
      "outputs": []
    },
    {
      "cell_type": "markdown",
      "metadata": {
        "id": "zlIZTQFatEJU",
        "colab_type": "text"
      },
      "source": [
        "## Formulation 2\n",
        "$$g_2(x) = \\sqrt{\\frac{10}{x}-4x}$$"
      ]
    },
    {
      "cell_type": "code",
      "metadata": {
        "id": "BN9G617stJl7",
        "colab_type": "code",
        "colab": {
          "base_uri": "https://localhost:8080/",
          "height": 48
        },
        "outputId": "9f31a281-0ae2-458c-dcc2-9506ec05a792"
      },
      "source": [
        "g2 = sqrt( 10/x-4*x )\n",
        "g2"
      ],
      "execution_count": 47,
      "outputs": [
        {
          "output_type": "execute_result",
          "data": {
            "image/png": "[encoded data removed]",
            "text/latex": "$$\\sqrt{- 4 x + \\frac{10}{x}}$$",
            "text/plain": [
              "    ___________\n",
              "   ╱        10 \n",
              "  ╱  -4⋅x + ── \n",
              "╲╱          x  "
            ]
          },
          "metadata": {
            "tags": []
          },
          "execution_count": 47
        }
      ]
    },
    {
      "cell_type": "code",
      "metadata": {
        "id": "Q3xfbeHTtWhr",
        "colab_type": "code",
        "colab": {
          "base_uri": "https://localhost:8080/",
          "height": 52
        },
        "outputId": "3033cffe-fb78-453f-a9e7-a5d9db1ba0e7"
      },
      "source": [
        "g2Prime = diff(g2)\n",
        "g2Prime"
      ],
      "execution_count": 48,
      "outputs": [
        {
          "output_type": "execute_result",
          "data": {
            "image/png": "[encoded data removed]",
            "text/latex": "$$\\frac{-2 - \\frac{5}{x^{2}}}{\\sqrt{- 4 x + \\frac{10}{x}}}$$",
            "text/plain": [
              "         5     \n",
              "    -2 - ──    \n",
              "          2    \n",
              "         x     \n",
              "───────────────\n",
              "    ___________\n",
              "   ╱        10 \n",
              "  ╱  -4⋅x + ── \n",
              "╲╱          x  "
            ]
          },
          "metadata": {
            "tags": []
          },
          "execution_count": 48
        }
      ]
    },
    {
      "cell_type": "code",
      "metadata": {
        "id": "MvRGwcd_tvec",
        "colab_type": "code",
        "colab": {
          "base_uri": "https://localhost:8080/",
          "height": 365
        },
        "outputId": "a6d035b7-ea06-4b8d-d518-278f77a550f0"
      },
      "source": [
        "plt1 = plot( g2, (x,1,2), ylim = (-10,3), show=False )\n",
        "plt2 = plot( g2Prime, (x,1,2), show=False , line_color='red')\n",
        "plt3 = plot( x, (x,1,2), show=False , line_color='green')\n",
        "plt1.append( plt2[0] )\n",
        "plt1.append( plt3[0] )\n",
        "#ax.axis('equal') # equal aspect ratio, so 45 degree line looks like 45 degrees\n",
        "plt1.show()"
      ],
      "execution_count": 58,
      "outputs": [
        {
          "output_type": "stream",
          "text": [
            "/usr/local/lib/python3.6/dist-packages/sympy/plotting/plot.py:890: MatplotlibDeprecationWarning: \n",
            "The set_smart_bounds function was deprecated in Matplotlib 3.2 and will be removed two minor releases later.\n",
            "  self.ax.spines['left'].set_smart_bounds(True)\n",
            "/usr/local/lib/python3.6/dist-packages/sympy/plotting/plot.py:891: MatplotlibDeprecationWarning: \n",
            "The set_smart_bounds function was deprecated in Matplotlib 3.2 and will be removed two minor releases later.\n",
            "  self.ax.spines['bottom'].set_smart_bounds(False)\n"
          ],
          "name": "stderr"
        },
        {
          "output_type": "display_data",
          "data": {
            "image/png": "[encoded data removed]",
            "text/plain": [
              "<Figure size 432x288 with 1 Axes>"
            ]
          },
          "metadata": {
            "tags": [],
            "needs_background": "light"
          }
        }
      ]
    },
    {
      "cell_type": "markdown",
      "metadata": {
        "id": "jnjpvuP9t6Ef",
        "colab_type": "text"
      },
      "source": [
        "## Formulation 3\n",
        "$$g_3(x) = \\frac{1}{2}\\sqrt{10-x^3}$$"
      ]
    },
    {
      "cell_type": "code",
      "metadata": {
        "id": "fJ8d068atzWJ",
        "colab_type": "code",
        "colab": {
          "base_uri": "https://localhost:8080/",
          "height": 37
        },
        "outputId": "6692eac5-54c7-41aa-a9f1-3fa128e3d397"
      },
      "source": [
        "g3 = 1/2*sqrt(10-x**3)\n",
        "g3"
      ],
      "execution_count": 50,
      "outputs": [
        {
          "output_type": "execute_result",
          "data": {
            "image/png": "[encoded data removed]",
            "text/latex": "$$0.5 \\sqrt{- x^{3} + 10}$$",
            "text/plain": [
              "       ___________\n",
              "      ╱    3      \n",
              "0.5⋅╲╱  - x  + 10 "
            ]
          },
          "metadata": {
            "tags": []
          },
          "execution_count": 50
        }
      ]
    },
    {
      "cell_type": "code",
      "metadata": {
        "id": "eUYx1Fp_uDUA",
        "colab_type": "code",
        "colab": {
          "base_uri": "https://localhost:8080/",
          "height": 43
        },
        "outputId": "8622ea01-b91e-4f7a-ae49-9fd97bc978f3"
      },
      "source": [
        "g3Prime = diff(g3)\n",
        "g3Prime"
      ],
      "execution_count": 51,
      "outputs": [
        {
          "output_type": "execute_result",
          "data": {
            "image/png": "[encoded data removed]",
            "text/latex": "$$- \\frac{0.75 x^{2}}{\\sqrt{- x^{3} + 10}}$$",
            "text/plain": [
              "         2    \n",
              "  -0.75⋅x     \n",
              "──────────────\n",
              "   ___________\n",
              "  ╱    3      \n",
              "╲╱  - x  + 10 "
            ]
          },
          "metadata": {
            "tags": []
          },
          "execution_count": 51
        }
      ]
    },
    {
      "cell_type": "code",
      "metadata": {
        "id": "IP0tFL_YuGlv",
        "colab_type": "code",
        "colab": {
          "base_uri": "https://localhost:8080/",
          "height": 359
        },
        "outputId": "a62b2b4d-30b9-44fb-8448-e5cea83d3651"
      },
      "source": [
        "plt1 = plot( g3, (x,1,3), ylim = (-5,5), show=False )\n",
        "plt2 = plot( g3Prime, (x,1,3), show=False , line_color='red')\n",
        "plt3 = plot( x, (x,1,3), show=False , line_color='green')\n",
        "plt1.append( plt2[0] )\n",
        "plt1.append( plt3[0] )\n",
        "plt1.show()"
      ],
      "execution_count": 59,
      "outputs": [
        {
          "output_type": "stream",
          "text": [
            "/usr/local/lib/python3.6/dist-packages/sympy/plotting/plot.py:890: MatplotlibDeprecationWarning: \n",
            "The set_smart_bounds function was deprecated in Matplotlib 3.2 and will be removed two minor releases later.\n",
            "  self.ax.spines['left'].set_smart_bounds(True)\n",
            "/usr/local/lib/python3.6/dist-packages/sympy/plotting/plot.py:891: MatplotlibDeprecationWarning: \n",
            "The set_smart_bounds function was deprecated in Matplotlib 3.2 and will be removed two minor releases later.\n",
            "  self.ax.spines['bottom'].set_smart_bounds(False)\n"
          ],
          "name": "stderr"
        },
        {
          "output_type": "display_data",
          "data": {
            "image/png": "[encoded data removed]",
            "text/plain": [
              "<Figure size 432x288 with 1 Axes>"
            ]
          },
          "metadata": {
            "tags": [],
            "needs_background": "light"
          }
        }
      ]
    },
    {
      "cell_type": "markdown",
      "metadata": {
        "id": "gRUx23DLuykZ",
        "colab_type": "text"
      },
      "source": [
        "## Formulation 4\n",
        "$$g_4(x) = \\sqrt{\\frac{10}{4+x}}$$"
      ]
    },
    {
      "cell_type": "code",
      "metadata": {
        "id": "bX_vJq6Cux-T",
        "colab_type": "code",
        "colab": {
          "base_uri": "https://localhost:8080/",
          "height": 48
        },
        "outputId": "526dbe2d-462a-4ef5-fba0-55057c8cb284"
      },
      "source": [
        "g4 = sqrt(10/(4+x))\n",
        "g4"
      ],
      "execution_count": 60,
      "outputs": [
        {
          "output_type": "execute_result",
          "data": {
            "image/png": "[encoded data removed]",
            "text/latex": "$$\\sqrt{10} \\sqrt{\\frac{1}{x + 4}}$$",
            "text/plain": [
              "        _______\n",
              "       ╱   1   \n",
              "√10⋅  ╱  ───── \n",
              "    ╲╱   x + 4 "
            ]
          },
          "metadata": {
            "tags": []
          },
          "execution_count": 60
        }
      ]
    },
    {
      "cell_type": "code",
      "metadata": {
        "id": "VBKc7W6CuS8m",
        "colab_type": "code",
        "colab": {
          "base_uri": "https://localhost:8080/",
          "height": 49
        },
        "outputId": "ada07bb9-a0c6-4abe-f01c-2d96930e48b2"
      },
      "source": [
        "g4Prime = diff(g4)\n",
        "g4Prime"
      ],
      "execution_count": 61,
      "outputs": [
        {
          "output_type": "execute_result",
          "data": {
            "image/png": "[encoded data removed]",
            "text/latex": "$$- \\frac{\\sqrt{10} \\sqrt{\\frac{1}{x + 4}}}{2 \\left(x + 4\\right)}$$",
            "text/plain": [
              "         _______ \n",
              "        ╱   1    \n",
              "-√10⋅  ╱  ─────  \n",
              "     ╲╱   x + 4  \n",
              "─────────────────\n",
              "    2⋅(x + 4)    "
            ]
          },
          "metadata": {
            "tags": []
          },
          "execution_count": 61
        }
      ]
    },
    {
      "cell_type": "code",
      "metadata": {
        "id": "3uZ1j6VMu9SM",
        "colab_type": "code",
        "colab": {
          "base_uri": "https://localhost:8080/",
          "height": 359
        },
        "outputId": "458d915b-0641-40e5-b2fd-d1ca3c1324db"
      },
      "source": [
        "plt1 = plot( g4, (x,1,3), ylim = (-5,5), show=False )\n",
        "plt2 = plot( g4Prime, (x,1,3), show=False , line_color='red')\n",
        "plt3 = plot( x, (x,1,3), show=False , line_color='green')\n",
        "plt1.append( plt2[0] )\n",
        "plt1.append( plt3[0] )\n",
        "plt1.show()"
      ],
      "execution_count": 62,
      "outputs": [
        {
          "output_type": "stream",
          "text": [
            "/usr/local/lib/python3.6/dist-packages/sympy/plotting/plot.py:890: MatplotlibDeprecationWarning: \n",
            "The set_smart_bounds function was deprecated in Matplotlib 3.2 and will be removed two minor releases later.\n",
            "  self.ax.spines['left'].set_smart_bounds(True)\n",
            "/usr/local/lib/python3.6/dist-packages/sympy/plotting/plot.py:891: MatplotlibDeprecationWarning: \n",
            "The set_smart_bounds function was deprecated in Matplotlib 3.2 and will be removed two minor releases later.\n",
            "  self.ax.spines['bottom'].set_smart_bounds(False)\n"
          ],
          "name": "stderr"
        },
        {
          "output_type": "display_data",
          "data": {
            "image/png": "[encoded data removed]",
            "text/plain": [
              "<Figure size 432x288 with 1 Axes>"
            ]
          },
          "metadata": {
            "tags": [],
            "needs_background": "light"
          }
        }
      ]
    },
    {
      "cell_type": "markdown",
      "metadata": {
        "id": "Ig-QNgHWvHJf",
        "colab_type": "text"
      },
      "source": [
        "## Formulation 5\n",
        "$$g_5(x) = x - \\frac{x^3+4x^2-10}{3x^2+8x}$$"
      ]
    },
    {
      "cell_type": "code",
      "metadata": {
        "id": "RI04n8-OvChp",
        "colab_type": "code",
        "colab": {
          "base_uri": "https://localhost:8080/",
          "height": 41
        },
        "outputId": "af92812c-20ea-4482-c3fc-a7f303dbcc58"
      },
      "source": [
        "g5 = x - (x**3+4*x**2-10)/(3*x**2+8*x)\n",
        "g5"
      ],
      "execution_count": 66,
      "outputs": [
        {
          "output_type": "execute_result",
          "data": {
            "image/png": "[encoded data removed]",
            "text/latex": "$$x - \\frac{x^{3} + 4 x^{2} - 10}{3 x^{2} + 8 x}$$",
            "text/plain": [
              "     3      2     \n",
              "    x  + 4⋅x  - 10\n",
              "x - ──────────────\n",
              "         2        \n",
              "      3⋅x  + 8⋅x  "
            ]
          },
          "metadata": {
            "tags": []
          },
          "execution_count": 66
        }
      ]
    },
    {
      "cell_type": "code",
      "metadata": {
        "id": "zW1UCjkPvY3C",
        "colab_type": "code",
        "colab": {
          "base_uri": "https://localhost:8080/",
          "height": 42
        },
        "outputId": "d2512f4d-a9b1-4b6c-cfac-2e3f84da517e"
      },
      "source": [
        "g5Prime = diff(g4)\n",
        "g5Prime"
      ],
      "execution_count": 67,
      "outputs": [
        {
          "output_type": "execute_result",
          "data": {
            "image/png": "[encoded data removed]",
            "text/latex": "$$- \\frac{1}{\\left(3 x^{2} + 8 x\\right)^{2}} \\left(- 6 x - 8\\right) \\left(x^{3} + 4 x^{2} - 10\\right)$$",
            "text/plain": [
              "            ⎛ 3      2     ⎞ \n",
              "-(-6⋅x - 8)⋅⎝x  + 4⋅x  - 10⎠ \n",
              "─────────────────────────────\n",
              "                    2        \n",
              "        ⎛   2      ⎞         \n",
              "        ⎝3⋅x  + 8⋅x⎠         "
            ]
          },
          "metadata": {
            "tags": []
          },
          "execution_count": 67
        }
      ]
    },
    {
      "cell_type": "code",
      "metadata": {
        "id": "GSKeFnktvceq",
        "colab_type": "code",
        "colab": {
          "base_uri": "https://localhost:8080/",
          "height": 359
        },
        "outputId": "a3a0e211-73c0-4074-e431-fb13054dff4a"
      },
      "source": [
        "plt1 = plot( g5, (x,1,3), ylim = (-5,5), show=False )\n",
        "plt2 = plot( g5Prime, (x,1,3), show=False , line_color='red')\n",
        "plt3 = plot( x, (x,1,3), show=False , line_color='green')\n",
        "plt1.append( plt2[0] )\n",
        "plt1.append( plt3[0] )\n",
        "plt1.show()"
      ],
      "execution_count": 68,
      "outputs": [
        {
          "output_type": "stream",
          "text": [
            "/usr/local/lib/python3.6/dist-packages/sympy/plotting/plot.py:890: MatplotlibDeprecationWarning: \n",
            "The set_smart_bounds function was deprecated in Matplotlib 3.2 and will be removed two minor releases later.\n",
            "  self.ax.spines['left'].set_smart_bounds(True)\n",
            "/usr/local/lib/python3.6/dist-packages/sympy/plotting/plot.py:891: MatplotlibDeprecationWarning: \n",
            "The set_smart_bounds function was deprecated in Matplotlib 3.2 and will be removed two minor releases later.\n",
            "  self.ax.spines['bottom'].set_smart_bounds(False)\n"
          ],
          "name": "stderr"
        },
        {
          "output_type": "display_data",
          "data": {
            "image/png": "[encoded data removed]",
            "text/plain": [
              "<Figure size 432x288 with 1 Axes>"
            ]
          },
          "metadata": {
            "tags": [],
            "needs_background": "light"
          }
        }
      ]
    },
    {
      "cell_type": "code",
      "metadata": {
        "id": "5h5ZUtkRvkYo",
        "colab_type": "code",
        "colab": {}
      },
      "source": [
        ""
      ],
      "execution_count": null,
      "outputs": []
    }
  ]
}