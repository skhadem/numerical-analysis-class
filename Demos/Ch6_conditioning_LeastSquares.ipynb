{
  "nbformat": 4,
  "nbformat_minor": 0,
  "metadata": {
    "colab": {
      "name": "Ch6_conditioning_LeastSquares.ipynb",
      "provenance": [],
      "collapsed_sections": [],
      "authorship_tag": "ABX9TyPUO1jUKT81aAGkpJwbV0mF",
      "include_colab_link": true
    },
    "kernelspec": {
      "name": "python3",
      "display_name": "Python 3"
    }
  },
  "cells": [
    {
      "cell_type": "markdown",
      "metadata": {
        "id": "view-in-github",
        "colab_type": "text"
      },
      "source": [
        "<a href=\"https://colab.research.google.com/github/stephenbeckr/numerical-analysis-class/blob/master/Demos/Ch6_conditioning_LeastSquares.ipynb\" target=\"_parent\"><img src=\"https://colab.research.google.com/assets/colab-badge.svg\" alt=\"Open In Colab\"/></a>"
      ]
    },
    {
      "cell_type": "markdown",
      "metadata": {
        "id": "RFxaWtb_-pJM"
      },
      "source": [
        "# Conditioning and least-squares\n",
        "Examples of ill-conditioned matrices (the Vandermonde matrix) and applications to least-squares.  Discuss solving least-squares via\n",
        "1. the [**normal equations**](https://en.wikipedia.org/wiki/Numerical_methods_for_linear_least_squares)\n",
        "2. the [QR decomposition](https://en.wikipedia.org/wiki/QR_decomposition)"
      ]
    },
    {
      "cell_type": "code",
      "metadata": {
        "id": "ITnGu_Mx-n4P"
      },
      "source": [
        "import numpy as np\n",
        "import matplotlib.pyplot as plt\n",
        "import matplotlib as mpl\n",
        "import scipy.linalg\n",
        "import scipy.interpolate\n",
        "\n",
        "from numpy.linalg import cond\n",
        "from numpy.linalg import norm\n",
        "from scipy.linalg import solve\n",
        "\n",
        "mpl.rcParams[\"figure.figsize\"] = [8,6] \n",
        "mpl.rcParams[\"lines.linewidth\"] = 2\n",
        "mpl.rcParams[\"lines.markersize\"] = 10\n",
        "mpl.rcParams['mathtext.fontset'] = 'cm'\n",
        "mpl.rcParams.update({'font.size': 20})\n",
        "\n",
        "# Helper routine to print out matrices nicely\n",
        "def matprint(mat, fmt=\"g\",roundToDecimal=2):\n",
        "  # from https://gist.github.com/braingineer/d801735dac07ff3ac4d746e1f218ab75\n",
        "  # Modified to round\n",
        "  if roundToDecimal is not None:\n",
        "    mat = np.round(mat,decimals=roundToDecimal)\n",
        "  #col_maxes = [max([len((\"{:\"+fmt+\"}\").format(x)) for x in col]) for col in mat.T]\n",
        "  if np.min( mat.flat ) < 0:\n",
        "    col_maxes = [8 for col in mat.T] # quick hack to deal with fmt='.1e'\n",
        "  else:\n",
        "    col_maxes = [7 for col in mat.T] # quick hack to deal with fmt='.1e'\n",
        "  for x in mat:\n",
        "    for i, y in enumerate(x):\n",
        "      if abs(y) >= 1000:\n",
        "        fmt = '.1e'\n",
        "      else:\n",
        "        fmt = 'g'\n",
        "      print((\"{:\"+str(col_maxes[i])+fmt+\"}\").format(y), end=\"  \")\n",
        "    print(\"\")"
      ],
      "execution_count": 163,
      "outputs": []
    },
    {
      "cell_type": "markdown",
      "metadata": {
        "id": "RoF_nwJNPEkZ"
      },
      "source": [
        "## Fitting data with a polynomial\n",
        "\n",
        "We're going to use the Vandermonde matrix (note there are different conventions about ordering the columns; we're going to choose the convention that fits the usual order of polynomial coefficients that `numpy` uses). The Vandermonde matrix for $n+1$ points $\\{x_0,x_1,\\ldots,x_n\\}$ is defined as:\n",
        "\n",
        "$$\n",
        "A = \\begin{bmatrix} x_0^n & x_0^{n-1} & \\dots & x_0 & 1 \\\\\n",
        "x_1^n & x_1^{n-1} & \\dots & x_1 & 1 \\\\\n",
        "\\vdots & \\vdots & \\ddots & \\vdots & 1 \\\\\n",
        "x_n^n & x_n^{n-1} & \\dots & x_n & 1 \\\\\n",
        "\\end{bmatrix}\n",
        "$$\n",
        "so if we want a polynomial $p$ such that $p(x_i) = y_i$ for some data $\\{y_0,y_1,\\ldots,y_n\\}$, then we can put these data into a vector $\\mathbf{y}$ and solve \n",
        "$$\n",
        "A\\mathbf{c} = \\mathbf{y}\n",
        "$$\n",
        "i.e.,\n",
        "$$\n",
        "\\begin{bmatrix} x_0^n & x_0^{n-1} & \\dots & x_0 & 1 \\\\\n",
        "x_1^n & x_1^{n-1} & \\dots & x_1 & 1 \\\\\n",
        "\\vdots & \\vdots & \\ddots & \\vdots & 1 \\\\\n",
        "x_n^n & x_n^{n-1} & \\dots & x_n & 1 \\\\\n",
        "\\end{bmatrix} \\cdot\n",
        "\\begin{bmatrix}c_0 \\\\ c_1 \\\\ \\vdots \\\\ c_n \\end{bmatrix}\n",
        "= \n",
        "\\begin{bmatrix}y_0 \\\\ y_1 \\\\ \\vdots \\\\ y_n \\end{bmatrix}\n",
        "$$\n",
        "We do this in order to find the coefficients $\\mathbf{c}$ such that we define $p$ as\n",
        "$$\n",
        "p(x) = c_0 x^n + c_1 x^{n-1} + \\ldots + c_{n-1}x + c_{n}\n",
        "$$\n",
        "\n",
        "Note: from now on, we'll often refer to $\\mathbf{c}$ as $\\mathbf{x}$ so that we're solving the equation $A\\mathbf{x}=\\mathbf{y}$, in accordance with our usual notation."
      ]
    },
    {
      "cell_type": "code",
      "metadata": {
        "colab": {
          "base_uri": "https://localhost:8080/",
          "height": 590
        },
        "id": "IcAq8dHL-qyf",
        "outputId": "15d9a20f-ee48-4cf1-9d88-ccc70fc33d50"
      },
      "source": [
        "domain = (0,6)\n",
        "x   = np.linspace(domain[0],domain[1],10)\n",
        "\n",
        "from numpy.random import default_rng\n",
        "rng = default_rng(123)\n",
        "\n",
        "#y   = np.cos(x)\n",
        "y   = x**3 + 10*rng.standard_normal( x.shape )\n",
        "\n",
        "plt.plot(x,y,'o-')\n",
        "plt.show()\n",
        "\n",
        "A = np.vander(x)\n",
        "matprint(A)\n",
        "kappa = np.linalg.cond(A)\n",
        "print(f'\\nThe condition number of the square vandermonde matrix is {kappa:.1e}')"
      ],
      "execution_count": 67,
      "outputs": [
        {
          "output_type": "display_data",
          "data": {
            "image/png": "[encoded data removed]",
            "text/plain": [
              "<Figure size 576x432 with 1 Axes>"
            ]
          },
          "metadata": {
            "tags": [],
            "needs_background": "light"
          }
        },
        {
          "output_type": "stream",
          "text": [
            "      0        0        0        0        0        0        0        0        0        1  \n",
            "   0.03     0.04     0.06     0.09     0.13      0.2      0.3     0.44     0.67        1  \n",
            "  13.32     9.99     7.49     5.62     4.21     3.16     2.37     1.78     1.33        1  \n",
            "    512      256      128       64       32       16        8        4        2        1  \n",
            "6.8e+03  2.6e+03   958.92   359.59   134.85    50.57    18.96     7.11     2.67        1  \n",
            "5.1e+04  1.5e+04  4.6e+03  1.4e+03   411.52   123.46    37.04    11.11     3.33        1  \n",
            "2.6e+05  6.6e+04  1.6e+04  4.1e+03  1.0e+03      256       64       16        4        1  \n",
            "1.0e+06  2.2e+05  4.8e+04  1.0e+04  2.2e+03   474.27   101.63    21.78     4.67        1  \n",
            "3.5e+06  6.5e+05  1.2e+05  2.3e+04  4.3e+03   809.09    151.7    28.44     5.33        1  \n",
            "1.0e+07  1.7e+06  2.8e+05  4.7e+04  7.8e+03  1.3e+03      216       36        6        1  \n",
            "\n",
            "The condition number of the square vandermonde matrix is 7.6e+09\n"
          ],
          "name": "stdout"
        }
      ]
    },
    {
      "cell_type": "code",
      "metadata": {
        "colab": {
          "base_uri": "https://localhost:8080/",
          "height": 435
        },
        "id": "A2IW8lcR_JKB",
        "outputId": "7c6cc0ac-49dd-4cdc-d378-a3ffd1a49d7e"
      },
      "source": [
        "poly_coeff = scipy.linalg.solve(A,y)\n",
        "print( poly_coeff )\n",
        "p  = lambda x : np.polyval( poly_coeff, x)\n",
        "\n",
        "# another way: interpolate\n",
        "p_v2 = scipy.interpolate.BarycentricInterpolator(x,y)\n",
        "\n",
        "xGrid =np.linspace(domain[0]-.3,domain[1]+.3,num=50)\n",
        "\n",
        "plt.plot(x,y,'o',label='observed data')\n",
        "plt.plot( xGrid, p(xGrid), '-', label='polynomial fit via linear equation solve')\n",
        "plt.plot( xGrid, p_v2(xGrid), '--', label='polynomial fit via interpolation')\n",
        "plt.legend()\n",
        "plt.show()"
      ],
      "execution_count": 78,
      "outputs": [
        {
          "output_type": "stream",
          "text": [
            "[-1.33734109e-04  2.36982283e-01 -5.64831061e+00  5.53350745e+01\n",
            " -2.85451406e+02  8.28323601e+02 -1.33177988e+03  1.07424054e+03\n",
            " -3.10342394e+02 -9.89121350e+00]\n"
          ],
          "name": "stdout"
        },
        {
          "output_type": "display_data",
          "data": {
            "image/png": "[encoded data removed]",
            "text/plain": [
              "<Figure size 576x432 with 1 Axes>"
            ]
          },
          "metadata": {
            "tags": [],
            "needs_background": "light"
          }
        }
      ]
    },
    {
      "cell_type": "markdown",
      "metadata": {
        "id": "1CgGPdc6Md_N"
      },
      "source": [
        "## Try a lower degree polynomial to reduce overfitting\n",
        "Another way to reduce overfitting is to do **piecewise** polynomial interpolation, e.g., **splines**, as we talked about earlier.\n",
        "\n",
        "But for this demo, let's stick with finding a (global, not piecewise) polynomial, but just of lesser degree.\n",
        "\n",
        "This won't be able to interpolate the data any more\n",
        "\n",
        "To help us find it, we can just use the first part of the Vandermonde matrix:"
      ]
    },
    {
      "cell_type": "code",
      "metadata": {
        "colab": {
          "base_uri": "https://localhost:8080/"
        },
        "id": "-bAZ2tMLCVw0",
        "outputId": "64af910f-0962-4466-a34a-6def57a3e1f4"
      },
      "source": [
        "deg = 5 # fit a polynomial limited to this degree\n",
        "AA = A[:,-deg-1:]\n",
        "print(\"The partial Vandermonde matrix:\")\n",
        "matprint(AA)\n",
        "kappa = np.linalg.cond(AA)\n",
        "print(f'\\nThe condition number of the partial (rectangular) vandermonde matrix is {kappa:.1e}')"
      ],
      "execution_count": 84,
      "outputs": [
        {
          "output_type": "stream",
          "text": [
            "The partial Vandermonde matrix:\n",
            "      0        0        0        0        0        1  \n",
            "   0.13      0.2      0.3     0.44     0.67        1  \n",
            "   4.21     3.16     2.37     1.78     1.33        1  \n",
            "     32       16        8        4        2        1  \n",
            " 134.85    50.57    18.96     7.11     2.67        1  \n",
            " 411.52   123.46    37.04    11.11     3.33        1  \n",
            "1.0e+03      256       64       16        4        1  \n",
            "2.2e+03   474.27   101.63    21.78     4.67        1  \n",
            "4.3e+03   809.09    151.7    28.44     5.33        1  \n",
            "7.8e+03  1.3e+03      216       36        6        1  \n",
            "\n",
            "The condition number of the partial (rectangular) vandermonde matrix is 6.3e+04\n"
          ],
          "name": "stdout"
        }
      ]
    },
    {
      "cell_type": "markdown",
      "metadata": {
        "id": "L9wkf145NKod"
      },
      "source": [
        "... but now we can't solve the system of equations since its rectangular!"
      ]
    },
    {
      "cell_type": "code",
      "metadata": {
        "colab": {
          "base_uri": "https://localhost:8080/",
          "height": 304
        },
        "id": "0CesPLYsM0-v",
        "outputId": "b0abfc0f-85c0-4a20-836f-008a5619d946"
      },
      "source": [
        "poly_coeff = scipy.linalg.solve(AA,y)"
      ],
      "execution_count": 85,
      "outputs": [
        {
          "output_type": "error",
          "ename": "ValueError",
          "evalue": "ignored",
          "traceback": [
            "\u001b[0;31m---------------------------------------------------------------------------\u001b[0m",
            "\u001b[0;31mValueError\u001b[0m                                Traceback (most recent call last)",
            "\u001b[0;32m<ipython-input-85-4b4ce4c48acc>\u001b[0m in \u001b[0;36m<module>\u001b[0;34m()\u001b[0m\n\u001b[0;32m----> 1\u001b[0;31m \u001b[0mpoly_coeff\u001b[0m \u001b[0;34m=\u001b[0m \u001b[0mscipy\u001b[0m\u001b[0;34m.\u001b[0m\u001b[0mlinalg\u001b[0m\u001b[0;34m.\u001b[0m\u001b[0msolve\u001b[0m\u001b[0;34m(\u001b[0m\u001b[0mAA\u001b[0m\u001b[0;34m,\u001b[0m\u001b[0my\u001b[0m\u001b[0;34m)\u001b[0m\u001b[0;34m\u001b[0m\u001b[0;34m\u001b[0m\u001b[0m\n\u001b[0m",
            "\u001b[0;32m/usr/local/lib/python3.6/dist-packages/scipy/linalg/basic.py\u001b[0m in \u001b[0;36msolve\u001b[0;34m(a, b, sym_pos, lower, overwrite_a, overwrite_b, debug, check_finite, assume_a, transposed)\u001b[0m\n\u001b[1;32m    145\u001b[0m \u001b[0;34m\u001b[0m\u001b[0m\n\u001b[1;32m    146\u001b[0m     \u001b[0;32mif\u001b[0m \u001b[0ma1\u001b[0m\u001b[0;34m.\u001b[0m\u001b[0mshape\u001b[0m\u001b[0;34m[\u001b[0m\u001b[0;36m0\u001b[0m\u001b[0;34m]\u001b[0m \u001b[0;34m!=\u001b[0m \u001b[0ma1\u001b[0m\u001b[0;34m.\u001b[0m\u001b[0mshape\u001b[0m\u001b[0;34m[\u001b[0m\u001b[0;36m1\u001b[0m\u001b[0;34m]\u001b[0m\u001b[0;34m:\u001b[0m\u001b[0;34m\u001b[0m\u001b[0;34m\u001b[0m\u001b[0m\n\u001b[0;32m--> 147\u001b[0;31m         \u001b[0;32mraise\u001b[0m \u001b[0mValueError\u001b[0m\u001b[0;34m(\u001b[0m\u001b[0;34m'Input a needs to be a square matrix.'\u001b[0m\u001b[0;34m)\u001b[0m\u001b[0;34m\u001b[0m\u001b[0;34m\u001b[0m\u001b[0m\n\u001b[0m\u001b[1;32m    148\u001b[0m \u001b[0;34m\u001b[0m\u001b[0m\n\u001b[1;32m    149\u001b[0m     \u001b[0;32mif\u001b[0m \u001b[0mn\u001b[0m \u001b[0;34m!=\u001b[0m \u001b[0mb1\u001b[0m\u001b[0;34m.\u001b[0m\u001b[0mshape\u001b[0m\u001b[0;34m[\u001b[0m\u001b[0;36m0\u001b[0m\u001b[0;34m]\u001b[0m\u001b[0;34m:\u001b[0m\u001b[0;34m\u001b[0m\u001b[0;34m\u001b[0m\u001b[0m\n",
            "\u001b[0;31mValueError\u001b[0m: Input a needs to be a square matrix."
          ]
        }
      ]
    },
    {
      "cell_type": "markdown",
      "metadata": {
        "id": "WtZbV0eqNPT-"
      },
      "source": [
        "... so let's solve in a **least-squares** sense. Instead of $Ax=b$, we're going to solve the **overdetermined** system of equations as\n",
        "$$\\min_x\\, \\frac12\\|A\\mathbf{x}-\\mathbf{b}\\|_2^2 := \\frac12\\sum_{i=1}^m (\\mathbf{a}_i^T \\mathbf{x} - b_i )^2\n",
        "$$\n",
        "where $A$ is a $m\\times n$ matrix, with $m>n$, and the rows of $A$ are\n",
        "$$A = \\begin{bmatrix}-&\\mathbf{a}_1^T&- \\\\ -&\\mathbf{a}_2^T&- \\\\ \\vdots \\\\ -&\\mathbf{a}_m^T&- \\end{bmatrix}.\n",
        "$$\n"
      ]
    },
    {
      "cell_type": "code",
      "metadata": {
        "colab": {
          "base_uri": "https://localhost:8080/",
          "height": 421
        },
        "id": "SCKOrg2DNJUw",
        "outputId": "55762d9b-87d9-4d0d-a89d-78767ae8ba91"
      },
      "source": [
        "poly_coeff, residual, rnk, s = scipy.linalg.lstsq(AA,y)  # use `lstsq`\n",
        "print( poly_coeff )\n",
        "p  = lambda x : np.polyval( poly_coeff, x)\n",
        "\n",
        "xGrid =np.linspace(domain[0]-.3,domain[1]+.3,num=50)\n",
        "\n",
        "plt.plot(x,y,'o',label='observed data')\n",
        "plt.plot( xGrid, p(xGrid), '-', label='least-squares polynomial fit')\n",
        "plt.legend()\n",
        "plt.show()"
      ],
      "execution_count": 95,
      "outputs": [
        {
          "output_type": "stream",
          "text": [
            "[ -0.08426957   1.16053569  -3.82880371   3.14557491  14.61902257\n",
            " -10.49787878]\n"
          ],
          "name": "stdout"
        },
        {
          "output_type": "display_data",
          "data": {
            "image/png": "[encoded data removed]",
            "text/plain": [
              "<Figure size 576x432 with 1 Axes>"
            ]
          },
          "metadata": {
            "tags": [],
            "needs_background": "light"
          }
        }
      ]
    },
    {
      "cell_type": "markdown",
      "metadata": {
        "id": "-c-xsp0OnWEW"
      },
      "source": [
        "## How do we solve a least-squares problem?\n",
        "Well, we can call `scipy.linalg.lstsq`, but what does `lstsq` do \"under-the-hood\"?\n",
        "\n",
        "(for Matlab users, both square and overdetermined (and even underdetermined) equations can all be solved with backslash `\\`, aka [`mldivide`](https://www.mathworks.com/help/matlab/ref/mldivide.html).  See more at the [Matlab systems-of-equations](https://www.mathworks.com/help/matlab/math/systems-of-linear-equations.html) documentation which also shows you how to use the new [`decomposition`](https://www.mathworks.com/help/matlab/ref/decomposition.html) function )\n",
        "\n",
        "\n",
        "### Let's start with what not to do\n",
        "This method isn't always bad, but it **squares the condition number** so its in appropriate if your original system is already ill-conditioned and/or if you need high-accuracy in your answer.\n",
        "\n",
        "This is also the method that's usually taught in introductory statistics classes, since it's the most straightforward.\n",
        "\n",
        "Recall we want to solve\n",
        "$$\\min_x\\, \\frac12\\|A\\mathbf{x}-\\mathbf{b}\\|_2^2 := \\frac12\\sum_{i=1}^m (\\mathbf{a}_i^T \\mathbf{x} - b_i )^2\n",
        "$$\n",
        "and define\n",
        "$$F(\\mathbf{x}) := \\frac12\\sum_{i=1}^m (\\mathbf{a}_i^T \\mathbf{x} - b_i )^2,\\quad\n",
        "f_i(\\mathbf{x}) := \\frac12 (\\mathbf{a}_i^T \\mathbf{x} - b_i )^2\n",
        "$$\n",
        "so\n",
        "$$\n",
        "F(\\mathbf{x}) = \\sum_{i=1}^m f_i(\\mathbf{x})\n",
        "$$\n",
        "\n",
        "Now to solve $\\min_x\\, F(\\mathbf{x})$ we do [Fermat's theorem](https://en.wikipedia.org/wiki/Fermat%27s_theorem_(stationary_points)):  we set the derivative equal to zero (or in this case, the *gradient*), and solve for $\\nabla F(\\mathbf{x})=0$.  So what is $\\nabla F$? Well, by the \"sum rule\", $\\nabla F(\\mathbf(x)) = \\sum_{i=1}^m \\nabla f_i(\\mathbf{x})$.  So what is $\\nabla f_i(\\mathbf{x})$?  The gradient is $n$ components, one for each variable $x_j$.  So \n",
        "\\begin{align*}\n",
        "\\big( \\nabla f_i(\\mathbf{x}) \\big)_j &= \\frac{\\partial}{\\partial x_j}\\frac12 (\\mathbf{a}_i^T \\mathbf{x} - b_i )^2 \\\\\n",
        "&= \\frac{\\partial}{\\partial x_j}\\frac12 \\left( \\sum_{j'=1}^n a_{ij'}x_{j'} - b_i \\right)^2 \\\\\n",
        "&= \\left( \\sum_{j'=1}^n a_{ij'}x_{j'} - b_i \\right)\n",
        "\\frac{\\partial}{\\partial x_j} \\left( \\sum_{j'=1}^n a_{ij'}x_{j'} - b_i \\right)\\quad\\text{via the chain rule} \\\\\n",
        "&= \\left( \\sum_{j'=1}^n a_{ij'}x_{j'} - b_i \\right)\n",
        " \\left( \\sum_{j'=1}^n \\frac{\\partial}{\\partial x_j} a_{ij'}x_{j'} - b_i \\right) \\\\\n",
        " &= \\left( \\sum_{j'=1}^n a_{ij'}x_{j'} - b_i \\right)\n",
        " \\left(  a_{ij} \\right) \\\\\n",
        "\\end{align*}\n",
        "and so\n",
        "$$\n",
        "\\nabla f_i(\\mathbf{x}) = \\left( \\sum_{j'=1}^n a_{ij'}x_{j'} - b_i \\right) \\mathbf{a}_i\n",
        "= \\mathbf{a}_i(\\mathbf{a}_i^T\\mathbf{x} - b_i) \n",
        "$$\n",
        "so\n",
        "$$\n",
        "\\nabla F(\\mathbf{x}) = \\sum_{i=1}^m \\mathbf{a}_i(\\mathbf{a}_i^T\\mathbf{x} - b_i) = A^T(A\\mathbf{x}-\\mathbf{b}).\n",
        "$$\n",
        "\n",
        "So to find the $\\mathbf{x}$ to solve the least-squares problem, we solve \n",
        "$$A^T(A\\mathbf{x}-\\mathbf{b})=0,\\quad\\text{i.e.,}\\quad\n",
        "A^TA\\mathbf{x}=A^T\\mathbf{b}$$\n",
        "which is known as the **normal equations**.  So we can just solve a system of equations, but the catch is that $\\kappa(A^TA) = \\kappa(A)^2$ so we've just doubled the number of digits we're going to lose.\n"
      ]
    },
    {
      "cell_type": "code",
      "metadata": {
        "colab": {
          "base_uri": "https://localhost:8080/"
        },
        "id": "itNxy1urQ_rI",
        "outputId": "a6808b53-c0b3-4fa3-efe0-1c1f40331932"
      },
      "source": [
        "# Let's make a problem that has a known solution\n",
        "# e.g., we'll re-generate the data without noise, and make a degree 3 fit\n",
        "deg = 7\n",
        "x   = np.linspace(domain[0],domain[1],deg+1)\n",
        "# tmp   = [1]\n",
        "# tmp.extend(deg*[0])\n",
        "# cTrue = np.array( tmp )\n",
        "#y   = x**deg\n",
        "\n",
        "cTrue = np.ones(deg+1)\n",
        "y   = np.polyval(cTrue,x)\n",
        "\n",
        "A = np.vander(x)\n",
        "A = A[:,-deg-1:]\n",
        "\n",
        "\n",
        "# Get reference solution\n",
        "# call this \"c\" for \"coefficients\". Should be [1,0,0,0] since a true cubic\n",
        "c1,_,_,_ = scipy.linalg.lstsq(A,y) \n",
        "\n",
        "\n",
        "print(f\"Condition number of AA is {cond(A):.1e}\")\n",
        "G = A.T @ A  # often called the Gram Matrix\n",
        "print(f\"Condition number of AA^T AA is {cond(G):.1e}\") # should be cond(AA)^2\n",
        "\n",
        "# Get solution via solving the normal equations\n",
        "c2 = solve( G, A.T @ y )\n",
        "\n",
        "eps = np.finfo(float).eps  # machine epsilon\n",
        "\n",
        "\n",
        "e1=norm(cTrue-c1)/norm(cTrue)\n",
        "e2=norm(cTrue-c2)/norm(cTrue)\n",
        "expected1 = eps*cond(A) # expected error\n",
        "expected2 = eps*cond(G) # expected error\n",
        "print(f'Error via lstsq:\\t {e1:.1e}, and expected an error roughly {expected1:.1e}')\n",
        "print(f'Error via normal eq:\\t {e2:.1e}, and expected an error roughly {expected2:.1e}')"
      ],
      "execution_count": 159,
      "outputs": [
        {
          "output_type": "stream",
          "text": [
            "Condition number of AA is 2.6e+07\n",
            "Condition number of AA^T AA is 6.9e+14\n",
            "Error via lstsq:\t 1.6e-10, and expected an error roughly 5.8e-09\n",
            "Error via normal eq:\t 1.3e-04, and expected an error roughly 1.5e-01\n"
          ],
          "name": "stdout"
        }
      ]
    },
    {
      "cell_type": "markdown",
      "metadata": {
        "id": "4EgUtnQTHZDn"
      },
      "source": [
        "### So then how do we solve a least-squares problem stably?\n",
        "Two reasonable techniques are\n",
        "1. QR factorization\n",
        "2. SVD factorization\n",
        "\n",
        "Let's go over the QR method.  The QR factorization:  \n",
        "![link](https://github.com/cu-numcomp/numcomp-class/raw/master/img/TB-FullQR.png)\n",
        "and the reduced aka thin aka economic QR:\n",
        "![link](https://github.com/cu-numcomp/numcomp-class/raw/master/img/TB-ReducedQR.png)\n",
        "where\n",
        "$$ Q^TQ = I$$\n",
        "meaning $Q$ is an orthogonal matrix (or for the reduced QR, its partial orthogonal).  Since we're working with real numbers, recall \"[unitary](https://en.wikipedia.org/wiki/Unitary_matrix)\" = \"[orthogonal](https://en.wikipedia.org/wiki/Orthogonal_matrix)\"."
      ]
    },
    {
      "cell_type": "markdown",
      "metadata": {
        "id": "smMtcQTBKuwK"
      },
      "source": [
        "Now a neat property of the Euclidean norm $\\| \\cdot \\|_2$ is that it is unitarily invariant, meaning for any $\\mathbf{z}$ that $\\| Q \\mathbf{z} \\|_2 = \\|\\mathbf{z}\\|_2$.  \n",
        "In fact, we'll see everything better if we use the fact that \n",
        "$$\n",
        "\\|\\mathbf{z}\\|_2^2 = \\mathbf{z}^T\\mathbf{z}\n",
        "$$\n",
        "Hence, since $A=QR$,\n",
        "\\begin{align*}\n",
        "\\arg \\min_x\\; \\|A\\mathbf{x} - \\mathbf{b} \\|_2^2 &= \\arg \\min_x\\; ( A\\mathbf{x} - \\mathbf{b} )^T (A\\mathbf{x} - \\mathbf{b} ) \\\\\n",
        "&= \\arg \\min_x \\;( A\\mathbf{x})^T(A\\mathbf{x}) - 2\\mathbf{b}^TA\\mathbf{x} + \\mathbf{b}^T\\mathbf{b} \\\\\n",
        "&= \\arg\\min_x \\;( QR\\mathbf{x})^T(QR\\mathbf{x}) - 2\\mathbf{b}^TQR\\mathbf{x} + \\mathbf{b}^T\\mathbf{b} \\\\\n",
        "&= \\arg\\min_x \\; \\mathbf{x}^TR^TQ^T(QR\\mathbf{x}) - 2\\mathbf{b}^TQR\\mathbf{x} + \\mathbf{b}^T\\mathbf{b} \\\\ \n",
        "&= \\arg\\min_x \\; \\mathbf{x}^TR^TQ^T(QR\\mathbf{x}) - 2\\mathbf{b}^TQR\\mathbf{x} + \\mathbf{b}^TQQ^T\\mathbf{b} \\quad\\text{since constants don't affect the minimizer}\\\\ \n",
        "&= \\arg\\min_x \\; \\mathbf{x}^TR^TR\\mathbf{x} - 2\\mathbf{b}^TQR\\mathbf{x} + \\mathbf{b}^TQQ^T\\mathbf{b} \\\\ \n",
        "&= \\arg\\min_x \\; \\mathbf{x}^TR^TR\\mathbf{x} - 2\\widetilde{\\mathbf{b}}R\\mathbf{x} + \\widetilde{\\mathbf{b}}^T\\widetilde{\\mathbf{b}}, \\quad \\widetilde{\\mathbf{b}} := Q^T\\mathbf{b}\\\\ \n",
        "&= \\arg\\min_x\\; \\|R\\mathbf{x} - \\widetilde{\\mathbf{b}}\\|_2^2 \\quad\\text{completing the square}\n",
        "\\end{align*}\n",
        "and the cool thing is that this is now a square $n\\times n$ system, so in fact we can just solve $R\\mathbf{x}=\\widetilde{\\mathbf{b}}$ (note that $\\widetilde{\\mathbf{b}}$ is a different size than $\\mathbf{b}$: it's the project of $\\mathbf{b}$ onto the column space of $A$). And even nicer, $R$ is upper triangular, so this is just back-substitution."
      ]
    },
    {
      "cell_type": "code",
      "metadata": {
        "colab": {
          "base_uri": "https://localhost:8080/"
        },
        "id": "R_pKZQFZFOXE",
        "outputId": "2efb7423-50e8-47fe-d58f-ed066d2224f2"
      },
      "source": [
        "Q,R = scipy.linalg.qr(A,mode='economic')\n",
        "print('Q is')\n",
        "matprint(Q)\n",
        "print(' and Q^TQ is ')\n",
        "matprint(Q.T @ Q)\n",
        "print('R is')\n",
        "matprint(R)"
      ],
      "execution_count": 165,
      "outputs": [
        {
          "output_type": "stream",
          "text": [
            "Q is\n",
            "       0         0        -0         0         0        -0         0        -1  \n",
            "      -0        -0        -0     -0.06      0.39      0.85      0.35         0  \n",
            "      -0     -0.01     -0.08     -0.42      0.72     -0.13     -0.53        -0  \n",
            "      -0     -0.05     -0.34     -0.68     -0.04     -0.27      0.59         0  \n",
            "   -0.02     -0.22     -0.65     -0.16     -0.42      0.36     -0.44        -0  \n",
            "   -0.09     -0.54     -0.45      0.52      0.36     -0.22      0.21         0  \n",
            "   -0.32     -0.75      0.49     -0.26     -0.13      0.07     -0.06        -0  \n",
            "   -0.94      0.31     -0.11      0.04      0.02     -0.01      0.01         0  \n",
            " and Q^TQ is \n",
            "      1       -0        0       -0       -0       -0       -0       -0  \n",
            "     -0        1       -0        0        0       -0        0        0  \n",
            "      0       -0        1       -0        0       -0       -0        0  \n",
            "     -0        0       -0        1        0        0       -0       -0  \n",
            "     -0        0        0        0        1       -0        0       -0  \n",
            "     -0       -0       -0        0       -0        1       -0        0  \n",
            "     -0        0       -0       -0        0       -0        1        0  \n",
            "     -0        0        0       -0       -0        0        0        1  \n",
            "R is\n",
            "-3.0e+05  -5.1e+04  -8.6e+03  -1.5e+03   -255.08     -44.3     -7.76     -1.37  \n",
            "       0  -3.1e+03  -1.2e+03   -336.69    -87.15    -21.51      -5.2     -1.26  \n",
            "       0         0    -86.29    -55.74    -24.58      -9.3     -3.29     -1.14  \n",
            "       0         0         0     -5.07     -5.14      -3.4     -1.91     -1.01  \n",
            "       0         0         0         0       0.6      0.95      0.98      0.89  \n",
            "       0         0         0         0         0      0.16       0.4      0.65  \n",
            "       0         0         0         0         0         0      0.04      0.13  \n",
            "       0         0         0         0         0         0         0        -1  \n"
          ],
          "name": "stdout"
        }
      ]
    },
    {
      "cell_type": "code",
      "metadata": {
        "colab": {
          "base_uri": "https://localhost:8080/"
        },
        "id": "xfYIL3IXNZzx",
        "outputId": "e066df34-055b-4b2e-cac1-26b2c15f87a9"
      },
      "source": [
        "c3 = scipy.linalg.solve_triangular(R,Q.T@y, lower=False)\n",
        "\n",
        "\n",
        "e3=norm(cTrue-c3)/norm(cTrue)\n",
        "expected3 = eps*cond(A) # expected error\n",
        "print(f'Error via lstsq:\\t {e1:.1e}, and expected an error roughly {expected1:.1e}')\n",
        "print(f'Error via normal eq:\\t {e2:.1e}, and expected an error roughly {expected2:.1e}')\n",
        "print(f'Error via QR:    \\t {e3:.1e}, and expected an error roughly {expected3:.1e}')"
      ],
      "execution_count": 169,
      "outputs": [
        {
          "output_type": "stream",
          "text": [
            "Error via lstsq:\t 1.6e-10, and expected an error roughly 5.8e-09\n",
            "Error via normal eq:\t 1.3e-04, and expected an error roughly 1.5e-01\n",
            "Error via QR:    \t 1.5e-11, and expected an error roughly 5.8e-09\n"
          ],
          "name": "stdout"
        }
      ]
    },
    {
      "cell_type": "markdown",
      "metadata": {
        "id": "NEXLmQcMOKr2"
      },
      "source": [
        "we actually did a bit better than `scipy`'s builtin least square solver!"
      ]
    },
    {
      "cell_type": "code",
      "metadata": {
        "id": "QBeVV-bTNwvS"
      },
      "source": [
        ""
      ],
      "execution_count": null,
      "outputs": []
    }
  ]
}