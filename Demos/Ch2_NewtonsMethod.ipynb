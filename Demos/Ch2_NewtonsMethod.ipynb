{
  "nbformat": 4,
  "nbformat_minor": 0,
  "metadata": {
    "colab": {
      "name": "Ch2_NewtonsMethod.ipynb",
      "provenance": [],
      "authorship_tag": "ABX9TyNNllZ7mNX1gC/IqFN/x8lz",
      "include_colab_link": true
    },
    "kernelspec": {
      "name": "python3",
      "display_name": "Python 3"
    }
  },
  "cells": [
    {
      "cell_type": "markdown",
      "metadata": {
        "id": "view-in-github",
        "colab_type": "text"
      },
      "source": [
        "<a href=\"https://colab.research.google.com/github/stephenbeckr/numerical-analysis-class/blob/master/Demos/Ch2_NewtonsMethod.ipynb\" target=\"_parent\"><img src=\"https://colab.research.google.com/assets/colab-badge.svg\" alt=\"Open In Colab\"/></a>"
      ]
    },
    {
      "cell_type": "markdown",
      "metadata": {
        "id": "38sDrdgZ3ikK"
      },
      "source": [
        "# Introduction to Newton's Method\n",
        "\n",
        "This is the **master** version. See the **student** branch for a open ended demo.\n",
        "\n",
        "Note: this [interactive Newton method demo](https://www.geogebra.org/m/DGFGBJyU) on geogebra is highly recommended, as it lets you see exactly how Newton's method works\n",
        "\n",
        "In the [Ch2_IntroToBisection.ipynb](https://github.com/stephenbeckr/numerical-analysis-class/blob/master/Demos/Ch2_IntroToBisection.ipynb) demo, we looked at [Lambert's W function](https://en.wikipedia.org/wiki/Lambert_W_function). Let's use this example again for root finding, but this time via Newton's method"
      ]
    },
    {
      "cell_type": "code",
      "metadata": {
        "id": "BoVK3VyR31Mm",
        "outputId": "b699fb40-d896-457e-d3d3-2359d2f1a284",
        "colab": {
          "base_uri": "https://localhost:8080/",
          "height": 248
        }
      },
      "source": [
        "import numpy as np\n",
        "\n",
        "x = 20\n",
        "f = lambda y : y*np.exp(y) - x\n",
        "\n",
        "\n",
        "# Let's also get a \"true\" answer, or at least a fairly good one\n",
        "import scipy.special.lambertw as W\n",
        "\n",
        "trueAnswer = np.real( W(20) )\n",
        "relError = lambda guess : abs( guess - trueAnswer )/abs(trueAnswer)\n",
        "correctDigits = lambda guess : -np.log10( relError(guess) + 1e-17)\n",
        "\n",
        "# Plotting\n",
        "\n",
        "yGrid = np.linspace(0,3,100)\n",
        "\n",
        "%matplotlib inline\n",
        "import matplotlib.pyplot as plt\n",
        "plt.style.use('ggplot')\n",
        "#plt.style.use('seaborn-notebook')\n",
        "\n",
        "fig, ax = plt.subplots()\n",
        "plt.plot(yGrid,f(yGrid))\n",
        "plt.plot( trueAnswer,f(trueAnswer),'o',markersize=15)\n",
        "ax.spines['left'].set_position('zero')\n",
        "ax.spines['right'].set_color('none')\n",
        "ax.spines['bottom'].set_position('zero')\n",
        "ax.spines['top'].set_color('none')\n",
        "ax.minorticks_on()"
      ],
      "execution_count": null,
      "outputs": [
        {
          "output_type": "display_data",
          "data": {
            "image/png": "[encoded data removed]",
            "text/plain": [
              "<Figure size 432x288 with 1 Axes>"
            ]
          },
          "metadata": {
            "tags": []
          }
        }
      ]
    },
    {
      "cell_type": "markdown",
      "metadata": {
        "id": "9Aeynmor4GFA"
      },
      "source": [
        "## Task: implement Newton's Method\n",
        "\n",
        "1. Start with a simple implementation that runs the iterations, maybe printing out the value of x and f(x) at every iteration.  Run the method for a fixed number of iterations (like 20)\n",
        "2. You can make fancier implementations that **save** a list of x and f(x) in case you want to display or plot them later\n",
        "3. You can implement any of the stopping criteria discussed in our book, e.g.,\n",
        "  - $|x_n - x_{n-1}| \\le \\epsilon$\n",
        "  - $\\frac{|x_n - x_{n-1}|}{\\max\\{|x_,10^{-15}\\}} \\le \\epsilon$\n",
        "  - $|f(x_n)| \\le \\epsilon$ \n",
        "4. Try different starting conditions, like\n",
        "  - $x_0 = 2$\n",
        "  - $x_0 = 200$\n",
        "  - $x_0 = -2$\n",
        "  \n",
        "Do all starting conditions lead to convergence? Are they all quadratic convergence right away?"
      ]
    },
    {
      "cell_type": "code",
      "metadata": {
        "id": "oI8KTvcL34mI"
      },
      "source": [
        "# Basic code\n",
        "def Newton_simple(f,fprime,x0,maxIter = 100):\n",
        "  \n",
        "  x   = np.asarray(x0).copy() # in case it is np.array, we want to do a copy\n",
        "  # (np.assarray will do nothing if input is already an np.array, and if it isn't,\n",
        "  #  it'll try to convert it to one, e.g., convert a List to np.array)\n",
        "  \n",
        "  for n in range(1,maxIter):\n",
        "    x  = x - f(x)/fprime(x)\n",
        "  return x\n",
        "\n",
        "# Fancier code (with saved output and nicer stopping conditions)\n",
        "def Newton(f,fprime,x0,maxIter = 100, fTol = 1e-8, relTol = 1e-8,Verbose=False):\n",
        "  history_x  = np.zeros(maxIter)\n",
        "  history_fx = np.zeros(maxIter)\n",
        "  x   = np.asarray(x0,dtype=np.double).copy()\n",
        "  fx  = f(x)\n",
        "  history_x[0]  = x\n",
        "  history_fx[0] = fx\n",
        "  for n in range(1,maxIter):\n",
        "    try:\n",
        "      x -= fx / fprime(x)\n",
        "    except ZeroDivisionError:\n",
        "      return x, history_x, history_fx\n",
        "    #print(x,fprime(x)) # for debugging\n",
        "    if Verbose:\n",
        "      print(\"Iteration {:4d}, x is {:+14.8e}, f(x) is {:+14.8e},  f'(x) is {:+14.8e}\".format(n,x,fx,fprime(x)))\n",
        "    fx = f(x)\n",
        "    history_x[n] = x\n",
        "    history_fx[n] = fx\n",
        "    if np.abs(fx) <= fTol or np.abs(x-history_x[n-1])/max(1e-15,x) <= relTol:\n",
        "      print('Reached stopping criteria at iteration',n)\n",
        "      history_x  = history_x[:n]\n",
        "      history_fx = history_fx[:n]\n",
        "      break\n",
        "  return x, history_x, history_fx"
      ],
      "execution_count": null,
      "outputs": []
    },
    {
      "cell_type": "code",
      "metadata": {
        "id": "5PyeVFQc8exh",
        "outputId": "a0d03bd8-7393-4a1c-c15e-53a03df70d99",
        "colab": {
          "base_uri": "https://localhost:8080/",
          "height": 303
        }
      },
      "source": [
        "# Now, run Newton's method on the function f\n",
        "fprime = lambda y : np.exp(y) + y*np.exp(y)\n",
        "\n",
        "x0  = 20\n",
        "p, history_x, history_fx = Newton(f,fprime,x0,maxIter=50,fTol = 1e-15,relTol = 1e-15)\n",
        "p\n",
        "plt.plot(abs(history_fx),'o-',MarkerSize=12);\n",
        "plt.yscale(\"log\")\n",
        "plt.xlabel(\"Iterations n\")\n",
        "plt.ylabel(\"f(x_n)\");"
      ],
      "execution_count": null,
      "outputs": [
        {
          "output_type": "stream",
          "text": [
            "Reached stopping criteria at iteration 26\n"
          ],
          "name": "stdout"
        },
        {
          "output_type": "display_data",
          "data": {
            "image/png": "[encoded data removed]",
            "text/plain": [
              "<Figure size 432x288 with 1 Axes>"
            ]
          },
          "metadata": {
            "tags": []
          }
        }
      ]
    },
    {
      "cell_type": "markdown",
      "metadata": {
        "id": "h6AXtWpAD7Ts"
      },
      "source": [
        "Discussion of results:\n",
        "- for $x_0=2$ we get very rapid convergence right away\n",
        "- for $x_0=20$, we're not close enough for the theorems to apply. We still convergen, just at a linear rate, not quadratic. Then, once we get close enough, the theorems do apply, and we get very fast quadratic convergence.  If we keep going for further iterations, we don't get any lower error because we've reached the limit of floating point precisino\n",
        "- for $x_0 = -2$ we diverge to $-\\infty$"
      ]
    },
    {
      "cell_type": "markdown",
      "metadata": {
        "id": "6LVPDLiU6WxG"
      },
      "source": [
        "## Task: implement the Secant Method\n",
        "You'll notice one important detail: we need to specify **two** initial points, $x_0$ and $x_1$"
      ]
    },
    {
      "cell_type": "code",
      "metadata": {
        "id": "cBjAhMc08CCL"
      },
      "source": [
        "def Secant(f,x0,x1,maxIter = 100, fTol = 1e-8, relTol = 1e-8):\n",
        "  history_x  = np.zeros(maxIter)\n",
        "  history_fx = np.zeros(maxIter)\n",
        "\n",
        "  \n",
        "  x_old= np.asarray(x0).copy() # .copy() probably not necessary\n",
        "  x    = np.asarray(x1).copy()\n",
        "  fx_old = f(x_old)\n",
        "  fx     = f(x)\n",
        "  history_x[0]  = x\n",
        "  history_fx[0] = fx\n",
        "\n",
        "  for n in range(1,maxIter):\n",
        "    xNew  = x - fx*(x-x_old)/(fx-fx_old)\n",
        "    x_old = x\n",
        "    fx_old= fx\n",
        "    x     = xNew\n",
        "\n",
        "    fx = f(x)\n",
        "    # print(x,x_old,fx,fx_old) # debugging\n",
        "    history_x[n] = x\n",
        "    history_fx[n] = fx\n",
        "    if np.abs(fx) <= fTol or np.abs(x-history_x[n-1])/max(1e-15,x) <= relTol:\n",
        "      print('Reached stopping criteria at iteration',n)\n",
        "      history_x  = history_x[:n]\n",
        "      history_fx = history_fx[:n]\n",
        "      break\n",
        "  return x, history_x, history_fx"
      ],
      "execution_count": null,
      "outputs": []
    },
    {
      "cell_type": "code",
      "metadata": {
        "id": "SUi7WbFuFrbv",
        "outputId": "962cce90-fee8-4a7d-fdc6-806f2cafd41e",
        "colab": {
          "base_uri": "https://localhost:8080/",
          "height": 398
        }
      },
      "source": [
        "# Now, run the Secant method on the function f\n",
        "x0  = 2\n",
        "x1  = x0 + .1\n",
        "p, history_x, history_fx = Secant(f,x0,x1,maxIter=50,fTol = 1e-15,relTol = 1e-15)\n",
        "p, Newton_history_x, Newton_history_fx = Newton(f,fprime,x1,maxIter=50,fTol = 1e-15,relTol = 1e-15)\n",
        "\n",
        "plt.plot(abs(history_fx),'o-',MarkerSize=12,label=\"Secant method\");\n",
        "plt.plot(abs(Newton_history_fx),'*-',MarkerSize=12,label=\"Newton's method\");\n",
        "plt.yscale(\"log\")\n",
        "plt.xlabel(\"Iterations n\");\n",
        "plt.ylabel(\"f(x_n)\");\n",
        "plt.legend();"
      ],
      "execution_count": null,
      "outputs": [
        {
          "output_type": "stream",
          "text": [
            "Reached stopping criteria at iteration 7\n",
            "Reached stopping criteria at iteration 5\n"
          ],
          "name": "stdout"
        },
        {
          "output_type": "display_data",
          "data": {
            "image/png": "[encoded data removed]",
            "text/plain": [
              "<Figure size 576x396 with 1 Axes>"
            ]
          },
          "metadata": {
            "tags": [],
            "needs_background": "light"
          }
        }
      ]
    },
    {
      "cell_type": "markdown",
      "metadata": {
        "id": "n4g4SCGS78Xm"
      },
      "source": [
        "### Task: compare Newton's method, the Secant method, and bisection method"
      ]
    },
    {
      "cell_type": "code",
      "metadata": {
        "id": "B2tcMRRJ6abo"
      },
      "source": [
        ""
      ],
      "execution_count": null,
      "outputs": []
    },
    {
      "cell_type": "markdown",
      "metadata": {
        "id": "bVKDUqVn6bCC"
      },
      "source": [
        "## Task: \"break\" Newton's method\n",
        "\n",
        "Find a function $f(x)$ that satisfies all of the following properties:\n",
        "* $f$ is *strictly monotonically increasing*\n",
        "* $f$ has a *simple root* at $x=0$\n",
        "* $f'(x)$ exists for all real $x$\n",
        "* Newton's method diverges when started with an initial guess $x_0 = 1$.\n",
        "\n",
        "#### Definition\n",
        "* A function $f$ is *strictly monotonically increasing* if $f(a) < f(b)$ for all $a < b$.  If $f$ is differentiable, this implies $f'(x) > 0$ for all $x$.\n",
        "\n",
        "### One answer: $f(x)=\\arctan(c\\cdot x)$\n",
        "There are lots of possiblities.  It helps to draw a sketch of a monotonically increasing function with a root at $x=0$, and then start drawing tangent lines to see what can go wrong.  One choice is $f(x)=\\arctan(c\\cdot x)$ for a large enough constant $c$ (which has the effect of using $\\arctan(x)$ but for $x_0 = c$); in fact, Newton's method is \"affine invariant\" which means scaling the inside by $x \\mapsto c\\cdot x + b$ will not affect the iterations, though it *does* affect the starting guess."
      ]
    },
    {
      "cell_type": "code",
      "metadata": {
        "id": "BIZdm8wN6d-k",
        "outputId": "0c44e385-ebe1-4bf4-b2ee-1f094ac22b57",
        "colab": {
          "base_uri": "https://localhost:8080/",
          "height": 442
        }
      },
      "source": [
        "c      = 5\n",
        "f      = lambda x : np.arctan(c*x)\n",
        "fprime = lambda x : c/(1+(c*x)**2)\n",
        "\n",
        "x0    = .1\n",
        "print(\"Running Newton's method starting at x0 = {}\\n\".format(x0))\n",
        "p, Newton_history_x, Newton_history_fx = Newton(f,fprime,x0,maxIter=20,fTol = 1e-15,relTol = 1e-15,Verbose=True)\n",
        "\n",
        "# Now, try it again for a starting point farther away\n",
        "x0    = 1\n",
        "print(\"\\nRunning Newton's method starting at x0 = {}\\n\".format(x0))\n",
        "p, Newton_history_x, Newton_history_fx = Newton(f,fprime,x0,maxIter=12,fTol = 1e-15,relTol = 1e-15,Verbose=True)"
      ],
      "execution_count": null,
      "outputs": [
        {
          "output_type": "stream",
          "text": [
            "Running Newton's method starting at x0 = 0.1\n",
            "\n",
            "Iteration    1, x is -1.59119023e-02, f(x) is +4.63647609e-01,  f'(x) is +4.96855049e+00\n",
            "Iteration    2, x is +6.70604408e-05, f(x) is -7.93922829e-02,  f'(x) is +4.99999944e+00\n",
            "Iteration    3, x is -5.02629473e-12, f(x) is +3.35302191e-04,  f'(x) is +5.00000000e+00\n",
            "Iteration    4, x is +0.00000000e+00, f(x) is -2.51314736e-11,  f'(x) is +5.00000000e+00\n",
            "Reached stopping criteria at iteration 4\n",
            "\n",
            "Running Newton's method starting at x0 = 1\n",
            "\n",
            "Iteration    1, x is -6.14168399e+00, f(x) is +1.37340077e+00,  f'(x) is +5.29657058e-03\n",
            "Iteration    2, x is +2.84280854e+02, f(x) is -1.53824347e+00,  f'(x) is +2.47476838e-06\n",
            "Iteration    3, x is -6.34156022e+05, f(x) is +1.57009280e+00,  f'(x) is +4.97322095e-13\n",
            "Iteration    4, x is +3.15850776e+12, f(x) is -1.57079601e+00,  f'(x) is +2.00477713e-26\n",
            "Iteration    5, x is -7.83526659e+25, f(x) is +1.57079633e+00,  f'(x) is +3.25778516e-53\n",
            "Iteration    6, x is +4.82166948e+52, f(x) is -1.57079633e+00,  f'(x) is +8.60270682e-107\n",
            "Iteration    7, x is -1.82593265e+106, f(x) is +1.57079633e+00,  f'(x) is +5.99874618e-214\n",
            "Iteration    8, x is +2.61854107e+213, f(x) is -1.57079633e+00,  f'(x) is +0.00000000e+00\n",
            "Iteration    9, x is           -inf, f(x) is +1.57079633e+00,  f'(x) is +0.00000000e+00\n",
            "Iteration   10, x is           +nan, f(x) is -1.57079633e+00,  f'(x) is           +nan\n",
            "Iteration   11, x is           +nan, f(x) is           +nan,  f'(x) is           +nan\n"
          ],
          "name": "stdout"
        },
        {
          "output_type": "stream",
          "text": [
            "/usr/local/lib/python3.6/dist-packages/ipykernel_launcher.py:3: RuntimeWarning: overflow encountered in double_scalars\n",
            "  This is separate from the ipykernel package so we can avoid doing imports until\n",
            "/usr/local/lib/python3.6/dist-packages/ipykernel_launcher.py:22: RuntimeWarning: divide by zero encountered in double_scalars\n",
            "/usr/local/lib/python3.6/dist-packages/ipykernel_launcher.py:22: RuntimeWarning: invalid value encountered in subtract\n"
          ],
          "name": "stderr"
        }
      ]
    },
    {
      "cell_type": "code",
      "metadata": {
        "id": "UBoP3cdrcE_Y"
      },
      "source": [
        ""
      ],
      "execution_count": null,
      "outputs": []
    },
    {
      "cell_type": "markdown",
      "metadata": {
        "id": "a-emLok8ebw3"
      },
      "source": [
        "As you can see in the above output, for $x_0 = 0.1$, it works just fine and converges. For $x_0 = 1$, it diverges, oscillating between large positive and large negative values."
      ]
    }
  ]
}