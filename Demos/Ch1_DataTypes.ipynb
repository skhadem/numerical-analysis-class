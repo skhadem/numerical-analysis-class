{
  "nbformat": 4,
  "nbformat_minor": 0,
  "metadata": {
    "colab": {
      "name": "Ch1_SymbolicTaylorSeries.ipynb",
      "provenance": [],
      "authorship_tag": "ABX9TyOfjxZykOV/vca6TLmJflf3",
      "include_colab_link": true
    },
    "kernelspec": {
      "name": "python3",
      "display_name": "Python 3"
    }
  },
  "cells": [
    {
      "cell_type": "markdown",
      "metadata": {
        "id": "view-in-github",
        "colab_type": "text"
      },
      "source": [
        "<a href=\"https://colab.research.google.com/github/stephenbeckr/numerical-analysis-class/blob/master/Demos/Ch1_DataTypes.ipynb\" target=\"_parent\"><img src=\"https://colab.research.google.com/assets/colab-badge.svg\" alt=\"Open In Colab\"/></a>"
      ]
    },
    {
      "cell_type": "markdown",
      "metadata": {
        "id": "LNDLwuliDDql",
        "colab_type": "text"
      },
      "source": [
        "# Basic practice with datatypes and overflow/underflow etc. in Python\n",
        "\n",
        "Datatypes in Python.\n",
        "1. Integers\n",
        "2. Floating point\n",
        "3. Complex\n",
        "4. Boolean\n",
        "\n",
        "See https://www.math.ubc.ca/~pwalls/math-python/python/numbers/\n",
        "\n",
        "Some oldschool information at [What every computer scientist should know about floating-point arithmetic (1991)](https://docs.oracle.com/cd/E19957-01/806-3568/ncg_goldberg.html)\n",
        "\n",
        "See this [decimal-to-floating point converter](https://www.exploringbinary.com/floating-point-converter/) which lets you see if a number can be exactly represented by a floating point number (check if the \"inexact\" flag is checked). For eample, `0.5` can be exactly stored (as can integers), but `0.4` cannot be exactly stored. There are [other ways to check mentioned on the internet](https://stackoverflow.com/a/28648065) and [python packages that do this](https://stackoverflow.com/a/8458835)."
      ]
    },
    {
      "cell_type": "code",
      "metadata": {
        "id": "zoGrsMYdCXq6",
        "colab_type": "code",
        "colab": {
          "base_uri": "https://localhost:8080/",
          "height": 34
        },
        "outputId": "c137766b-cec2-47df-f418-dac4600336f6"
      },
      "source": [
        "type( 3 )"
      ],
      "execution_count": null,
      "outputs": [
        {
          "output_type": "execute_result",
          "data": {
            "text/plain": [
              "int"
            ]
          },
          "metadata": {
            "tags": []
          },
          "execution_count": 95
        }
      ]
    },
    {
      "cell_type": "code",
      "metadata": {
        "id": "RJ3odjv1Dt6F",
        "colab_type": "code",
        "colab": {
          "base_uri": "https://localhost:8080/",
          "height": 34
        },
        "outputId": "09072ba7-7409-470d-f921-f47ef637f7de"
      },
      "source": [
        "type( 3.0 )"
      ],
      "execution_count": null,
      "outputs": [
        {
          "output_type": "execute_result",
          "data": {
            "text/plain": [
              "float"
            ]
          },
          "metadata": {
            "tags": []
          },
          "execution_count": 96
        }
      ]
    },
    {
      "cell_type": "code",
      "metadata": {
        "id": "tsAhRaQb_ZzO",
        "colab_type": "code",
        "colab": {
          "base_uri": "https://localhost:8080/",
          "height": 85
        },
        "outputId": "0c79d96a-5fdc-48f6-a546-eb8979bd8a75"
      },
      "source": [
        "print( 11 % 4 )  # remainder (modulo)\n",
        "print( 11 // 4 ) # integer division\n",
        "print( 11 / 4 )  # in Python3, this is always a float\n",
        "print( 4*( 11//4 ) + 11%4 )"
      ],
      "execution_count": null,
      "outputs": [
        {
          "output_type": "stream",
          "text": [
            "3\n",
            "2\n",
            "2.75\n",
            "11\n"
          ],
          "name": "stdout"
        }
      ]
    },
    {
      "cell_type": "markdown",
      "metadata": {
        "id": "zJgvXLLU_17B",
        "colab_type": "text"
      },
      "source": [
        "Scientific notation. Use `e` or `E`"
      ]
    },
    {
      "cell_type": "code",
      "metadata": {
        "id": "ESVUXRSg_2jg",
        "colab_type": "code",
        "colab": {
          "base_uri": "https://localhost:8080/",
          "height": 38
        },
        "outputId": "ba86320b-61d5-429e-b473-684a7684eb4e"
      },
      "source": [
        "1e-5"
      ],
      "execution_count": null,
      "outputs": [
        {
          "output_type": "execute_result",
          "data": {
            "image/png": "[encoded data removed]",
            "text/latex": "$$1e-05$$",
            "text/plain": [
              "1e-05"
            ]
          },
          "metadata": {
            "tags": []
          },
          "execution_count": 119
        }
      ]
    },
    {
      "cell_type": "markdown",
      "metadata": {
        "id": "KGxIE7By_9GP",
        "colab_type": "text"
      },
      "source": [
        "Complex numbers"
      ]
    },
    {
      "cell_type": "code",
      "metadata": {
        "id": "vnAgxiepAAW1",
        "colab_type": "code",
        "colab": {
          "base_uri": "https://localhost:8080/",
          "height": 51
        },
        "outputId": "fe982f2c-809b-4d21-a0a0-24746853e0eb"
      },
      "source": [
        "print( complex(1,2) )\n",
        "type(  complex(1,2) )\n",
        "\n",
        "type( 4 - 7j )"
      ],
      "execution_count": null,
      "outputs": [
        {
          "output_type": "stream",
          "text": [
            "(1+2j)\n"
          ],
          "name": "stdout"
        },
        {
          "output_type": "execute_result",
          "data": {
            "text/plain": [
              "complex"
            ]
          },
          "metadata": {
            "tags": []
          },
          "execution_count": 121
        }
      ]
    },
    {
      "cell_type": "markdown",
      "metadata": {
        "id": "WiRtr3Zn_-bH",
        "colab_type": "text"
      },
      "source": [
        "Rounding"
      ]
    },
    {
      "cell_type": "code",
      "metadata": {
        "id": "u9S5Ia56AcOA",
        "colab_type": "code",
        "colab": {
          "base_uri": "https://localhost:8080/",
          "height": 51
        },
        "outputId": "0ececb48-ad29-4ffb-8784-5a5bd4f79ea5"
      },
      "source": [
        "import math\n",
        "print( math.floor( math.pi) )\n",
        "print( round( math.pi, 6 ) )"
      ],
      "execution_count": null,
      "outputs": [
        {
          "output_type": "stream",
          "text": [
            "3\n",
            "3.141593\n"
          ],
          "name": "stdout"
        }
      ]
    },
    {
      "cell_type": "code",
      "metadata": {
        "id": "n5ROGiHBAeFu",
        "colab_type": "code",
        "colab": {
          "base_uri": "https://localhost:8080/",
          "height": 34
        },
        "outputId": "e48fe6b8-91fb-4056-d2f9-2555974af5d6"
      },
      "source": [
        "# We can request 30 digits, but only about 16 are available\n",
        "print( round( math.pi, 30 ) )"
      ],
      "execution_count": null,
      "outputs": [
        {
          "output_type": "stream",
          "text": [
            "3.141592653589793\n"
          ],
          "name": "stdout"
        }
      ]
    },
    {
      "cell_type": "markdown",
      "metadata": {
        "id": "Oo_X1t5wAqLw",
        "colab_type": "text"
      },
      "source": [
        "Be careful with copies!"
      ]
    },
    {
      "cell_type": "code",
      "metadata": {
        "id": "fTHg9-fB2s_E",
        "colab_type": "code",
        "colab": {
          "base_uri": "https://localhost:8080/",
          "height": 37
        },
        "outputId": "cd3b1760-7949-42f5-84c3-081817110838"
      },
      "source": [
        "# Be careful! Python (and NumPy) assign by reference. They do not make copies.  \n",
        "# Matlab does this (lazily), so it's easy for Matlab users to have bugs in Python\n",
        "x = [3, 4, 5]\n",
        "y = x\n",
        "x[0] = 30\n",
        "y"
      ],
      "execution_count": null,
      "outputs": [
        {
          "output_type": "execute_result",
          "data": {
            "image/png": "[encoded data removed]",
            "text/latex": "$$\\left [ 30, \\quad 4, \\quad 5\\right ]$$",
            "text/plain": [
              "[30, 4, 5]"
            ]
          },
          "metadata": {
            "tags": []
          },
          "execution_count": 112
        }
      ]
    },
    {
      "cell_type": "code",
      "metadata": {
        "id": "rJY9w0IM-teQ",
        "colab_type": "code",
        "colab": {
          "base_uri": "https://localhost:8080/",
          "height": 37
        },
        "outputId": "77bd4cee-8c8a-4b23-ffa6-e5927959f99d"
      },
      "source": [
        "x = [3, 4, 5]\n",
        "y = x.copy()   # we must explicitly ask Python to copy the data\n",
        "x[0] = 30\n",
        "y"
      ],
      "execution_count": null,
      "outputs": [
        {
          "output_type": "execute_result",
          "data": {
            "image/png": "[encoded data removed]",
            "text/latex": "$$\\left [ 3, \\quad 4, \\quad 5\\right ]$$",
            "text/plain": [
              "[3, 4, 5]"
            ]
          },
          "metadata": {
            "tags": []
          },
          "execution_count": 113
        }
      ]
    },
    {
      "cell_type": "markdown",
      "metadata": {
        "id": "7ytDzkPU8bGu",
        "colab_type": "text"
      },
      "source": [
        "## NumPy\n",
        "See [NumPy for Matlab users](https://numpy.org/doc/stable/user/numpy-for-matlab-users.html)"
      ]
    },
    {
      "cell_type": "code",
      "metadata": {
        "id": "jlRP8klR8fkW",
        "colab_type": "code",
        "colab": {}
      },
      "source": [
        "import numpy as np\n",
        "\n",
        "myArray = np.arange(10)"
      ],
      "execution_count": null,
      "outputs": []
    },
    {
      "cell_type": "code",
      "metadata": {
        "id": "ZNoQ-n5h8v86",
        "colab_type": "code",
        "colab": {
          "base_uri": "https://localhost:8080/",
          "height": 34
        },
        "outputId": "e9c9c5fd-bb2c-480c-da5d-aa44dcd5dbbe"
      },
      "source": [
        "myArray"
      ],
      "execution_count": null,
      "outputs": [
        {
          "output_type": "execute_result",
          "data": {
            "text/plain": [
              "array([0, 1, 2, 3, 4, 5, 6, 7, 8, 9])"
            ]
          },
          "metadata": {
            "tags": []
          },
          "execution_count": 98
        }
      ]
    },
    {
      "cell_type": "code",
      "metadata": {
        "id": "0oCn4JNN8wxd",
        "colab_type": "code",
        "colab": {
          "base_uri": "https://localhost:8080/",
          "height": 34
        },
        "outputId": "64fc71bf-9ebf-4d23-bb6e-9b278ffd3fa4"
      },
      "source": [
        "type( myArray )"
      ],
      "execution_count": null,
      "outputs": [
        {
          "output_type": "execute_result",
          "data": {
            "text/plain": [
              "numpy.ndarray"
            ]
          },
          "metadata": {
            "tags": []
          },
          "execution_count": 99
        }
      ]
    },
    {
      "cell_type": "code",
      "metadata": {
        "id": "VWoHChhu8z15",
        "colab_type": "code",
        "colab": {
          "base_uri": "https://localhost:8080/",
          "height": 34
        },
        "outputId": "1278c70a-5bf7-420d-8982-75126b3fe34e"
      },
      "source": [
        "myArray.dtype"
      ],
      "execution_count": null,
      "outputs": [
        {
          "output_type": "execute_result",
          "data": {
            "text/plain": [
              "dtype('int64')"
            ]
          },
          "metadata": {
            "tags": []
          },
          "execution_count": 100
        }
      ]
    },
    {
      "cell_type": "code",
      "metadata": {
        "id": "9c7_vX8J9w0n",
        "colab_type": "code",
        "colab": {
          "base_uri": "https://localhost:8080/",
          "height": 34
        },
        "outputId": "e5adbb6b-2c6a-437a-bf4c-68b32392c771"
      },
      "source": [
        "myArray[2] = -10.5\n",
        "myArray  # it automatically rounded to an integer"
      ],
      "execution_count": null,
      "outputs": [
        {
          "output_type": "execute_result",
          "data": {
            "text/plain": [
              "array([  0,   1, -10,   3,   4,   5,   6,   7,   8,   9])"
            ]
          },
          "metadata": {
            "tags": []
          },
          "execution_count": 109
        }
      ]
    },
    {
      "cell_type": "code",
      "metadata": {
        "id": "DzO9FsXm81UB",
        "colab_type": "code",
        "colab": {
          "base_uri": "https://localhost:8080/",
          "height": 34
        },
        "outputId": "82ce45c6-6dbd-40ea-d994-095a033788b2"
      },
      "source": [
        "myNewArray = myArray.astype( np.float64 ) # this makes a new copy\n",
        "myNewArray.dtype"
      ],
      "execution_count": null,
      "outputs": [
        {
          "output_type": "execute_result",
          "data": {
            "text/plain": [
              "dtype('float64')"
            ]
          },
          "metadata": {
            "tags": []
          },
          "execution_count": 101
        }
      ]
    },
    {
      "cell_type": "markdown",
      "metadata": {
        "id": "cIo1yEL785jw",
        "colab_type": "text"
      },
      "source": [
        " NumPy has datatypes like:\n",
        " - `bool` (Boolean: a single bit, either `True` or `False`)\n",
        " - `int8` and `uint8`\n",
        " - ...\n",
        " - `int64` and `uint64`\n",
        " - `float16` (half precision)\n",
        " - `float32` (single precision, the standard a long time ago)\n",
        " - `float64` (double precision; the standard now)\n",
        " - `float128` (extended-precision)\n",
        " - `complex64`, `complex128`, `complex256`\n",
        " - `string_` or `unicode_`\n"
      ]
    },
    {
      "cell_type": "code",
      "metadata": {
        "id": "QZuEbQMH9n5o",
        "colab_type": "code",
        "colab": {
          "base_uri": "https://localhost:8080/",
          "height": 34
        },
        "outputId": "924ce488-7387-49af-841c-4b9850817a2f"
      },
      "source": [
        "myNewArray"
      ],
      "execution_count": null,
      "outputs": [
        {
          "output_type": "execute_result",
          "data": {
            "text/plain": [
              "array([0., 1., 2., 3., 4., 5., 6., 7., 8., 9.])"
            ]
          },
          "metadata": {
            "tags": []
          },
          "execution_count": 110
        }
      ]
    },
    {
      "cell_type": "code",
      "metadata": {
        "id": "Gg8rJMmA-US_",
        "colab_type": "code",
        "colab": {}
      },
      "source": [
        ""
      ],
      "execution_count": null,
      "outputs": []
    },
    {
      "cell_type": "code",
      "metadata": {
        "id": "hVnOZbJq9d1t",
        "colab_type": "code",
        "colab": {
          "base_uri": "https://localhost:8080/",
          "height": 34
        },
        "outputId": "e0678267-038a-4381-fc6b-f8970fb4b2f7"
      },
      "source": [
        "myArray"
      ],
      "execution_count": null,
      "outputs": [
        {
          "output_type": "execute_result",
          "data": {
            "text/plain": [
              "array([ 0,  1, 20,  3,  4,  5,  6,  7,  8,  9])"
            ]
          },
          "metadata": {
            "tags": []
          },
          "execution_count": 106
        }
      ]
    },
    {
      "cell_type": "code",
      "metadata": {
        "id": "s1YX9Mxz9rPX",
        "colab_type": "code",
        "colab": {
          "base_uri": "https://localhost:8080/",
          "height": 34
        },
        "outputId": "8054c226-425a-4006-fac9-81ac18800d1e"
      },
      "source": [
        "np.finfo( float )  # `float` is shorthand for `float64`"
      ],
      "execution_count": null,
      "outputs": [
        {
          "output_type": "execute_result",
          "data": {
            "text/plain": [
              "finfo(resolution=1e-15, min=-1.7976931348623157e+308, max=1.7976931348623157e+308, dtype=float64)"
            ]
          },
          "metadata": {
            "tags": []
          },
          "execution_count": 128
        }
      ]
    },
    {
      "cell_type": "code",
      "metadata": {
        "id": "_tff0EKWBKW0",
        "colab_type": "code",
        "colab": {
          "base_uri": "https://localhost:8080/",
          "height": 38
        },
        "outputId": "d06c057e-02cf-47e9-9874-937d25446185"
      },
      "source": [
        "machineEpsilon = np.finfo( float ).eps  # see https://www.kite.com/python/docs/numpy.finfo\n",
        "# Same as np.spacing(np.float64(1))\n",
        "machineEpsilon"
      ],
      "execution_count": null,
      "outputs": [
        {
          "output_type": "execute_result",
          "data": {
            "image/png": "[encoded data removed]",
            "text/latex": "$$2.220446049250313e-16$$",
            "text/plain": [
              "2.220446049250313e-16"
            ]
          },
          "metadata": {
            "tags": []
          },
          "execution_count": 134
        }
      ]
    },
    {
      "cell_type": "code",
      "metadata": {
        "id": "5onx82G3BQjp",
        "colab_type": "code",
        "colab": {
          "base_uri": "https://localhost:8080/",
          "height": 38
        },
        "outputId": "f8d01e65-f198-45e2-f10f-9612c983e68f"
      },
      "source": [
        "2**(-52)"
      ],
      "execution_count": null,
      "outputs": [
        {
          "output_type": "execute_result",
          "data": {
            "image/png": "[encoded data removed]",
            "text/latex": "$$2.220446049250313e-16$$",
            "text/plain": [
              "2.220446049250313e-16"
            ]
          },
          "metadata": {
            "tags": []
          },
          "execution_count": 133
        }
      ]
    },
    {
      "cell_type": "code",
      "metadata": {
        "id": "b3OxKOMvBbdT",
        "colab_type": "code",
        "colab": {
          "base_uri": "https://localhost:8080/",
          "height": 38
        },
        "outputId": "41655e3b-eb14-4e05-c4ea-d1be29a899e9"
      },
      "source": [
        "tiny = np.finfo( float ).tiny\n",
        "# smallest \"normal\" number, e.g., mantissa isn't too small, but exponent is maxed out\n",
        "tiny"
      ],
      "execution_count": null,
      "outputs": [
        {
          "output_type": "execute_result",
          "data": {
            "image/png": "[encoded data removed]",
            "text/latex": "$$2.2250738585072014e-308$$",
            "text/plain": [
              "2.2250738585072014e-308"
            ]
          },
          "metadata": {
            "tags": []
          },
          "execution_count": 136
        }
      ]
    },
    {
      "cell_type": "code",
      "metadata": {
        "id": "NtUk9V1vCZd2",
        "colab_type": "code",
        "colab": {
          "base_uri": "https://localhost:8080/",
          "height": 38
        },
        "outputId": "1fa1e28e-68e2-494f-fb37-df83304bbdb2"
      },
      "source": [
        "mn, mx = np.finfo( float ).min, np.finfo( float ).max\n",
        "mn, mx"
      ],
      "execution_count": null,
      "outputs": [
        {
          "output_type": "execute_result",
          "data": {
            "image/png": "[encoded data removed]",
            "text/latex": "$$\\left ( -1.7976931348623157e+308, \\quad 1.7976931348623157e+308\\right )$$",
            "text/plain": [
              "(-1.7976931348623157e+308, 1.7976931348623157e+308)"
            ]
          },
          "metadata": {
            "tags": []
          },
          "execution_count": 137
        }
      ]
    },
    {
      "cell_type": "code",
      "metadata": {
        "id": "ALfYbt1nCmoM",
        "colab_type": "code",
        "colab": {}
      },
      "source": [
        ""
      ],
      "execution_count": null,
      "outputs": []
    },
    {
      "cell_type": "markdown",
      "metadata": {
        "id": "1NL2mJUfCni4",
        "colab_type": "text"
      },
      "source": [
        "The mn/max look very similar to the `tiny` variable, but that's misleading, because they are different kinds of quantities."
      ]
    },
    {
      "cell_type": "code",
      "metadata": {
        "id": "cM7vOvMXCvGd",
        "colab_type": "code",
        "colab": {
          "base_uri": "https://localhost:8080/",
          "height": 34
        },
        "outputId": "8282c422-aacd-44ec-e4f2-bf471a4ab6bf"
      },
      "source": [
        "1 + machineEpsilon/2 == 1"
      ],
      "execution_count": null,
      "outputs": [
        {
          "output_type": "execute_result",
          "data": {
            "text/plain": [
              "True"
            ]
          },
          "metadata": {
            "tags": []
          },
          "execution_count": 139
        }
      ]
    },
    {
      "cell_type": "code",
      "metadata": {
        "id": "MxQKB9hTCy-A",
        "colab_type": "code",
        "colab": {
          "base_uri": "https://localhost:8080/",
          "height": 51
        },
        "outputId": "05a62630-1a88-4758-be0d-e88aa1bdaaaa"
      },
      "source": [
        "# Overflow\n",
        "print( (10 + mx) - mx )\n",
        "\n",
        "# Overflow can have negative values\n",
        "print( (10 - mn) + mn )"
      ],
      "execution_count": null,
      "outputs": [
        {
          "output_type": "stream",
          "text": [
            "0.0\n",
            "0.0\n"
          ],
          "name": "stdout"
        }
      ]
    },
    {
      "cell_type": "code",
      "metadata": {
        "id": "oUemAoM3C3_I",
        "colab_type": "code",
        "colab": {
          "base_uri": "https://localhost:8080/",
          "height": 37
        },
        "outputId": "5d45065e-81dd-4abf-c16b-442e6d73bf0b"
      },
      "source": [
        "# Underflow is for very small numbers **in absolute value**\n",
        "# Smallest \"subnormal\" number, changing mantissa from 1 + ... to just ...\n",
        "veryTiny = np.spacing(np.float64(0)) # not the same as \"tiny\"; see https://stackoverflow.com/a/52756639\n",
        "\n",
        "0 + veryTiny/2"
      ],
      "execution_count": null,
      "outputs": [
        {
          "output_type": "execute_result",
          "data": {
            "image/png": "[encoded data removed]",
            "text/latex": "$$0.0$$",
            "text/plain": [
              "0.0"
            ]
          },
          "metadata": {
            "tags": []
          },
          "execution_count": 151
        }
      ]
    },
    {
      "cell_type": "markdown",
      "metadata": {
        "id": "gIhMGzVRVNOn",
        "colab_type": "text"
      },
      "source": [
        "Example of overflow (this comes up in machine learning and logistic regression type problems). See things like [`logsumexp`](scipy.special.logsumexp) and [`log1p`](https://docs.scipy.org/doc/scipy/reference/generated/scipy.special.log1p.html?highlight=log1p#scipy.special.log1p)\n",
        "\n",
        "Let's compute $\\log_{10}( 10^a + 10^b )$, which is the log-sum-exp function, and a type of soft-max.  If $b$ is very small, it won't have much contribution, and so $\\log_{10}(10^a + 10^b) \\approx \\log_{10}(10^a) = a$.\n",
        "\n",
        "However, we can easily run into trouble if we're not careful:"
      ]
    },
    {
      "cell_type": "code",
      "metadata": {
        "id": "NUNQFYOeWB-1",
        "colab_type": "code",
        "colab": {
          "base_uri": "https://localhost:8080/",
          "height": 198
        },
        "outputId": "d062c0cf-fcaf-4307-c063-529d5f161f50"
      },
      "source": [
        "a = 350.  # if we don't make it 700. (and use 700, the integer, instead, then its OK)\n",
        "b = 340.\n",
        "math.log10( 10**a + 10**b )"
      ],
      "execution_count": null,
      "outputs": [
        {
          "output_type": "error",
          "ename": "OverflowError",
          "evalue": "ignored",
          "traceback": [
            "\u001b[0;31m---------------------------------------------------------------------------\u001b[0m",
            "\u001b[0;31mOverflowError\u001b[0m                             Traceback (most recent call last)",
            "\u001b[0;32m<ipython-input-22-a6f24ac4dd2a>\u001b[0m in \u001b[0;36m<module>\u001b[0;34m()\u001b[0m\n\u001b[1;32m      1\u001b[0m \u001b[0ma\u001b[0m \u001b[0;34m=\u001b[0m \u001b[0;36m350.\u001b[0m  \u001b[0;31m# if we don't make it 700. (and use 700, the integer, instead, then its OK)\u001b[0m\u001b[0;34m\u001b[0m\u001b[0;34m\u001b[0m\u001b[0m\n\u001b[1;32m      2\u001b[0m \u001b[0mb\u001b[0m \u001b[0;34m=\u001b[0m \u001b[0;36m340.\u001b[0m\u001b[0;34m\u001b[0m\u001b[0;34m\u001b[0m\u001b[0m\n\u001b[0;32m----> 3\u001b[0;31m \u001b[0mmath\u001b[0m\u001b[0;34m.\u001b[0m\u001b[0mlog10\u001b[0m\u001b[0;34m(\u001b[0m \u001b[0;36m10\u001b[0m\u001b[0;34m**\u001b[0m\u001b[0ma\u001b[0m \u001b[0;34m+\u001b[0m \u001b[0;36m10\u001b[0m\u001b[0;34m**\u001b[0m\u001b[0mb\u001b[0m \u001b[0;34m)\u001b[0m\u001b[0;34m\u001b[0m\u001b[0;34m\u001b[0m\u001b[0m\n\u001b[0m",
            "\u001b[0;31mOverflowError\u001b[0m: (34, 'Numerical result out of range')"
          ]
        }
      ]
    },
    {
      "cell_type": "code",
      "metadata": {
        "id": "Y5lZdmR5WGmB",
        "colab_type": "code",
        "colab": {
          "base_uri": "https://localhost:8080/",
          "height": 34
        },
        "outputId": "92710e4f-98e1-4a91-a66e-8289fe61c584"
      },
      "source": [
        "a + math.log10( 10**0 + 10**(b-a) )"
      ],
      "execution_count": null,
      "outputs": [
        {
          "output_type": "execute_result",
          "data": {
            "text/plain": [
              "350.0000000000434"
            ]
          },
          "metadata": {
            "tags": []
          },
          "execution_count": 23
        }
      ]
    },
    {
      "cell_type": "code",
      "metadata": {
        "id": "CJJiVVgIXWrd",
        "colab_type": "code",
        "colab": {}
      },
      "source": [
        ""
      ],
      "execution_count": null,
      "outputs": []
    }
  ]
}