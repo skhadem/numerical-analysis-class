{
  "nbformat": 4,
  "nbformat_minor": 0,
  "metadata": {
    "colab": {
      "name": "Ch4_RombergIntegration.ipynb",
      "provenance": [],
      "authorship_tag": "ABX9TyP59QrkzHlM94Zq/MQcBQ1T",
      "include_colab_link": true
    },
    "kernelspec": {
      "name": "python3",
      "display_name": "Python 3"
    }
  },
  "cells": [
    {
      "cell_type": "markdown",
      "metadata": {
        "id": "view-in-github",
        "colab_type": "text"
      },
      "source": [
        "<a href=\"https://colab.research.google.com/github/stephenbeckr/numerical-analysis-class/blob/master/Demos/Ch4_RombergIntegration.ipynb\" target=\"_parent\"><img src=\"https://colab.research.google.com/assets/colab-badge.svg\" alt=\"Open In Colab\"/></a>"
      ]
    },
    {
      "cell_type": "markdown",
      "metadata": {
        "id": "ZfCjhA7SVgdG"
      },
      "source": [
        "# Romberg Integration\n",
        "### The idea of Richardson extrapolation\n",
        "If $N(h)$ is a method that tries to compute some answer $M$, and $\\lim_{h\\to 0}N(h)=M$, and in particular, if\n",
        "$$N(h)=M + ch^{\\alpha} + o(h^\\alpha)$$\n",
        "for some constant $c$, then we can create an extrapolated version\n",
        "$$R(h) = N(h) + \\frac{N(h)-N(qh)}{q^{\\alpha}-1}=(q^\\alpha-1)^{-1}\\left(q^\\alpha N(h) - N(qh)\\right)$$\n",
        "where $q$ is up to us (almost always $q=2$).  Note that sometimes we call this $R(qh)$ -- what we call it doesn't really matter as long as we don't get confused.\n",
        "\n",
        "### Repeated Richardson extrapolation\n",
        "We'll then extrapolate $R$. To do this, we need to know\n",
        "$$R(h) = M + c_2h^{\\alpha_2} + o(h^{\\alpha_2})\n",
        "$$\n",
        "and so to know $\\alpha_2$, we usually look back at the original $N(h)$ and ask for a more complete expansion\n",
        "$$N(h)=M + ch^{\\alpha} + c_2h^{\\alpha_2} + c_3h^{\\alpha_3} +\\ldots$$\n",
        "Usually we have the pattern $\\alpha_{j+1} = \\alpha_{j}+1$, but sometimes we have the pattern $\\alpha_{j+1} = \\alpha_{j}+2$ (e.g., for the trapezoidal rule) which is often due to symmetries that cause odd powers of $h$ to cancel.\n",
        "\n",
        "### We'll start by setting up our composite integration routines\n",
        "These are taken from previous demo notebooks"
      ]
    },
    {
      "cell_type": "code",
      "metadata": {
        "id": "5oYXFgzHP4A7"
      },
      "source": [
        "import numpy as np\n",
        "import matplotlib.pyplot as plt\n",
        "import matplotlib as mpl\n",
        "mpl.rcParams['mathtext.fontset'] = 'cm'\n",
        "mpl.rcParams.update({'font.size': 20})\n",
        "\n",
        "\n",
        "def CompositeMidpoint( f, a, b, n ):\n",
        "  h   = (b-a)/(n+1)  # this is \\tilde{h} in the notes\n",
        "  nodes = np.arange( a+h/2, b, step=h)\n",
        "  return h*np.sum(f(nodes))\n",
        "\n",
        "def CompositeTrapezoidal( f, a, b, n):\n",
        "  nodes, h = np.linspace(a,b,n+1,retstep=True)\n",
        "  y  = f(nodes)\n",
        "  return h*( np.sum(y) - (y[0]+y[-1])/2) # y[-1] is last element; in Matlab, this is y(end)\n",
        "\n",
        "def CompositeSimpson( f, a, b, n):\n",
        "  n = int(n/2)*2  # Make it even\n",
        "  nodes, h = np.linspace(a,b,n+1,retstep=True)\n",
        "  y = f(nodes)\n",
        "  return h/3*( y[0] + 2*np.sum(y[2:n:2]) + 4*np.sum(y[1:n:2]) + y[-1] ) # in Matlab, it is a:step:b whereas in Python it is a:b:step and not inclusive of b"
      ],
      "execution_count": 1,
      "outputs": []
    },
    {
      "cell_type": "markdown",
      "metadata": {
        "id": "SCyIiqBEVdDS"
      },
      "source": [
        "### and setup a function to integrate"
      ]
    },
    {
      "cell_type": "code",
      "metadata": {
        "id": "XGjVz3-7VXcM",
        "outputId": "cfea0b12-73f2-488b-8f54-a6aa7863e525",
        "colab": {
          "base_uri": "https://localhost:8080/",
          "height": 500
        }
      },
      "source": [
        "f = lambda x : np.cos(x)\n",
        "F = lambda x : np.sin(x)  # dF/dx = f\n",
        "a,b = -1,2\n",
        "\n",
        "I   = F(b) - F(a)\n",
        "print(\"Integral I is {:.3f}\".format(I))\n",
        "\n",
        "x = np.linspace(a,b)\n",
        "plt.figure(figsize=(10,8)) \n",
        "plt.fill_between( x, f(x), alpha=0.5);\n",
        "plt.axvline(color='k');\n",
        "plt.axhline(color='k');\n"
      ],
      "execution_count": 2,
      "outputs": [
        {
          "output_type": "stream",
          "text": [
            "Integral I is 1.751\n"
          ],
          "name": "stdout"
        },
        {
          "output_type": "display_data",
          "data": {
            "image/png": "[encoded data removed]",
            "text/plain": [
              "<Figure size 720x576 with 1 Axes>"
            ]
          },
          "metadata": {
            "tags": [],
            "needs_background": "light"
          }
        }
      ]
    },
    {
      "cell_type": "markdown",
      "metadata": {
        "id": "B4qdL8zNVLOs"
      },
      "source": [
        "### Now define our Romberg method, specialized to the Trapezoidal rule"
      ]
    },
    {
      "cell_type": "code",
      "metadata": {
        "id": "RnRP9yH5ViTR"
      },
      "source": [
        "def RombergAppliedToTrapezoidal(f,a,b,nRows):\n",
        "  n = 2\n",
        "  table = []\n",
        "  for i in range(nRows):\n",
        "    I = CompositeTrapezoidal(f,a,b,n)\n",
        "    newRow = [I]\n",
        "    if i > 0:\n",
        "      oldRow = table[-1]\n",
        "    for j in range(i):\n",
        "      qj = 4**(j+1)\n",
        "      newRow.append(  (qj*newRow[-1] - oldRow[j])/( qj-1) )\n",
        "    table.append(newRow)\n",
        "    n *= 2\n",
        "  return table"
      ],
      "execution_count": 3,
      "outputs": []
    },
    {
      "cell_type": "code",
      "metadata": {
        "id": "a74PV_74X6E0",
        "outputId": "335afc58-692c-48bf-ca23-6c91ff083092",
        "colab": {
          "base_uri": "https://localhost:8080/",
          "height": 153
        }
      },
      "source": [
        "table = RombergAppliedToTrapezoidal(f,a,b,8)\n",
        "for row in table:\n",
        "  for entry in row:\n",
        "    print(\"{:.2e}  \".format(abs(entry-I)),end=\"\") # suppress new line\n",
        "  print(\"\") # new line"
      ],
      "execution_count": 4,
      "outputs": [
        {
          "output_type": "stream",
          "text": [
            "3.41e-01  \n",
            "8.28e-02  3.30e-03  \n",
            "2.06e-02  1.96e-04  1.11e-05  \n",
            "5.13e-03  1.21e-05  1.64e-07  9.78e-09  \n",
            "1.28e-03  7.52e-07  2.53e-09  3.61e-11  2.17e-12  \n",
            "3.21e-04  4.70e-08  3.94e-11  1.39e-13  1.78e-15  2.22e-16  \n",
            "8.01e-05  2.94e-09  6.14e-13  4.44e-16  0.00e+00  0.00e+00  0.00e+00  \n",
            "2.00e-05  1.83e-10  9.77e-15  2.22e-16  2.22e-16  2.22e-16  2.22e-16  2.22e-16  \n"
          ],
          "name": "stdout"
        }
      ]
    }
  ]
}