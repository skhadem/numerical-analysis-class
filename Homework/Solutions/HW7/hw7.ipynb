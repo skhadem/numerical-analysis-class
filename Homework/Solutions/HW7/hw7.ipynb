{
 "cells": [
  {
   "cell_type": "markdown",
   "metadata": {},
   "source": [
    "# APPM 4650\n",
    "# Soroush Khadem"
   ]
  },
  {
   "cell_type": "code",
   "execution_count": 2,
   "metadata": {
    "collapsed": true
   },
   "outputs": [],
   "source": [
    "import numpy as np\n",
    "from scipy.special import roots_laguerre\n",
    "from scipy.linalg import hilbert\n",
    "from scipy.integrate import quad\n",
    "import matplotlib.pyplot as plt\n",
    "from timeit import timeit\n",
    "plt.style.use('seaborn-bright')\n",
    "plt.rcParams['figure.figsize'] = [15, 5]\n",
    "plt.rcParams['axes.grid'] = True\n",
    "plt.rcParams['grid.alpha'] = 0.25"
   ]
  },
  {
   "cell_type": "markdown",
   "metadata": {},
   "source": [
    "# Problem 1"
   ]
  },
  {
   "cell_type": "markdown",
   "metadata": {},
   "source": [
    "## 1a"
   ]
  },
  {
   "cell_type": "code",
   "execution_count": 3,
   "metadata": {
    "collapsed": true
   },
   "outputs": [],
   "source": [
    "# Because Gauss-Laguerre divides by e^x, make sure to multiply it back into the function\n",
    "f = lambda x : (1/(1+x**2))*np.exp(x)\n",
    "F = lambda x : np.arctan(x)"
   ]
  },
  {
   "cell_type": "code",
   "execution_count": 4,
   "metadata": {
    "collapsed": true
   },
   "outputs": [],
   "source": [
    "a = 0\n",
    "b = np.inf\n",
    "I = F(b) - F(a)\n",
    "I *= 2"
   ]
  },
  {
   "cell_type": "code",
   "execution_count": 5,
   "metadata": {},
   "outputs": [
    {
     "name": "stderr",
     "output_type": "stream",
     "text": [
      "/Users/soroushkhadem/anaconda3/lib/python3.6/site-packages/ipykernel_launcher.py:2: RuntimeWarning: overflow encountered in exp\n",
      "  \n",
      "/Users/soroushkhadem/anaconda3/lib/python3.6/site-packages/scipy/special/orthogonal.py:192: RuntimeWarning: overflow encountered in true_divide\n",
      "  w = 1.0 / (fm * dy)\n",
      "/Users/soroushkhadem/anaconda3/lib/python3.6/site-packages/scipy/special/orthogonal.py:198: RuntimeWarning: invalid value encountered in multiply\n",
      "  w *= mu0 / w.sum()\n",
      "/Users/soroushkhadem/anaconda3/lib/python3.6/site-packages/ipykernel_launcher.py:5: RuntimeWarning: invalid value encountered in multiply\n",
      "  \"\"\"\n",
      "/Users/soroushkhadem/anaconda3/lib/python3.6/site-packages/scipy/special/orthogonal.py:192: RuntimeWarning: divide by zero encountered in true_divide\n",
      "  w = 1.0 / (fm * dy)\n"
     ]
    },
    {
     "data": {
      "image/png": "[encoded data removed]",
      "text/plain": [
       "<matplotlib.figure.Figure at 0x10acedf60>"
      ]
     },
     "metadata": {},
     "output_type": "display_data"
    }
   ],
   "source": [
    "ns = np.arange(1, 200)\n",
    "errors = []\n",
    "for n in ns:\n",
    "    x, w = roots_laguerre(n)\n",
    "    errors.append(np.abs(I - 2*np.sum(f(x)*w)))\n",
    "plt.plot(ns, errors)\n",
    "plt.xscale('log')\n",
    "plt.yscale('log')\n",
    "plt.ylabel('Absolute Error')\n",
    "plt.xlabel('Number of Nodes')\n",
    "plt.title('Integrating Runge\\'s Function using Gauss-Laguerre')\n",
    "plt.show()"
   ]
  },
  {
   "cell_type": "code",
   "execution_count": 262,
   "metadata": {},
   "outputs": [
    {
     "name": "stdout",
     "output_type": "stream",
     "text": [
      "For n = 184, error is 0.0027617962438091226\n"
     ]
    }
   ],
   "source": [
    "errors = np.array(errors)\n",
    "last_index = np.where(np.isnan(errors) == False)[-1][-1] - 1\n",
    "print('For n = %s, error is %s'%(last_index, errors[last_index]))"
   ]
  },
  {
   "cell_type": "markdown",
   "metadata": {},
   "source": [
    "The smallest error occurs at 184 nodes, and is 0.00276. This is because with more nodes than 184 nodes, overflow occurs, and the Gauss-Laguerre method goes to infinity. Therefore, no it is not possible to get arbitrarily close to machine precision"
   ]
  },
  {
   "cell_type": "markdown",
   "metadata": {},
   "source": [
    "## 1b"
   ]
  },
  {
   "cell_type": "markdown",
   "metadata": {},
   "source": [
    "Plugging in $x = e^t -1$, the result is:\n",
    "\n",
    "$\\int_0^\\infty \\frac{1}{1 + x^2}dx = \\int_0^\\infty \\frac{1}{1 + (e^t - 1)^2} e^t dt = \\int_0^\\infty \\frac{e^t}{e^{2t} - 2e^t +2} dt$\n",
    "\n",
    "Because we are using Gauss-Laguerre, multiply by $e^t$ to offset the extra term:\n",
    "\n",
    "$\\int_0^\\infty \\frac{e^{2t}}{e^{2t} - 2e^t +2} dt$\n",
    "\n",
    "However, because there are positive exponentials, this function can easily blow up. Thus, simplify by multiplying top and bottom by $e^{-2t}$:\n",
    "\n",
    "$\\int_0^\\infty \\frac{1}{1 - 2e^{-t} + 2e^{-2t}} dt$"
   ]
  },
  {
   "cell_type": "code",
   "execution_count": 6,
   "metadata": {
    "collapsed": true
   },
   "outputs": [],
   "source": [
    "f_changed = lambda t : (1) / (1 - 2*np.exp(-t) + 2*np.exp(-2*t))"
   ]
  },
  {
   "cell_type": "code",
   "execution_count": 7,
   "metadata": {},
   "outputs": [
    {
     "name": "stderr",
     "output_type": "stream",
     "text": [
      "/Users/soroushkhadem/anaconda3/lib/python3.6/site-packages/scipy/special/orthogonal.py:192: RuntimeWarning: overflow encountered in true_divide\n",
      "  w = 1.0 / (fm * dy)\n",
      "/Users/soroushkhadem/anaconda3/lib/python3.6/site-packages/scipy/special/orthogonal.py:198: RuntimeWarning: invalid value encountered in multiply\n",
      "  w *= mu0 / w.sum()\n",
      "/Users/soroushkhadem/anaconda3/lib/python3.6/site-packages/scipy/special/orthogonal.py:192: RuntimeWarning: divide by zero encountered in true_divide\n",
      "  w = 1.0 / (fm * dy)\n"
     ]
    },
    {
     "data": {
      "image/png": "[encoded data removed]",
      "text/plain": [
       "<matplotlib.figure.Figure at 0x11abf9160>"
      ]
     },
     "metadata": {},
     "output_type": "display_data"
    }
   ],
   "source": [
    "ns = np.arange(1, 200)\n",
    "errors = []\n",
    "for n in ns:\n",
    "    x, w = roots_laguerre(n)\n",
    "    errors.append(np.abs(I - 2*np.sum(f_changed(x)*w)))\n",
    "\n",
    "plt.plot(ns, errors)\n",
    "plt.xscale('log')\n",
    "plt.yscale('log')\n",
    "plt.show()"
   ]
  },
  {
   "cell_type": "code",
   "execution_count": 8,
   "metadata": {},
   "outputs": [
    {
     "name": "stdout",
     "output_type": "stream",
     "text": [
      "For n = 184, error is 1.3419487743249192e-11\n"
     ]
    }
   ],
   "source": [
    "errors = np.array(errors)\n",
    "last_index = np.where(np.isnan(errors) == False)[-1][-1] - 1\n",
    "print('For n = %s, error is %s'%(last_index, errors[last_index]))"
   ]
  },
  {
   "cell_type": "markdown",
   "metadata": {},
   "source": [
    "Once again, there is overflow preventing the error from completely diverging, but this time, using 184 nodees results in an error of 1e-11, much better than before. This is because we are essentially \"condensing\" the x-axis, causing much more of the area under the curve to be covered by using the same nodes"
   ]
  },
  {
   "cell_type": "markdown",
   "metadata": {},
   "source": [
    "## Problem 2"
   ]
  },
  {
   "cell_type": "markdown",
   "metadata": {},
   "source": [
    "## 2a"
   ]
  },
  {
   "cell_type": "code",
   "execution_count": 217,
   "metadata": {
    "collapsed": true
   },
   "outputs": [],
   "source": [
    "def baseQuadratureRule(f, a, b):\n",
    "  \"\"\"1D integration of f(x) from a to b\"\"\"\n",
    "\n",
    "  Q, _ = quad(f,a,b,epsabs=1.5e-8,epsrel=1.5e-8,limit=50)\n",
    "  return Q"
   ]
  },
  {
   "cell_type": "code",
   "execution_count": 237,
   "metadata": {
    "collapsed": true
   },
   "outputs": [],
   "source": [
    "def quad2D(f, bounds, baseQuadRule):\n",
    "    \"\"\"Integrates a 2D function from bounds[0] to bounds[1]\n",
    "    and from bounds[2] to bounds[3], using `baseQuadRule`\"\"\"\n",
    "    assert len(bounds) == 4\n",
    "    @np.vectorize\n",
    "    def a(x):\n",
    "        def b(y):\n",
    "            return f(np.array([x,y]))\n",
    "        return baseQuadRule(b, bounds[2], bounds[3])\n",
    "    return baseQuadRule(a, bounds[0], bounds[1])\n",
    "\n",
    "def quad3D(f, bounds, baseQuadRule):\n",
    "    \"\"\"Integrates a 3D function from bounds[0] to bounds[1]\n",
    "    and from bounds[2] to bounds[3], etc, using `baseQuadRule`\"\"\"\n",
    "    assert len(bounds) == 6\n",
    "    # Note: this is added to speed up problem 2, should be removed for the general case\n",
    "    hilbert_mat = hilbert(3)\n",
    "    @np.vectorize\n",
    "    def a(x):\n",
    "        def b(y):\n",
    "            def c(z):\n",
    "                # See note above\n",
    "                return f(np.array([x,y,z]), hilbert_mat)\n",
    "            return baseQuadRule(c, bounds[4], bounds[5])\n",
    "        return baseQuadRule(b, bounds[2], bounds[3])\n",
    "    return baseQuadRule(a, bounds[0], bounds[1])\n",
    "\n",
    "def quad4D(f, bounds, baseQuadRule):\n",
    "    \"\"\"Integrates a 4D function from bounds[0] to bounds[1]\n",
    "    and from bounds[2] to bounds[3], etc, using `baseQuadRule`\"\"\"\n",
    "    assert len(bounds) == 8\n",
    "    # Note: this is added to speed up problem 2, should be removed for the general case\n",
    "    hilbert_mat = hilbert(4)\n",
    "    @np.vectorize\n",
    "    def a(x):\n",
    "        def b(y):\n",
    "            def c(z):\n",
    "                def d(w):\n",
    "                    # See note above\n",
    "                    return f(np.array([x,y,z,w]), hilbert_mat)\n",
    "                return baseQuadRule(d, bounds[6], bounds[7])\n",
    "            return baseQuadRule(c, bounds[4], bounds[5])\n",
    "        return baseQuadRule(b, bounds[2], bounds[3])\n",
    "    return baseQuadRule(a, bounds[0], bounds[1])\n",
    "\n",
    "def quad_high_dim(f, bounds, baseQuadRule):\n",
    "    \"\"\"\n",
    "    Integrates f, for the dimensions specified in `bounds`\n",
    "    Note: only implemented for dimensions 1, 2, 3, and 4\n",
    "    :@param f: The function to integrate. Function is expected \n",
    "        to take in an np.array, representing a high dimensional variable \n",
    "    :@param bounds: Array of bounds, in pairs. \n",
    "        Ex. for 2D, bounds should be [a, b, c, d], which means x \n",
    "        will be integrated from a to b, and y will be integrated from c to d\n",
    "    :@param baseQuadRule: The base quadrature rule to use\n",
    "    \"\"\"\n",
    "    if len(bounds) == 2:\n",
    "        return baseQuadRule(f, bounds[0], bounds[1])\n",
    "    elif len(bounds) == 4:\n",
    "        return quad2D(f, bounds, baseQuadRule)\n",
    "    elif len(bounds) == 6:\n",
    "        return quad3D(f, bounds, baseQuadRule)\n",
    "    elif len(bounds) == 8:\n",
    "        return quad4D(f, bounds, baseQuadRule)\n",
    "    else:\n",
    "        raise NotImplementedError"
   ]
  },
  {
   "cell_type": "markdown",
   "metadata": {},
   "source": [
    "## 2b"
   ]
  },
  {
   "cell_type": "code",
   "execution_count": 268,
   "metadata": {
    "collapsed": true
   },
   "outputs": [],
   "source": [
    "def f(x, hilbert_mat=None):\n",
    "    \"\"\"\n",
    "    Allows for a cached Hilbert\\ matrix to be passed in, for perfomance reasons. \n",
    "    If not passed in, constructed at runtime\n",
    "    \"\"\"\n",
    "    if np.isscalar(x):\n",
    "        x = np.array([x])\n",
    "    if hilbert_mat is None:\n",
    "        hilbert_mat = hilbert(len(x))\n",
    "    return x.T.dot(hilbert_mat).dot(x)"
   ]
  },
  {
   "cell_type": "code",
   "execution_count": 269,
   "metadata": {
    "collapsed": true
   },
   "outputs": [],
   "source": [
    "def p(x_vec):\n",
    "    if np.isscalar(x_vec):\n",
    "        dim = 1\n",
    "    else:\n",
    "        dim = len(x_vec)\n",
    "    return (1/(2*np.pi)**(dim/2)) * np.exp(np.sum(-(x_vec**2)/2))"
   ]
  },
  {
   "cell_type": "code",
   "execution_count": 226,
   "metadata": {
    "collapsed": true
   },
   "outputs": [],
   "source": [
    "# Expectation value\n",
    "def g(x, hilbert_mat=None):\n",
    "    return f(x, hilbert_mat) * p(x)"
   ]
  },
  {
   "cell_type": "markdown",
   "metadata": {},
   "source": [
    "For a 1D (scalar), expect to get 1"
   ]
  },
  {
   "cell_type": "code",
   "execution_count": 229,
   "metadata": {},
   "outputs": [
    {
     "data": {
      "text/plain": [
       "0.999984559501709"
      ]
     },
     "execution_count": 229,
     "metadata": {},
     "output_type": "execute_result"
    }
   ],
   "source": [
    "quad_high_dim(g, [-5, 5], baseQuadratureRule)"
   ]
  },
  {
   "cell_type": "markdown",
   "metadata": {},
   "source": [
    "For 2D, expect to get 1.33333..."
   ]
  },
  {
   "cell_type": "code",
   "execution_count": 230,
   "metadata": {},
   "outputs": [
    {
     "data": {
      "text/plain": [
       "1.3333119816098895"
      ]
     },
     "execution_count": 230,
     "metadata": {},
     "output_type": "execute_result"
    }
   ],
   "source": [
    "quad_high_dim(g, [-5, 5, -5, 5], baseQuadratureRule)"
   ]
  },
  {
   "cell_type": "markdown",
   "metadata": {},
   "source": [
    "For 3D, expect to get 1.53333..."
   ]
  },
  {
   "cell_type": "code",
   "execution_count": 235,
   "metadata": {},
   "outputs": [
    {
     "data": {
      "text/plain": [
       "1.533307899800628"
      ]
     },
     "execution_count": 235,
     "metadata": {},
     "output_type": "execute_result"
    }
   ],
   "source": [
    "quad_high_dim(g, [-5, 5, -5, 5, -5, 5], baseQuadratureRule)"
   ]
  },
  {
   "cell_type": "markdown",
   "metadata": {},
   "source": [
    "Seems like the code is working as expected. Thus, move on to 4D. Note that this is SLOW"
   ]
  },
  {
   "cell_type": "markdown",
   "metadata": {},
   "source": [
    "## 2bi"
   ]
  },
  {
   "cell_type": "code",
   "execution_count": 238,
   "metadata": {},
   "outputs": [
    {
     "data": {
      "text/plain": [
       "1.6761617121244665"
      ]
     },
     "execution_count": 238,
     "metadata": {},
     "output_type": "execute_result"
    }
   ],
   "source": [
    "quad_high_dim(g, [-5, 5, -5, 5, -5, 5, -5, 5], baseQuadratureRule)"
   ]
  },
  {
   "cell_type": "markdown",
   "metadata": {},
   "source": [
    "## 2bii"
   ]
  },
  {
   "cell_type": "markdown",
   "metadata": {},
   "source": [
    "For the base quadrature, I used an absolute episilon and relative epsilon equal to 1.5e-8, about the default values. I also set the mac number of subintervals to be 50. Below are the results of timing the function."
   ]
  },
  {
   "cell_type": "code",
   "execution_count": 270,
   "metadata": {},
   "outputs": [
    {
     "name": "stdout",
     "output_type": "stream",
     "text": [
      "CPU times: user 7.59 ms, sys: 11 ms, total: 18.6 ms\n",
      "Wall time: 28 ms\n"
     ]
    },
    {
     "data": {
      "text/plain": [
       "0.999984559501709"
      ]
     },
     "execution_count": 270,
     "metadata": {},
     "output_type": "execute_result"
    }
   ],
   "source": [
    "%time quad_high_dim(g, [-5, 5], baseQuadratureRule)"
   ]
  },
  {
   "cell_type": "markdown",
   "metadata": {},
   "source": [
    "For 1D, the function completes in 28ms, not bad."
   ]
  },
  {
   "cell_type": "code",
   "execution_count": 271,
   "metadata": {},
   "outputs": [
    {
     "name": "stdout",
     "output_type": "stream",
     "text": [
      "CPU times: user 731 ms, sys: 38 ms, total: 769 ms\n",
      "Wall time: 988 ms\n"
     ]
    },
    {
     "data": {
      "text/plain": [
       "1.3333119816098895"
      ]
     },
     "execution_count": 271,
     "metadata": {},
     "output_type": "execute_result"
    }
   ],
   "source": [
    "%time quad_high_dim(g, [-5, 5, -5, 5], baseQuadratureRule)"
   ]
  },
  {
   "cell_type": "markdown",
   "metadata": {},
   "source": [
    "For 2D, the function completes in 988ms, still not bad, but we can see it is starting to grow fast..."
   ]
  },
  {
   "cell_type": "code",
   "execution_count": 272,
   "metadata": {},
   "outputs": [
    {
     "name": "stdout",
     "output_type": "stream",
     "text": [
      "CPU times: user 10.8 s, sys: 322 ms, total: 11.1 s\n",
      "Wall time: 11.7 s\n"
     ]
    },
    {
     "data": {
      "text/plain": [
       "1.533307899800628"
      ]
     },
     "execution_count": 272,
     "metadata": {},
     "output_type": "execute_result"
    }
   ],
   "source": [
    "%time quad_high_dim(g, [-5, 5, -5, 5, -5, 5], baseQuadratureRule)"
   ]
  },
  {
   "cell_type": "markdown",
   "metadata": {},
   "source": [
    "For 3D, now it's getting pretty long, at 11.7 seconds."
   ]
  },
  {
   "cell_type": "code",
   "execution_count": 273,
   "metadata": {},
   "outputs": [
    {
     "name": "stdout",
     "output_type": "stream",
     "text": [
      "CPU times: user 7min 58s, sys: 8.57 s, total: 8min 7s\n",
      "Wall time: 9min 11s\n"
     ]
    },
    {
     "data": {
      "text/plain": [
       "1.6761617121244665"
      ]
     },
     "execution_count": 273,
     "metadata": {},
     "output_type": "execute_result"
    }
   ],
   "source": [
    "%time quad_high_dim(g, [-5, 5, -5, 5, -5, 5, -5, 5], baseQuadratureRule)"
   ]
  },
  {
   "cell_type": "markdown",
   "metadata": {},
   "source": [
    "With 4D, the code becomes nearly unusable since it takes 9 minutes!"
   ]
  },
  {
   "cell_type": "markdown",
   "metadata": {},
   "source": [
    "## 2c"
   ]
  },
  {
   "cell_type": "code",
   "execution_count": 125,
   "metadata": {
    "collapsed": true
   },
   "outputs": [],
   "source": [
    "def four_estimate():\n",
    "    hilbert_mat = hilbert(4)\n",
    "    tot = np.zeros(int(1e6))\n",
    "    for i in range(len(tot)): \n",
    "        tot[i] = f(np.random.randn(4), hilbert_mat)\n",
    "    return np.mean(tot)"
   ]
  },
  {
   "cell_type": "code",
   "execution_count": 239,
   "metadata": {},
   "outputs": [
    {
     "name": "stdout",
     "output_type": "stream",
     "text": [
      "CPU times: user 6.78 s, sys: 132 ms, total: 6.91 s\n",
      "Wall time: 8.67 s\n",
      "0.00010793277732012996\n"
     ]
    }
   ],
   "source": [
    "%time expectation_4 = four_estimate()\n",
    "print(np.abs(1.6761617121244665 - expectation_4))"
   ]
  },
  {
   "cell_type": "markdown",
   "metadata": {},
   "source": [
    "With only 8.67 seconds of runtime, can get the same answer with 1e-4 accuracy. Monte Carlo to the rescue!"
   ]
  },
  {
   "cell_type": "code",
   "execution_count": 111,
   "metadata": {
    "collapsed": true
   },
   "outputs": [],
   "source": [
    "def twelve_estimate():\n",
    "    hilbert_mat = hilbert(12)\n",
    "    tot = np.zeros(int(1e6))\n",
    "    for i in range(len(tot)): \n",
    "        tot[i] = f(np.random.randn(12), hilbert_mat)\n",
    "    return np.mean(tot)"
   ]
  },
  {
   "cell_type": "code",
   "execution_count": 112,
   "metadata": {},
   "outputs": [
    {
     "name": "stdout",
     "output_type": "stream",
     "text": [
      "CPU times: user 3.05 s, sys: 38.1 ms, total: 3.09 s\n",
      "Wall time: 3.3 s\n",
      "6.972654658188304e-05\n"
     ]
    }
   ],
   "source": [
    "%time expectation_12 = twelve_estimate()\n",
    "print(np.abs(2.224352838648 - expectation_12))"
   ]
  },
  {
   "cell_type": "code",
   "execution_count": 113,
   "metadata": {
    "collapsed": true
   },
   "outputs": [],
   "source": [
    "def hundred_estimate():\n",
    "    hilbert_mat = hilbert(100)\n",
    "    tot = np.zeros(int(1e6))\n",
    "    for i in range(len(tot)): \n",
    "        tot[i] = f(np.random.randn(100), hilbert_mat)\n",
    "    return np.mean(tot)"
   ]
  },
  {
   "cell_type": "code",
   "execution_count": 114,
   "metadata": {},
   "outputs": [
    {
     "name": "stdout",
     "output_type": "stream",
     "text": [
      "CPU times: user 18.9 s, sys: 2.07 s, total: 21 s\n",
      "Wall time: 12.8 s\n",
      "0.0059789750588450374\n"
     ]
    }
   ],
   "source": [
    "%time expectation_100 = hundred_estimate()\n",
    "print(np.abs(3.284342189302 - expectation_100))"
   ]
  },
  {
   "cell_type": "markdown",
   "metadata": {},
   "source": [
    "The Monte Carlo method sacrifices some accuracy for a much, much faster runtime. For a dimension such as 100, it is simply infeasible to run the quadrature method due to the incredibly slow performance. Plus, with better hardware, a higher number of iterations can be run, and the accuracy would increase."
   ]
  },
  {
   "cell_type": "code",
   "execution_count": null,
   "metadata": {
    "collapsed": true
   },
   "outputs": [],
   "source": []
  }
 ],
 "metadata": {
  "file_extension": ".py",
  "kernelspec": {
   "display_name": "'Python Interactive'",
   "language": "python",
   "name": "bee71115-94e7-4627-a218-c085732df66e"
  },
  "language_info": {
   "codemirror_mode": {
    "name": "ipython",
    "version": 3
   },
   "file_extension": ".py",
   "mimetype": "text/x-python",
   "name": "python",
   "nbconvert_exporter": "python",
   "pygments_lexer": "ipython3",
   "version": "3.6.1"
  },
  "mimetype": "text/x-python",
  "name": "python",
  "npconvert_exporter": "python",
  "pygments_lexer": "ipython3",
  "version": 3
 },
 "nbformat": 4,
 "nbformat_minor": 2
}
