{
  "nbformat": 4,
  "nbformat_minor": 0,
  "metadata": {
    "colab": {
      "name": "HW10.ipynb",
      "provenance": [],
      "authorship_tag": "ABX9TyN3zPuaEJNjgDgMkID75YlV",
      "include_colab_link": true
    },
    "kernelspec": {
      "name": "python3",
      "display_name": "Python 3"
    }
  },
  "cells": [
    {
      "cell_type": "markdown",
      "metadata": {
        "id": "view-in-github",
        "colab_type": "text"
      },
      "source": [
        "<a href=\"https://colab.research.google.com/github/skhadem/numerical-analysis-class/blob/master/Homework/Solutions/HW10/hw10.ipynb\" target=\"_parent\"><img src=\"https://colab.research.google.com/assets/colab-badge.svg\" alt=\"Open In Colab\"/></a>"
      ]
    },
    {
      "cell_type": "code",
      "metadata": {
        "id": "CYyj7ILzsn9y"
      },
      "source": [
        "import numpy as np\n",
        "import matplotlib.pyplot as plt\n",
        "from scipy.interpolate import CubicHermiteSpline"
      ],
      "execution_count": 1,
      "outputs": []
    },
    {
      "cell_type": "code",
      "metadata": {
        "id": "e8RPkM5Wsr9e"
      },
      "source": [
        "# y'\n",
        "f = lambda t : np.cos(t)"
      ],
      "execution_count": 2,
      "outputs": []
    },
    {
      "cell_type": "code",
      "metadata": {
        "id": "RdldyQ5NVHj6"
      },
      "source": [
        "# True sol\n",
        "F = lambda t: np.sin(t)"
      ],
      "execution_count": 3,
      "outputs": []
    },
    {
      "cell_type": "markdown",
      "metadata": {
        "id": "yH2Luh8Zhq06"
      },
      "source": [
        "# Problem 2d"
      ]
    },
    {
      "cell_type": "code",
      "metadata": {
        "id": "RgU07C-TVa8u"
      },
      "source": [
        "def eq_4(f, F, tspan, y0, h=0.1, dense_output=False):\n",
        "  \"\"\"F should be the true solution\"\"\"\n",
        "  n = int( (tspan[1] - tspan[0])/h ) + 1\n",
        "\n",
        "  t, h = np.linspace(tspan[0],tspan[1], num=n, retstep=True)\n",
        "\n",
        "  w = np.zeros(n)\n",
        "  dydt = np.zeros(n)\n",
        "  w[0] = y0\n",
        "  w[1] = F(t[1]) # init using the true sol\n",
        "  dydt[0] = f(t[0])\n",
        "\n",
        "  for i in range(2, n):\n",
        "    dydt[i-1] = f(t[i-1])\n",
        "    w[i] = 4*w[i-1] - 3*w[i-2] - 2*h*dydt[i-2]\n",
        "\n",
        "  if dense_output is True:\n",
        "    sol = CubicHermiteSpline(t,w,dydt)\n",
        "    return t, w, sol\n",
        "  else:  \n",
        "    return t, w"
      ],
      "execution_count": 4,
      "outputs": []
    },
    {
      "cell_type": "code",
      "metadata": {
        "id": "CFoLkwy0aqGf"
      },
      "source": [
        "t_hist, w_hist, sol = eq_4(f, F, [0, 0.1], 0, h=1e-2, dense_output=True)"
      ],
      "execution_count": 5,
      "outputs": []
    },
    {
      "cell_type": "code",
      "metadata": {
        "colab": {
          "base_uri": "https://localhost:8080/",
          "height": 0
        },
        "id": "1MXtESLmcV43",
        "outputId": "e9a14c52-66a4-4e53-c8af-bf93ce42abfc"
      },
      "source": [
        "# Make sure the last value is 0.1097\n",
        "w_hist[-1]"
      ],
      "execution_count": 6,
      "outputs": [
        {
          "output_type": "execute_result",
          "data": {
            "text/plain": [
              "0.10967021821434067"
            ]
          },
          "metadata": {
            "tags": []
          },
          "execution_count": 6
        }
      ]
    },
    {
      "cell_type": "code",
      "metadata": {
        "id": "-NRbbe3ebfVm"
      },
      "source": [
        "def eq_5(f, F, tspan, y0, h=0.1, dense_output=False):\n",
        "  \"\"\"F should be the true solution\"\"\"\n",
        "  n = int( (tspan[1] - tspan[0])/h ) + 1\n",
        "\n",
        "  t, h = np.linspace(tspan[0],tspan[1], num=n, retstep=True)\n",
        "\n",
        "  w = np.zeros(n)\n",
        "  dydt = np.zeros(n)\n",
        "  w[0] = y0\n",
        "  w[1] = F(t[1])\n",
        "  dydt[0] = f(t[0])\n",
        "  dydt[1] = f(t[1])\n",
        "\n",
        "  for i in range(2, n):\n",
        "    dydt[i] = f(t[i])\n",
        "    w[i] = (4*w[i-1] - w[i-2] + 2*h*dydt[i])/3\n",
        "    \n",
        "  if dense_output is True:\n",
        "    sol = CubicHermiteSpline(t,w,dydt)\n",
        "    return t, w, sol\n",
        "  else:  \n",
        "    return t, w"
      ],
      "execution_count": 7,
      "outputs": []
    },
    {
      "cell_type": "code",
      "metadata": {
        "id": "KoZXN-rLbigI"
      },
      "source": [
        "t_hist, w_hist, sol = eq_5(f, F, [0, 0.1], 0, h=1e-2, dense_output=True)"
      ],
      "execution_count": 8,
      "outputs": []
    },
    {
      "cell_type": "code",
      "metadata": {
        "colab": {
          "base_uri": "https://localhost:8080/",
          "height": 0
        },
        "id": "PCQ6BK64eKXa",
        "outputId": "35271fda-8d56-4eee-b7e8-90ab1fe20796"
      },
      "source": [
        "# Make sure the last value is 0.0998\n",
        "w_hist[-1]"
      ],
      "execution_count": 9,
      "outputs": [
        {
          "output_type": "execute_result",
          "data": {
            "text/plain": [
              "0.09983058781258265"
            ]
          },
          "metadata": {
            "tags": []
          },
          "execution_count": 9
        }
      ]
    },
    {
      "cell_type": "markdown",
      "metadata": {
        "id": "PpTrBLIHimax"
      },
      "source": [
        "# Problem 2e"
      ]
    },
    {
      "cell_type": "markdown",
      "metadata": {
        "id": "SofpGuM8i5El"
      },
      "source": [
        "## Eq 4"
      ]
    },
    {
      "cell_type": "code",
      "metadata": {
        "colab": {
          "base_uri": "https://localhost:8080/",
          "height": 0
        },
        "id": "gWAj6LJxf81t",
        "outputId": "7ac01d4a-daf3-42f6-e1db-7251ca56e17c"
      },
      "source": [
        "hs = np.logspace(-2, -6, 10)\n",
        "errors = []\n",
        "true_sol = F(0.1)\n",
        "for h in hs:\n",
        "  _, w_hist = eq_4(f, F, [0, 0.1], 0, h=h, dense_output=False)\n",
        "  errors.append(np.abs(w_hist[-1] - true_sol))"
      ],
      "execution_count": 10,
      "outputs": [
        {
          "output_type": "stream",
          "text": [
            "/usr/local/lib/python3.6/dist-packages/ipykernel_launcher.py:15: RuntimeWarning: overflow encountered in double_scalars\n",
            "  from ipykernel import kernelapp as app\n",
            "/usr/local/lib/python3.6/dist-packages/ipykernel_launcher.py:15: RuntimeWarning: invalid value encountered in double_scalars\n",
            "  from ipykernel import kernelapp as app\n"
          ],
          "name": "stderr"
        }
      ]
    },
    {
      "cell_type": "code",
      "metadata": {
        "colab": {
          "base_uri": "https://localhost:8080/",
          "height": 389
        },
        "id": "3vkIgHSOeb3m",
        "outputId": "e6061cb0-4b1e-4056-b53f-d3566af10c17"
      },
      "source": [
        "plt.loglog(hs, errors)\n",
        "plt.loglog(hs, hs,'--',label='$O(h)$')\n",
        "plt.loglog(hs, hs**2,'--',label='$O(h^2)$')\n",
        "plt.grid()\n",
        "plt.legend()\n",
        "plt.ylabel('Error $|y(0.1) - w_n|$')\n",
        "plt.gca().invert_xaxis()\n",
        "plt.xlabel('$h \\propto n^{-1}$')\n",
        "plt.show()"
      ],
      "execution_count": 11,
      "outputs": [
        {
          "output_type": "stream",
          "text": [
            "/usr/local/lib/python3.6/dist-packages/matplotlib/ticker.py:2471: RuntimeWarning: overflow encountered in power\n",
            "  ticklocs = b ** decades\n",
            "/usr/local/lib/python3.6/dist-packages/matplotlib/ticker.py:2314: RuntimeWarning: invalid value encountered in double_scalars\n",
            "  return abs(x - np.round(x)) < atol\n",
            "/usr/local/lib/python3.6/dist-packages/matplotlib/ticker.py:1106: RuntimeWarning: invalid value encountered in double_scalars\n",
            "  coeff = round(x / b ** exponent)\n"
          ],
          "name": "stderr"
        },
        {
          "output_type": "display_data",
          "data": {
            "image/png": "[encoded data removed]",
            "text/plain": [
              "<Figure size 432x288 with 1 Axes>"
            ]
          },
          "metadata": {
            "tags": [],
            "needs_background": "light"
          }
        }
      ]
    },
    {
      "cell_type": "markdown",
      "metadata": {
        "id": "9Lpl31t2i7Vz"
      },
      "source": [
        "## Eq 5"
      ]
    },
    {
      "cell_type": "code",
      "metadata": {
        "id": "XOnH_Jk1f0T3"
      },
      "source": [
        "hs = np.logspace(-2, -6, 10)\n",
        "errors = []\n",
        "true_sol = F(0.1)\n",
        "for h in hs:\n",
        "  _, w_hist = eq_5(f, F, [0, 0.1], 0, h=h, dense_output=False)\n",
        "  errors.append(np.abs(w_hist[-1] - true_sol))"
      ],
      "execution_count": 12,
      "outputs": []
    },
    {
      "cell_type": "code",
      "metadata": {
        "colab": {
          "base_uri": "https://localhost:8080/",
          "height": 287
        },
        "id": "1khYc12bga_J",
        "outputId": "8262ed34-61e4-492c-ccaa-93628405caa2"
      },
      "source": [
        "plt.loglog(hs, errors, label='BD2')\n",
        "plt.loglog(hs, hs,'--',label='$O(h)$')\n",
        "plt.loglog(hs, hs**2,'--',label='$O(h^2)$')\n",
        "plt.loglog(hs, hs**3,'--',label='$O(h^3)$')\n",
        "plt.grid()\n",
        "plt.legend()\n",
        "plt.ylabel('Error $|y(0.1) - w_n|$')\n",
        "plt.gca().invert_xaxis()\n",
        "plt.xlabel('$h \\propto n^{-1}$')\n",
        "plt.show()"
      ],
      "execution_count": 13,
      "outputs": [
        {
          "output_type": "display_data",
          "data": {
            "image/png": "[encoded data removed]",
            "text/plain": [
              "<Figure size 432x288 with 1 Axes>"
            ]
          },
          "metadata": {
            "tags": [],
            "needs_background": "light"
          }
        }
      ]
    },
    {
      "cell_type": "code",
      "metadata": {
        "colab": {
          "base_uri": "https://localhost:8080/",
          "height": 0
        },
        "id": "SCtscwlzggCM",
        "outputId": "bba98f08-a85e-4ba1-b349-7c3c961e43c3"
      },
      "source": [
        "errors"
      ],
      "execution_count": 14,
      "outputs": [
        {
          "output_type": "execute_result",
          "data": {
            "text/plain": [
              "[2.8288342455023985e-06,\n",
              " 4.311423807412673e-07,\n",
              " 5.503464178824302e-08,\n",
              " 7.148907146814487e-09,\n",
              " 9.251516636110679e-10,\n",
              " 1.195011173349414e-10,\n",
              " 1.5445103529465598e-11,\n",
              " 1.9935719741681623e-12,\n",
              " 2.5579538487363607e-13,\n",
              " 3.895495037653518e-14]"
            ]
          },
          "metadata": {
            "tags": []
          },
          "execution_count": 14
        }
      ]
    },
    {
      "cell_type": "code",
      "metadata": {
        "colab": {
          "base_uri": "https://localhost:8080/",
          "height": 0
        },
        "id": "NtBoBaEYiFbE",
        "outputId": "12b119b9-fa8d-4082-cfb3-bc290074ace0"
      },
      "source": [
        "hs"
      ],
      "execution_count": 15,
      "outputs": [
        {
          "output_type": "execute_result",
          "data": {
            "text/plain": [
              "array([1.00000000e-02, 3.59381366e-03, 1.29154967e-03, 4.64158883e-04,\n",
              "       1.66810054e-04, 5.99484250e-05, 2.15443469e-05, 7.74263683e-06,\n",
              "       2.78255940e-06, 1.00000000e-06])"
            ]
          },
          "metadata": {
            "tags": []
          },
          "execution_count": 15
        }
      ]
    },
    {
      "cell_type": "code",
      "metadata": {
        "id": "J2F5F9z2iLAB"
      },
      "source": [
        ""
      ],
      "execution_count": 15,
      "outputs": []
    },
    {
      "cell_type": "markdown",
      "metadata": {
        "id": "J4EPwYtaiMN8"
      },
      "source": [
        "An error of $10^{-10}$ occurs after h gets smaller than $10^{-4}$"
      ]
    },
    {
      "cell_type": "markdown",
      "metadata": {
        "id": "eWTaSt_6itwG"
      },
      "source": [
        "# Problem 1f\n",
        "\n",
        "As expected, the first method (eq 4) is not stable. This leads to the error blowing up. The second (implicit) method is stable, so it converges at approximately $\\mathcal{O}(h^2.5)$"
      ]
    },
    {
      "cell_type": "code",
      "metadata": {
        "id": "M6AGTTI5jF-_"
      },
      "source": [
        ""
      ],
      "execution_count": 15,
      "outputs": []
    }
  ]
}