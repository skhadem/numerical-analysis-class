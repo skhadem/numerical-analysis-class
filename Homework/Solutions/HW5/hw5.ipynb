{
 "nbformat": 4,
 "nbformat_minor": 2,
 "metadata": {
  "language_info": {
   "name": "python",
   "codemirror_mode": {
    "name": "ipython",
    "version": 3
   },
   "version": "3.6.1-final"
  },
  "orig_nbformat": 2,
  "file_extension": ".py",
  "mimetype": "text/x-python",
  "name": "python",
  "npconvert_exporter": "python",
  "pygments_lexer": "ipython3",
  "version": 3,
  "kernelspec": {
   "name": "bee71115-94e7-4627-a218-c085732df66e",
   "display_name": "'Python Interactive'"
  }
 },
 "cells": [
  {
   "cell_type": "markdown",
   "metadata": {},
   "source": [
    "# Problem 2"
   ]
  },
  {
   "cell_type": "code",
   "execution_count": 3,
   "metadata": {},
   "outputs": [],
   "source": [
    "import numpy as np"
   ]
  },
  {
   "cell_type": "code",
   "execution_count": 1,
   "metadata": {},
   "outputs": [],
   "source": [
    "f = lambda x : np.exp(3*x)\n",
    "f_prime = lambda x : 3*np.exp(3*x)"
   ]
  },
  {
   "cell_type": "code",
   "execution_count": 2,
   "metadata": {},
   "outputs": [],
   "source": [
    "# 7 point formula: (-1, 9, -45, 0, 45, -9, 1) / 60\n",
    "finite_diff = lambda f, x, h : (-f(x-3*h) + 9*f(x-2*h) - 45*f(x-h) + 45*f(x+h) - 9*f(x+2*h) + f(x+3*h)) / (60*h)"
   ]
  },
  {
   "cell_type": "code",
   "execution_count": 4,
   "metadata": {},
   "outputs": [
    {
     "output_type": "execute_result",
     "data": {
      "text/plain": "1.6608936448392342e-13"
     },
     "metadata": {},
     "execution_count": 4
    }
   ],
   "source": [
    "x0 = 0.3\n",
    "h = 0.001\n",
    "np.abs(finite_diff(f, x0, h) - f_prime(x0))"
   ]
  },
  {
   "cell_type": "markdown",
   "metadata": {},
   "source": [
    "Using 7-point finitie difference with step size of 0.001, get a low enough absolute error (1.66e-13)"
   ]
  },
  {
   "cell_type": "code",
   "execution_count": null,
   "metadata": {},
   "outputs": [],
   "source": []
  }
 ]
}